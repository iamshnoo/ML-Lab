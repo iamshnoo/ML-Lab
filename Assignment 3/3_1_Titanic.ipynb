{
 "cells": [
  {
   "cell_type": "code",
   "execution_count": 1,
   "metadata": {
    "colab": {},
    "colab_type": "code",
    "id": "fjQVzB9Xa8le"
   },
   "outputs": [],
   "source": [
    "from IPython.core.display import display,HTML"
   ]
  },
  {
   "cell_type": "code",
   "execution_count": 2,
   "metadata": {
    "colab": {
     "base_uri": "https://localhost:8080/",
     "height": 17
    },
    "colab_type": "code",
    "id": "kCMjll9OuJG2",
    "outputId": "a82ae5a7-35e5-4fb7-8019-3f6beea2384c"
   },
   "outputs": [
    {
     "data": {
      "text/html": [
       "<script>\n",
       "    hideInput = () => $('div.input').hide();\n",
       "</script>\n",
       "<body onload=\"javascript:hideInput()\"></body>"
      ],
      "text/plain": [
       "<IPython.core.display.HTML object>"
      ]
     },
     "execution_count": 2,
     "metadata": {},
     "output_type": "execute_result"
    }
   ],
   "source": [
    "HTML('''<script>\n",
    "    hideInput = () => $('div.input').hide();\n",
    "</script>\n",
    "<body onload=\"javascript:hideInput()\"></body>''')"
   ]
  },
  {
   "cell_type": "code",
   "execution_count": 3,
   "metadata": {
    "colab": {
     "base_uri": "https://localhost:8080/",
     "height": 17
    },
    "colab_type": "code",
    "id": "upHIanjZuKnR",
    "outputId": "e683fc3d-4a5f-4453-e74a-ae302380b2a1"
   },
   "outputs": [
    {
     "data": {
      "text/html": [
       "<style>.prompt{width: 0px; min-width: 0px; visibility: collapse}</style>"
      ],
      "text/plain": [
       "<IPython.core.display.HTML object>"
      ]
     },
     "metadata": {},
     "output_type": "display_data"
    }
   ],
   "source": [
    "display(HTML('<style>.prompt{width: 0px; min-width: 0px; visibility: collapse}</style>'))"
   ]
  },
  {
   "cell_type": "markdown",
   "metadata": {
    "colab_type": "text",
    "id": "5xBX4nvSuIfD"
   },
   "source": [
    "# Assignment 3 - Part 1\n",
    "\n",
    "Link to questions - [here](https://docs.google.com/document/d/1enoohnv9pHCYb3EJJ4colU6zWlfxf8sciVJr3_mBYxg/edit?usp=sharing)"
   ]
  },
  {
   "cell_type": "markdown",
   "metadata": {
    "colab_type": "text",
    "id": "1GlGRWcpuDVt"
   },
   "source": [
    "***Student Details:***\n",
    "\n",
    "- Name : Anjishnu Mukherjee\n",
    "- Registration Number : B05-511017020\n",
    "- Class Roll Number : CS Gy-70\n",
    "- Exam Roll Number : 510517086\n",
    "- Email : 511017020.anjishnu@students.iiests.ac.in"
   ]
  },
  {
   "cell_type": "markdown",
   "metadata": {
    "colab_type": "text",
    "id": "OeWXCeDlrX6R"
   },
   "source": [
    "# Project Setup"
   ]
  },
  {
   "cell_type": "markdown",
   "metadata": {
    "colab_type": "text",
    "id": "La15qihuoPE6"
   },
   "source": [
    "### Mount Google Drive"
   ]
  },
  {
   "cell_type": "code",
   "execution_count": 4,
   "metadata": {
    "colab": {
     "base_uri": "https://localhost:8080/",
     "height": 54
    },
    "colab_type": "code",
    "id": "pjK2Uvizbv1H",
    "outputId": "0c8ccd1c-d449-4646-9f09-208b52b2e3f0"
   },
   "outputs": [
    {
     "name": "stdout",
     "output_type": "stream",
     "text": [
      "Mounted at /content/drive/\n"
     ]
    }
   ],
   "source": [
    "from google.colab import drive\n",
    "drive.mount('/content/drive/', force_remount=True)"
   ]
  },
  {
   "cell_type": "markdown",
   "metadata": {
    "colab_type": "text",
    "id": "rUzHuSa9oW6G"
   },
   "source": [
    "### Load libraries, set seed"
   ]
  },
  {
   "cell_type": "code",
   "execution_count": 5,
   "metadata": {
    "colab": {},
    "colab_type": "code",
    "id": "TsH05Js8PGhZ"
   },
   "outputs": [],
   "source": [
    "%%capture\n",
    "import platform\n",
    "import random\n",
    "import os\n",
    "import sys\n",
    "from collections import OrderedDict  \n",
    "import numpy as np \n",
    "import pandas as pd \n",
    "import seaborn as sns  \n",
    "import matplotlib\n",
    "import matplotlib.pyplot as plt\n",
    "import sklearn\n",
    "from sklearn.linear_model import LogisticRegression\n",
    "from sklearn.tree import DecisionTreeClassifier\n",
    "from sklearn.model_selection import train_test_split\n",
    "from sklearn.metrics import confusion_matrix\n",
    "from sklearn.metrics import classification_report\n",
    "\n",
    "def get_lib_versions():\n",
    "  print(\"------------------------------------\")\n",
    "  output = OrderedDict()\n",
    "  output[\"OS\"] = platform.platform()\n",
    "  output[\"Python version\"] = sys.version.replace(\"\\n\", \" \")\n",
    "  output[\"Numpy version\"] = np.version.full_version\n",
    "  output[\"Pandas version\"] = pd.__version__\n",
    "  output[\"Matplotlib version\"] = matplotlib.__version__\n",
    "  output[\"Seaborn version\"] = sns.__version__\n",
    "  output[\"Scikitlearn version\"] = sklearn.__version__\n",
    "  for kv in output.items():\n",
    "    print(\"%s: %s\" % kv)\n",
    "  print(\"------------------------------------\")\n",
    "\n",
    "def fix_seeds(seed=1337):\n",
    "  SEED = seed\n",
    "  random.seed(SEED)\n",
    "  os.environ['PYTHONHASHSEED'] = str(SEED)\n",
    "  np.random.seed(SEED)\n",
    "  plt.rcParams['figure.figsize'] = (7.0, 7.0) \n",
    "  plt.rcParams['figure.dpi'] = 90  \n",
    "  sns.set_style(\"dark\")\n",
    "  sns.set_context(\"paper\")\n",
    "  sns.set_palette(\"colorblind\")\n",
    "  print(\"Global Seed : \", SEED)\n",
    "  print(\"------------------------------------\")"
   ]
  },
  {
   "cell_type": "code",
   "execution_count": 6,
   "metadata": {
    "colab": {
     "base_uri": "https://localhost:8080/",
     "height": 245
    },
    "colab_type": "code",
    "id": "LbGCb-ufgEg7",
    "outputId": "3b75c312-ef9b-4229-c077-99a02a9073b2"
   },
   "outputs": [
    {
     "name": "stdout",
     "output_type": "stream",
     "text": [
      "Environment Information : \n",
      "------------------------------------\n",
      "OS: Linux-4.19.112+-x86_64-with-Ubuntu-18.04-bionic\n",
      "Python version: 3.6.9 (default, Jul 17 2020, 12:50:27)  [GCC 8.4.0]\n",
      "Numpy version: 1.18.5\n",
      "Pandas version: 1.0.5\n",
      "Matplotlib version: 3.2.2\n",
      "Seaborn version: 0.10.1\n",
      "Scikitlearn version: 0.22.2.post1\n",
      "------------------------------------\n",
      "Global Seed :  5\n",
      "------------------------------------\n"
     ]
    }
   ],
   "source": [
    "print(\"Environment Information : \")\n",
    "get_lib_versions()\n",
    "fix_seeds(5 )"
   ]
  },
  {
   "cell_type": "code",
   "execution_count": 7,
   "metadata": {
    "colab": {},
    "colab_type": "code",
    "id": "yJgeZq8d12Yr"
   },
   "outputs": [],
   "source": [
    "def Classification(model, clf_name, print_result):\n",
    "    random_state = np.random.RandomState(5)\n",
    "\n",
    "    # train the model\n",
    "    model.fit(X_train, y_train)   \n",
    "\n",
    "    # calculate accuracy scores\n",
    "    score_train, score_test = model.score(X_train, y_train)*100, model.score(X_test, y_test)*100\n",
    "\n",
    "    # get predictions on Test-set\n",
    "    y_pred = model.predict(X_test)\n",
    "\n",
    "    # confusion matrix \n",
    "    cm = confusion_matrix(y_test, y_pred)\n",
    "\n",
    "    # classification report\n",
    "    cr = classification_report(y_test, y_pred)\n",
    "\n",
    "    if print_result:\n",
    "        # Calculating the accuracies\n",
    "        print('--- '+clf_name+' ---')\n",
    "\n",
    "        # Print confusion matrix\n",
    "        plt.rcParams['figure.figsize'] = (4, 4)\n",
    "        sns.heatmap(cm, annot = True)\n",
    "        plt.title('Confusion Matrix', fontsize = 14)\n",
    "        plt.show()\n",
    "        print(cr)\n",
    "        print(\"------------------------------------------------\")\n",
    "        print('Training accuracy: %.2f [%%] \\nTest accuracy :     %.2f [%%]\\n'%(score_train, score_test))      \n",
    "    return model, cr"
   ]
  },
  {
   "cell_type": "code",
   "execution_count": 8,
   "metadata": {
    "colab": {},
    "colab_type": "code",
    "id": "BfwAtpwE3Hfd"
   },
   "outputs": [],
   "source": [
    "# C = {0.1, 0.25, 0.5,  0.75, 0.9}\n",
    "# max_depth = {3, 5, 7, 9, 11} # any 5 numbers\n",
    "\n",
    "clf_dict = dict()         \n",
    "clf_dict[0] = LogisticRegression(penalty='l2', max_iter=10000, random_state=5, C=0.1)\n",
    "clf_dict[1] = LogisticRegression(penalty='l2', max_iter=10000, random_state=5, C=0.25)\n",
    "clf_dict[2] = LogisticRegression(penalty='l2', max_iter=10000, random_state=5, C=0.5)\n",
    "clf_dict[3] = LogisticRegression(penalty='l2', max_iter=10000, random_state=5, C=0.75)\n",
    "clf_dict[4] = LogisticRegression(penalty='l2', max_iter=10000, random_state=5, C=0.9)\n",
    "clf_dict[5] = DecisionTreeClassifier(random_state=5, max_depth=3)\n",
    "clf_dict[6] = DecisionTreeClassifier(random_state=5, max_depth=5)\n",
    "clf_dict[7] = DecisionTreeClassifier(random_state=5, max_depth=7)\n",
    "clf_dict[8] = DecisionTreeClassifier(random_state=5, max_depth=9)\n",
    "clf_dict[9] = DecisionTreeClassifier(random_state=5, max_depth=11)\n",
    "\n",
    "clf_names = ['clf1', 'clf2', 'clf3', 'clf4', 'clf5', 'clf6', 'clf7', 'clf8', 'clf9', 'clf10']"
   ]
  },
  {
   "cell_type": "markdown",
   "metadata": {
    "colab_type": "text",
    "id": "t_rpedq9A0Tr"
   },
   "source": [
    "# Titanic dataset\n",
    "\n",
    "[Link for data](https://www.kaggle.com/heptapod/titanic/version/1#)\n",
    "\n"
   ]
  },
  {
   "cell_type": "markdown",
   "metadata": {
    "colab_type": "text",
    "id": "34OvDQwn4R4E"
   },
   "source": [
    "### Pre-Processing"
   ]
  },
  {
   "cell_type": "markdown",
   "metadata": {
    "colab_type": "text",
    "id": "1xVQ_syHA0Tt"
   },
   "source": [
    "#### Original Data (not given in assignment)"
   ]
  },
  {
   "cell_type": "code",
   "execution_count": 9,
   "metadata": {
    "colab": {},
    "colab_type": "code",
    "id": "4GBC4eusA0Tt"
   },
   "outputs": [],
   "source": [
    "file_path = '/content/drive/My Drive/ML_LAB/Assign_3/titanic/' \n",
    "data_path = file_path + 'original.csv'"
   ]
  },
  {
   "cell_type": "code",
   "execution_count": 10,
   "metadata": {
    "colab": {
     "base_uri": "https://localhost:8080/",
     "height": 521
    },
    "colab_type": "code",
    "id": "t000sH4TA0Tv",
    "outputId": "252cd9df-7134-4c10-971c-6fbafe32e52f"
   },
   "outputs": [
    {
     "name": "stdout",
     "output_type": "stream",
     "text": [
      "Let's visualise the first 5 rows of the original training data.\n"
     ]
    },
    {
     "data": {
      "text/html": [
       "<div>\n",
       "<style scoped>\n",
       "    .dataframe tbody tr th:only-of-type {\n",
       "        vertical-align: middle;\n",
       "    }\n",
       "\n",
       "    .dataframe tbody tr th {\n",
       "        vertical-align: top;\n",
       "    }\n",
       "\n",
       "    .dataframe thead th {\n",
       "        text-align: right;\n",
       "    }\n",
       "</style>\n",
       "<table border=\"1\" class=\"dataframe\">\n",
       "  <thead>\n",
       "    <tr style=\"text-align: right;\">\n",
       "      <th></th>\n",
       "      <th>PassengerId</th>\n",
       "      <th>Survived</th>\n",
       "      <th>Pclass</th>\n",
       "      <th>Name</th>\n",
       "      <th>Sex</th>\n",
       "      <th>Age</th>\n",
       "      <th>SibSp</th>\n",
       "      <th>Parch</th>\n",
       "      <th>Ticket</th>\n",
       "      <th>Fare</th>\n",
       "      <th>Cabin</th>\n",
       "      <th>Embarked</th>\n",
       "    </tr>\n",
       "  </thead>\n",
       "  <tbody>\n",
       "    <tr>\n",
       "      <th>0</th>\n",
       "      <td>1</td>\n",
       "      <td>0</td>\n",
       "      <td>3</td>\n",
       "      <td>Braund, Mr. Owen Harris</td>\n",
       "      <td>male</td>\n",
       "      <td>22.0</td>\n",
       "      <td>1</td>\n",
       "      <td>0</td>\n",
       "      <td>A/5 21171</td>\n",
       "      <td>7.2500</td>\n",
       "      <td>NaN</td>\n",
       "      <td>S</td>\n",
       "    </tr>\n",
       "    <tr>\n",
       "      <th>1</th>\n",
       "      <td>2</td>\n",
       "      <td>1</td>\n",
       "      <td>1</td>\n",
       "      <td>Cumings, Mrs. John Bradley (Florence Briggs Th...</td>\n",
       "      <td>female</td>\n",
       "      <td>38.0</td>\n",
       "      <td>1</td>\n",
       "      <td>0</td>\n",
       "      <td>PC 17599</td>\n",
       "      <td>71.2833</td>\n",
       "      <td>C85</td>\n",
       "      <td>C</td>\n",
       "    </tr>\n",
       "    <tr>\n",
       "      <th>2</th>\n",
       "      <td>3</td>\n",
       "      <td>1</td>\n",
       "      <td>3</td>\n",
       "      <td>Heikkinen, Miss. Laina</td>\n",
       "      <td>female</td>\n",
       "      <td>26.0</td>\n",
       "      <td>0</td>\n",
       "      <td>0</td>\n",
       "      <td>STON/O2. 3101282</td>\n",
       "      <td>7.9250</td>\n",
       "      <td>NaN</td>\n",
       "      <td>S</td>\n",
       "    </tr>\n",
       "    <tr>\n",
       "      <th>3</th>\n",
       "      <td>4</td>\n",
       "      <td>1</td>\n",
       "      <td>1</td>\n",
       "      <td>Futrelle, Mrs. Jacques Heath (Lily May Peel)</td>\n",
       "      <td>female</td>\n",
       "      <td>35.0</td>\n",
       "      <td>1</td>\n",
       "      <td>0</td>\n",
       "      <td>113803</td>\n",
       "      <td>53.1000</td>\n",
       "      <td>C123</td>\n",
       "      <td>S</td>\n",
       "    </tr>\n",
       "    <tr>\n",
       "      <th>4</th>\n",
       "      <td>5</td>\n",
       "      <td>0</td>\n",
       "      <td>3</td>\n",
       "      <td>Allen, Mr. William Henry</td>\n",
       "      <td>male</td>\n",
       "      <td>35.0</td>\n",
       "      <td>0</td>\n",
       "      <td>0</td>\n",
       "      <td>373450</td>\n",
       "      <td>8.0500</td>\n",
       "      <td>NaN</td>\n",
       "      <td>S</td>\n",
       "    </tr>\n",
       "  </tbody>\n",
       "</table>\n",
       "</div>"
      ],
      "text/plain": [
       "   PassengerId  Survived  Pclass  ...     Fare Cabin  Embarked\n",
       "0            1         0       3  ...   7.2500   NaN         S\n",
       "1            2         1       1  ...  71.2833   C85         C\n",
       "2            3         1       3  ...   7.9250   NaN         S\n",
       "3            4         1       1  ...  53.1000  C123         S\n",
       "4            5         0       3  ...   8.0500   NaN         S\n",
       "\n",
       "[5 rows x 12 columns]"
      ]
     },
     "execution_count": 10,
     "metadata": {
      "tags": []
     },
     "output_type": "execute_result"
    }
   ],
   "source": [
    "dataset = pd.read_csv(data_path)\n",
    "print(\"Let's visualise the first 5 rows of the original training data.\")\n",
    "dataset.head() "
   ]
  },
  {
   "cell_type": "markdown",
   "metadata": {
    "colab_type": "text",
    "id": "89fN2H9DA0Tw"
   },
   "source": [
    "#### Pre-processed Data (given in assignment)"
   ]
  },
  {
   "cell_type": "markdown",
   "metadata": {
    "colab_type": "text",
    "id": "UxH-yKoAA0Tw"
   },
   "source": [
    "How is this different from original dataset?\n",
    "\n",
    "- Original train and test data have been merged.\n",
    "- The'ticket' and 'cabin' attributes have been removed.\n",
    "- The 'Survived' attribute has been moved to the last column, now misspelt as ```2urvived```.\n",
    "- Missing values in 'Age' and 'Fare' attributes have been replaced with the median of the data in those columns.\n",
    "- ```Sex``` attribute has been binarised.\n",
    "- ```Embarked``` attribute has been replaced with categorical values (```S-2, C-1, Other-0```)\n",
    "- Added extra zero columns for categorical inputs to be better suited for One-Hot-Encoding (I will be dropping these initially and creating dummy variables for the categorical features later.)\n"
   ]
  },
  {
   "cell_type": "code",
   "execution_count": 11,
   "metadata": {
    "colab": {},
    "colab_type": "code",
    "id": "3htRVeYsA0Tx"
   },
   "outputs": [],
   "source": [
    "file_path = '/content/drive/My Drive/ML_LAB/Assign_3/titanic/' \n",
    "data_path = file_path + 'data.csv'"
   ]
  },
  {
   "cell_type": "code",
   "execution_count": 12,
   "metadata": {
    "colab": {
     "base_uri": "https://localhost:8080/",
     "height": 244
    },
    "colab_type": "code",
    "id": "Le9pb_rtA0Ty",
    "outputId": "d44ee2a5-1204-4267-e946-d82723ee62bd"
   },
   "outputs": [
    {
     "name": "stdout",
     "output_type": "stream",
     "text": [
      "Let's visualise the first 5 rows of the pre-processed dataset.\n"
     ]
    },
    {
     "data": {
      "text/html": [
       "<div>\n",
       "<style scoped>\n",
       "    .dataframe tbody tr th:only-of-type {\n",
       "        vertical-align: middle;\n",
       "    }\n",
       "\n",
       "    .dataframe tbody tr th {\n",
       "        vertical-align: top;\n",
       "    }\n",
       "\n",
       "    .dataframe thead th {\n",
       "        text-align: right;\n",
       "    }\n",
       "</style>\n",
       "<table border=\"1\" class=\"dataframe\">\n",
       "  <thead>\n",
       "    <tr style=\"text-align: right;\">\n",
       "      <th></th>\n",
       "      <th>Passengerid</th>\n",
       "      <th>Age</th>\n",
       "      <th>Fare</th>\n",
       "      <th>Sex</th>\n",
       "      <th>sibsp</th>\n",
       "      <th>zero</th>\n",
       "      <th>zero.1</th>\n",
       "      <th>zero.2</th>\n",
       "      <th>zero.3</th>\n",
       "      <th>zero.4</th>\n",
       "      <th>zero.5</th>\n",
       "      <th>zero.6</th>\n",
       "      <th>Parch</th>\n",
       "      <th>zero.7</th>\n",
       "      <th>zero.8</th>\n",
       "      <th>zero.9</th>\n",
       "      <th>zero.10</th>\n",
       "      <th>zero.11</th>\n",
       "      <th>zero.12</th>\n",
       "      <th>zero.13</th>\n",
       "      <th>zero.14</th>\n",
       "      <th>Pclass</th>\n",
       "      <th>zero.15</th>\n",
       "      <th>zero.16</th>\n",
       "      <th>Embarked</th>\n",
       "      <th>zero.17</th>\n",
       "      <th>zero.18</th>\n",
       "      <th>2urvived</th>\n",
       "    </tr>\n",
       "  </thead>\n",
       "  <tbody>\n",
       "    <tr>\n",
       "      <th>0</th>\n",
       "      <td>1</td>\n",
       "      <td>22.0</td>\n",
       "      <td>7.2500</td>\n",
       "      <td>0</td>\n",
       "      <td>1</td>\n",
       "      <td>0</td>\n",
       "      <td>0</td>\n",
       "      <td>0</td>\n",
       "      <td>0</td>\n",
       "      <td>0</td>\n",
       "      <td>0</td>\n",
       "      <td>0</td>\n",
       "      <td>0</td>\n",
       "      <td>0</td>\n",
       "      <td>0</td>\n",
       "      <td>0</td>\n",
       "      <td>0</td>\n",
       "      <td>0</td>\n",
       "      <td>0</td>\n",
       "      <td>0</td>\n",
       "      <td>0</td>\n",
       "      <td>3</td>\n",
       "      <td>0</td>\n",
       "      <td>0</td>\n",
       "      <td>2.0</td>\n",
       "      <td>0</td>\n",
       "      <td>0</td>\n",
       "      <td>0</td>\n",
       "    </tr>\n",
       "    <tr>\n",
       "      <th>1</th>\n",
       "      <td>2</td>\n",
       "      <td>38.0</td>\n",
       "      <td>71.2833</td>\n",
       "      <td>1</td>\n",
       "      <td>1</td>\n",
       "      <td>0</td>\n",
       "      <td>0</td>\n",
       "      <td>0</td>\n",
       "      <td>0</td>\n",
       "      <td>0</td>\n",
       "      <td>0</td>\n",
       "      <td>0</td>\n",
       "      <td>0</td>\n",
       "      <td>0</td>\n",
       "      <td>0</td>\n",
       "      <td>0</td>\n",
       "      <td>0</td>\n",
       "      <td>0</td>\n",
       "      <td>0</td>\n",
       "      <td>0</td>\n",
       "      <td>0</td>\n",
       "      <td>1</td>\n",
       "      <td>0</td>\n",
       "      <td>0</td>\n",
       "      <td>0.0</td>\n",
       "      <td>0</td>\n",
       "      <td>0</td>\n",
       "      <td>1</td>\n",
       "    </tr>\n",
       "    <tr>\n",
       "      <th>2</th>\n",
       "      <td>3</td>\n",
       "      <td>26.0</td>\n",
       "      <td>7.9250</td>\n",
       "      <td>1</td>\n",
       "      <td>0</td>\n",
       "      <td>0</td>\n",
       "      <td>0</td>\n",
       "      <td>0</td>\n",
       "      <td>0</td>\n",
       "      <td>0</td>\n",
       "      <td>0</td>\n",
       "      <td>0</td>\n",
       "      <td>0</td>\n",
       "      <td>0</td>\n",
       "      <td>0</td>\n",
       "      <td>0</td>\n",
       "      <td>0</td>\n",
       "      <td>0</td>\n",
       "      <td>0</td>\n",
       "      <td>0</td>\n",
       "      <td>0</td>\n",
       "      <td>3</td>\n",
       "      <td>0</td>\n",
       "      <td>0</td>\n",
       "      <td>2.0</td>\n",
       "      <td>0</td>\n",
       "      <td>0</td>\n",
       "      <td>1</td>\n",
       "    </tr>\n",
       "    <tr>\n",
       "      <th>3</th>\n",
       "      <td>4</td>\n",
       "      <td>35.0</td>\n",
       "      <td>53.1000</td>\n",
       "      <td>1</td>\n",
       "      <td>1</td>\n",
       "      <td>0</td>\n",
       "      <td>0</td>\n",
       "      <td>0</td>\n",
       "      <td>0</td>\n",
       "      <td>0</td>\n",
       "      <td>0</td>\n",
       "      <td>0</td>\n",
       "      <td>0</td>\n",
       "      <td>0</td>\n",
       "      <td>0</td>\n",
       "      <td>0</td>\n",
       "      <td>0</td>\n",
       "      <td>0</td>\n",
       "      <td>0</td>\n",
       "      <td>0</td>\n",
       "      <td>0</td>\n",
       "      <td>1</td>\n",
       "      <td>0</td>\n",
       "      <td>0</td>\n",
       "      <td>2.0</td>\n",
       "      <td>0</td>\n",
       "      <td>0</td>\n",
       "      <td>1</td>\n",
       "    </tr>\n",
       "    <tr>\n",
       "      <th>4</th>\n",
       "      <td>5</td>\n",
       "      <td>35.0</td>\n",
       "      <td>8.0500</td>\n",
       "      <td>0</td>\n",
       "      <td>0</td>\n",
       "      <td>0</td>\n",
       "      <td>0</td>\n",
       "      <td>0</td>\n",
       "      <td>0</td>\n",
       "      <td>0</td>\n",
       "      <td>0</td>\n",
       "      <td>0</td>\n",
       "      <td>0</td>\n",
       "      <td>0</td>\n",
       "      <td>0</td>\n",
       "      <td>0</td>\n",
       "      <td>0</td>\n",
       "      <td>0</td>\n",
       "      <td>0</td>\n",
       "      <td>0</td>\n",
       "      <td>0</td>\n",
       "      <td>3</td>\n",
       "      <td>0</td>\n",
       "      <td>0</td>\n",
       "      <td>2.0</td>\n",
       "      <td>0</td>\n",
       "      <td>0</td>\n",
       "      <td>0</td>\n",
       "    </tr>\n",
       "  </tbody>\n",
       "</table>\n",
       "</div>"
      ],
      "text/plain": [
       "   Passengerid   Age     Fare  Sex  ...  Embarked  zero.17  zero.18  2urvived\n",
       "0            1  22.0   7.2500    0  ...       2.0        0        0         0\n",
       "1            2  38.0  71.2833    1  ...       0.0        0        0         1\n",
       "2            3  26.0   7.9250    1  ...       2.0        0        0         1\n",
       "3            4  35.0  53.1000    1  ...       2.0        0        0         1\n",
       "4            5  35.0   8.0500    0  ...       2.0        0        0         0\n",
       "\n",
       "[5 rows x 28 columns]"
      ]
     },
     "execution_count": 12,
     "metadata": {
      "tags": []
     },
     "output_type": "execute_result"
    }
   ],
   "source": [
    "dataset = pd.read_csv(data_path)\n",
    "print(\"Let's visualise the first 5 rows of the pre-processed dataset.\")\n",
    "dataset.head() "
   ]
  },
  {
   "cell_type": "code",
   "execution_count": 13,
   "metadata": {
    "colab": {
     "base_uri": "https://localhost:8080/",
     "height": 557
    },
    "colab_type": "code",
    "id": "kjREh3Psk_cu",
    "outputId": "8243af7a-8b70-446f-a41e-4fe308f52875"
   },
   "outputs": [
    {
     "name": "stdout",
     "output_type": "stream",
     "text": [
      "The number of NaN values in this dataframe : \n",
      "Passengerid    0\n",
      "Age            0\n",
      "Fare           0\n",
      "Sex            0\n",
      "sibsp          0\n",
      "zero           0\n",
      "zero.1         0\n",
      "zero.2         0\n",
      "zero.3         0\n",
      "zero.4         0\n",
      "zero.5         0\n",
      "zero.6         0\n",
      "Parch          0\n",
      "zero.7         0\n",
      "zero.8         0\n",
      "zero.9         0\n",
      "zero.10        0\n",
      "zero.11        0\n",
      "zero.12        0\n",
      "zero.13        0\n",
      "zero.14        0\n",
      "Pclass         0\n",
      "zero.15        0\n",
      "zero.16        0\n",
      "Embarked       2\n",
      "zero.17        0\n",
      "zero.18        0\n",
      "2urvived       0\n",
      "dtype: int64\n"
     ]
    }
   ],
   "source": [
    "print(\"The number of NaN values in this dataframe : \")\n",
    "print(len(dataset) - dataset.count())"
   ]
  },
  {
   "cell_type": "markdown",
   "metadata": {
    "colab_type": "text",
    "id": "lrDMNwlglHYL"
   },
   "source": [
    "As discussd previously, I will be one-hot encoding the categorical values below. So, all the columns with 0s will be dropped for now. Also, do note that there are no NaN values in this table. So, that requires no extra processing than what has been mentioned in the note above."
   ]
  },
  {
   "cell_type": "markdown",
   "metadata": {
    "colab_type": "text",
    "id": "7C5sl4XnA0T1"
   },
   "source": [
    "#### Let's choose the relevant columns initially.\n",
    "\n",
    "- ```cols = [\"Age\", \"Fare\", \"Sex\", \"sibsp\", \"Parch\", \"Pclass\", \"Embarked\", \"2urvived\"]```"
   ]
  },
  {
   "cell_type": "code",
   "execution_count": 14,
   "metadata": {
    "colab": {},
    "colab_type": "code",
    "id": "p2MIYYiAA0T1"
   },
   "outputs": [],
   "source": [
    "cols = [\"Age\", \"Fare\", \"Sex\", \"sibsp\", \"Parch\", \"Pclass\", \"Embarked\", \"2urvived\"]\n",
    "dataset = dataset[cols]"
   ]
  },
  {
   "cell_type": "markdown",
   "metadata": {
    "colab_type": "text",
    "id": "_cIN25bzA0T2"
   },
   "source": [
    "#### Next, let's fix the typo in the column name for 'Survived', which is the class label"
   ]
  },
  {
   "cell_type": "code",
   "execution_count": 15,
   "metadata": {
    "colab": {
     "base_uri": "https://localhost:8080/",
     "height": 226
    },
    "colab_type": "code",
    "id": "CUGY4HpMA0T3",
    "outputId": "a491a8c8-3945-4e5b-816b-b52310e709a0"
   },
   "outputs": [
    {
     "data": {
      "text/html": [
       "<div>\n",
       "<style scoped>\n",
       "    .dataframe tbody tr th:only-of-type {\n",
       "        vertical-align: middle;\n",
       "    }\n",
       "\n",
       "    .dataframe tbody tr th {\n",
       "        vertical-align: top;\n",
       "    }\n",
       "\n",
       "    .dataframe thead th {\n",
       "        text-align: right;\n",
       "    }\n",
       "</style>\n",
       "<table border=\"1\" class=\"dataframe\">\n",
       "  <thead>\n",
       "    <tr style=\"text-align: right;\">\n",
       "      <th></th>\n",
       "      <th>Age</th>\n",
       "      <th>Fare</th>\n",
       "      <th>Sex</th>\n",
       "      <th>sibsp</th>\n",
       "      <th>Parch</th>\n",
       "      <th>Pclass</th>\n",
       "      <th>Embarked</th>\n",
       "      <th>Survived</th>\n",
       "    </tr>\n",
       "  </thead>\n",
       "  <tbody>\n",
       "    <tr>\n",
       "      <th>0</th>\n",
       "      <td>22.0</td>\n",
       "      <td>7.2500</td>\n",
       "      <td>0</td>\n",
       "      <td>1</td>\n",
       "      <td>0</td>\n",
       "      <td>3</td>\n",
       "      <td>2.0</td>\n",
       "      <td>0</td>\n",
       "    </tr>\n",
       "    <tr>\n",
       "      <th>1</th>\n",
       "      <td>38.0</td>\n",
       "      <td>71.2833</td>\n",
       "      <td>1</td>\n",
       "      <td>1</td>\n",
       "      <td>0</td>\n",
       "      <td>1</td>\n",
       "      <td>0.0</td>\n",
       "      <td>1</td>\n",
       "    </tr>\n",
       "    <tr>\n",
       "      <th>2</th>\n",
       "      <td>26.0</td>\n",
       "      <td>7.9250</td>\n",
       "      <td>1</td>\n",
       "      <td>0</td>\n",
       "      <td>0</td>\n",
       "      <td>3</td>\n",
       "      <td>2.0</td>\n",
       "      <td>1</td>\n",
       "    </tr>\n",
       "    <tr>\n",
       "      <th>3</th>\n",
       "      <td>35.0</td>\n",
       "      <td>53.1000</td>\n",
       "      <td>1</td>\n",
       "      <td>1</td>\n",
       "      <td>0</td>\n",
       "      <td>1</td>\n",
       "      <td>2.0</td>\n",
       "      <td>1</td>\n",
       "    </tr>\n",
       "    <tr>\n",
       "      <th>4</th>\n",
       "      <td>35.0</td>\n",
       "      <td>8.0500</td>\n",
       "      <td>0</td>\n",
       "      <td>0</td>\n",
       "      <td>0</td>\n",
       "      <td>3</td>\n",
       "      <td>2.0</td>\n",
       "      <td>0</td>\n",
       "    </tr>\n",
       "  </tbody>\n",
       "</table>\n",
       "</div>"
      ],
      "text/plain": [
       "    Age     Fare  Sex  sibsp  Parch  Pclass  Embarked  Survived\n",
       "0  22.0   7.2500    0      1      0       3       2.0         0\n",
       "1  38.0  71.2833    1      1      0       1       0.0         1\n",
       "2  26.0   7.9250    1      0      0       3       2.0         1\n",
       "3  35.0  53.1000    1      1      0       1       2.0         1\n",
       "4  35.0   8.0500    0      0      0       3       2.0         0"
      ]
     },
     "execution_count": 15,
     "metadata": {
      "tags": []
     },
     "output_type": "execute_result"
    }
   ],
   "source": [
    "dataset.columns = ['Survived' if x=='2urvived' else x for x in dataset.columns]\n",
    "dataset.head()"
   ]
  },
  {
   "cell_type": "markdown",
   "metadata": {
    "colab_type": "text",
    "id": "rUQfJeiPA0T4"
   },
   "source": [
    "#### Now, let's create dummy variables for the following categorical columns\n",
    "\n",
    "- ```Sex```\n",
    "- ```sibsp```\n",
    "- ```Parch```\n",
    "- ```Pclass```\n",
    "- ```Embarked```"
   ]
  },
  {
   "cell_type": "code",
   "execution_count": 16,
   "metadata": {
    "colab": {
     "base_uri": "https://localhost:8080/",
     "height": 244
    },
    "colab_type": "code",
    "id": "5zX5Q2EtA0T4",
    "outputId": "e02ccdf3-e71f-4142-9a86-5e1a2a408fbb"
   },
   "outputs": [
    {
     "name": "stdout",
     "output_type": "stream",
     "text": [
      "Dataset after one hot encoding is done for categorical columns:\n"
     ]
    },
    {
     "data": {
      "text/html": [
       "<div>\n",
       "<style scoped>\n",
       "    .dataframe tbody tr th:only-of-type {\n",
       "        vertical-align: middle;\n",
       "    }\n",
       "\n",
       "    .dataframe tbody tr th {\n",
       "        vertical-align: top;\n",
       "    }\n",
       "\n",
       "    .dataframe thead th {\n",
       "        text-align: right;\n",
       "    }\n",
       "</style>\n",
       "<table border=\"1\" class=\"dataframe\">\n",
       "  <thead>\n",
       "    <tr style=\"text-align: right;\">\n",
       "      <th></th>\n",
       "      <th>Age</th>\n",
       "      <th>Fare</th>\n",
       "      <th>Survived</th>\n",
       "      <th>Sex_0</th>\n",
       "      <th>Sex_1</th>\n",
       "      <th>sibsp_0</th>\n",
       "      <th>sibsp_1</th>\n",
       "      <th>sibsp_2</th>\n",
       "      <th>sibsp_3</th>\n",
       "      <th>sibsp_4</th>\n",
       "      <th>sibsp_5</th>\n",
       "      <th>sibsp_8</th>\n",
       "      <th>Parch_0</th>\n",
       "      <th>Parch_1</th>\n",
       "      <th>Parch_2</th>\n",
       "      <th>Parch_3</th>\n",
       "      <th>Parch_4</th>\n",
       "      <th>Parch_5</th>\n",
       "      <th>Parch_6</th>\n",
       "      <th>Parch_9</th>\n",
       "      <th>Pclass_1</th>\n",
       "      <th>Pclass_2</th>\n",
       "      <th>Pclass_3</th>\n",
       "      <th>Embarked_0.0</th>\n",
       "      <th>Embarked_1.0</th>\n",
       "      <th>Embarked_2.0</th>\n",
       "    </tr>\n",
       "  </thead>\n",
       "  <tbody>\n",
       "    <tr>\n",
       "      <th>0</th>\n",
       "      <td>22.0</td>\n",
       "      <td>7.2500</td>\n",
       "      <td>0</td>\n",
       "      <td>1</td>\n",
       "      <td>0</td>\n",
       "      <td>0</td>\n",
       "      <td>1</td>\n",
       "      <td>0</td>\n",
       "      <td>0</td>\n",
       "      <td>0</td>\n",
       "      <td>0</td>\n",
       "      <td>0</td>\n",
       "      <td>1</td>\n",
       "      <td>0</td>\n",
       "      <td>0</td>\n",
       "      <td>0</td>\n",
       "      <td>0</td>\n",
       "      <td>0</td>\n",
       "      <td>0</td>\n",
       "      <td>0</td>\n",
       "      <td>0</td>\n",
       "      <td>0</td>\n",
       "      <td>1</td>\n",
       "      <td>0</td>\n",
       "      <td>0</td>\n",
       "      <td>1</td>\n",
       "    </tr>\n",
       "    <tr>\n",
       "      <th>1</th>\n",
       "      <td>38.0</td>\n",
       "      <td>71.2833</td>\n",
       "      <td>1</td>\n",
       "      <td>0</td>\n",
       "      <td>1</td>\n",
       "      <td>0</td>\n",
       "      <td>1</td>\n",
       "      <td>0</td>\n",
       "      <td>0</td>\n",
       "      <td>0</td>\n",
       "      <td>0</td>\n",
       "      <td>0</td>\n",
       "      <td>1</td>\n",
       "      <td>0</td>\n",
       "      <td>0</td>\n",
       "      <td>0</td>\n",
       "      <td>0</td>\n",
       "      <td>0</td>\n",
       "      <td>0</td>\n",
       "      <td>0</td>\n",
       "      <td>1</td>\n",
       "      <td>0</td>\n",
       "      <td>0</td>\n",
       "      <td>1</td>\n",
       "      <td>0</td>\n",
       "      <td>0</td>\n",
       "    </tr>\n",
       "    <tr>\n",
       "      <th>2</th>\n",
       "      <td>26.0</td>\n",
       "      <td>7.9250</td>\n",
       "      <td>1</td>\n",
       "      <td>0</td>\n",
       "      <td>1</td>\n",
       "      <td>1</td>\n",
       "      <td>0</td>\n",
       "      <td>0</td>\n",
       "      <td>0</td>\n",
       "      <td>0</td>\n",
       "      <td>0</td>\n",
       "      <td>0</td>\n",
       "      <td>1</td>\n",
       "      <td>0</td>\n",
       "      <td>0</td>\n",
       "      <td>0</td>\n",
       "      <td>0</td>\n",
       "      <td>0</td>\n",
       "      <td>0</td>\n",
       "      <td>0</td>\n",
       "      <td>0</td>\n",
       "      <td>0</td>\n",
       "      <td>1</td>\n",
       "      <td>0</td>\n",
       "      <td>0</td>\n",
       "      <td>1</td>\n",
       "    </tr>\n",
       "    <tr>\n",
       "      <th>3</th>\n",
       "      <td>35.0</td>\n",
       "      <td>53.1000</td>\n",
       "      <td>1</td>\n",
       "      <td>0</td>\n",
       "      <td>1</td>\n",
       "      <td>0</td>\n",
       "      <td>1</td>\n",
       "      <td>0</td>\n",
       "      <td>0</td>\n",
       "      <td>0</td>\n",
       "      <td>0</td>\n",
       "      <td>0</td>\n",
       "      <td>1</td>\n",
       "      <td>0</td>\n",
       "      <td>0</td>\n",
       "      <td>0</td>\n",
       "      <td>0</td>\n",
       "      <td>0</td>\n",
       "      <td>0</td>\n",
       "      <td>0</td>\n",
       "      <td>1</td>\n",
       "      <td>0</td>\n",
       "      <td>0</td>\n",
       "      <td>0</td>\n",
       "      <td>0</td>\n",
       "      <td>1</td>\n",
       "    </tr>\n",
       "    <tr>\n",
       "      <th>4</th>\n",
       "      <td>35.0</td>\n",
       "      <td>8.0500</td>\n",
       "      <td>0</td>\n",
       "      <td>1</td>\n",
       "      <td>0</td>\n",
       "      <td>1</td>\n",
       "      <td>0</td>\n",
       "      <td>0</td>\n",
       "      <td>0</td>\n",
       "      <td>0</td>\n",
       "      <td>0</td>\n",
       "      <td>0</td>\n",
       "      <td>1</td>\n",
       "      <td>0</td>\n",
       "      <td>0</td>\n",
       "      <td>0</td>\n",
       "      <td>0</td>\n",
       "      <td>0</td>\n",
       "      <td>0</td>\n",
       "      <td>0</td>\n",
       "      <td>0</td>\n",
       "      <td>0</td>\n",
       "      <td>1</td>\n",
       "      <td>0</td>\n",
       "      <td>0</td>\n",
       "      <td>1</td>\n",
       "    </tr>\n",
       "  </tbody>\n",
       "</table>\n",
       "</div>"
      ],
      "text/plain": [
       "    Age     Fare  Survived  ...  Embarked_0.0  Embarked_1.0  Embarked_2.0\n",
       "0  22.0   7.2500         0  ...             0             0             1\n",
       "1  38.0  71.2833         1  ...             1             0             0\n",
       "2  26.0   7.9250         1  ...             0             0             1\n",
       "3  35.0  53.1000         1  ...             0             0             1\n",
       "4  35.0   8.0500         0  ...             0             0             1\n",
       "\n",
       "[5 rows x 26 columns]"
      ]
     },
     "execution_count": 16,
     "metadata": {
      "tags": []
     },
     "output_type": "execute_result"
    }
   ],
   "source": [
    "categorical_cols = [\"Sex\", \"sibsp\", \"Parch\", \"Pclass\", \"Embarked\"]\n",
    "one_hot_categorical_cols = pd.get_dummies(data=dataset, columns=categorical_cols)\n",
    "print(\"Dataset after one hot encoding is done for categorical columns:\")\n",
    "one_hot_categorical_cols.head()"
   ]
  },
  {
   "cell_type": "markdown",
   "metadata": {
    "colab_type": "text",
    "id": "wxkKkGZTmSQd"
   },
   "source": [
    "#### Also, let's consider the 2 non-categorical columns\n",
    "\n",
    "- ```Age```\n",
    "- ```Fare```"
   ]
  },
  {
   "cell_type": "code",
   "execution_count": 17,
   "metadata": {
    "colab": {
     "base_uri": "https://localhost:8080/",
     "height": 86
    },
    "colab_type": "code",
    "id": "TUJ3X35ZncB0",
    "outputId": "8400976f-3ad6-4392-86d0-ec9b14e62efc"
   },
   "outputs": [
    {
     "name": "stdout",
     "output_type": "stream",
     "text": [
      "Min Age : %d 0.17\n",
      "Max Age : %d 80.0\n",
      "Min Fare : %d 0.0\n",
      "Max Fare : %d 512.3292\n"
     ]
    }
   ],
   "source": [
    "column = one_hot_categorical_cols[\"Age\"]\n",
    "max_value = column.max()\n",
    "min_value = column.min()\n",
    "\n",
    "print(\"Min Age : %d\", min_value)\n",
    "print(\"Max Age : %d\", max_value)\n",
    "\n",
    "column = one_hot_categorical_cols[\"Fare\"]\n",
    "max_value = column.max()\n",
    "min_value = column.min()\n",
    "\n",
    "print(\"Min Fare : %d\", min_value)\n",
    "print(\"Max Fare : %d\", max_value)"
   ]
  },
  {
   "cell_type": "code",
   "execution_count": 18,
   "metadata": {
    "colab": {
     "base_uri": "https://localhost:8080/",
     "height": 549
    },
    "colab_type": "code",
    "id": "IYLlErpkpCBw",
    "outputId": "1052a2be-e6d2-463a-8c3d-01f0ee64fadd"
   },
   "outputs": [
    {
     "data": {
      "image/png": "[encoded data removed]",
      "text/plain": [
       "<Figure size 630x630 with 1 Axes>"
      ]
     },
     "metadata": {
      "tags": []
     },
     "output_type": "display_data"
    }
   ],
   "source": [
    "_ = sns.distplot(one_hot_categorical_cols[\"Age\"])"
   ]
  },
  {
   "cell_type": "markdown",
   "metadata": {
    "colab_type": "text",
    "id": "GpOOLPBn7hhq"
   },
   "source": [
    "Age clearly has a nearly normal distribution centered around approximately 30 years of age."
   ]
  },
  {
   "cell_type": "code",
   "execution_count": 19,
   "metadata": {
    "colab": {
     "base_uri": "https://localhost:8080/",
     "height": 549
    },
    "colab_type": "code",
    "id": "46MfGGtmpNG2",
    "outputId": "e06371f4-2418-4fd5-de91-58b23e24190e"
   },
   "outputs": [
    {
     "data": {
      "image/png": "[encoded data removed]",
      "text/plain": [
       "<Figure size 630x630 with 1 Axes>"
      ]
     },
     "metadata": {
      "tags": []
     },
     "output_type": "display_data"
    }
   ],
   "source": [
    "_ = sns.distplot(one_hot_categorical_cols[\"Fare\"])"
   ]
  },
  {
   "cell_type": "markdown",
   "metadata": {
    "colab_type": "text",
    "id": "x285K_Ys-uCu"
   },
   "source": [
    "Clearly, Fare isn't a normal distribution, as there are more people buying lower priced tickets, and very few people buying high priced tickets."
   ]
  },
  {
   "cell_type": "code",
   "execution_count": 20,
   "metadata": {
    "colab": {
     "base_uri": "https://localhost:8080/",
     "height": 173
    },
    "colab_type": "code",
    "id": "zKX6ABc478bZ",
    "outputId": "9083c168-f17c-400f-cacb-521f9d74e39f"
   },
   "outputs": [
    {
     "data": {
      "text/plain": [
       "count    1309.000000\n",
       "mean       33.281086\n",
       "std        51.741500\n",
       "min         0.000000\n",
       "25%         7.895800\n",
       "50%        14.454200\n",
       "75%        31.275000\n",
       "max       512.329200\n",
       "Name: Fare, dtype: float64"
      ]
     },
     "execution_count": 20,
     "metadata": {
      "tags": []
     },
     "output_type": "execute_result"
    }
   ],
   "source": [
    "fare = one_hot_categorical_cols[\"Fare\"]\n",
    "fare.describe()"
   ]
  },
  {
   "cell_type": "markdown",
   "metadata": {
    "colab_type": "text",
    "id": "7F8xikuS_DZ-"
   },
   "source": [
    "The minimum value is zero, so we can't apply a log-normalisation or a mean-std normalisation. Thus, I choose to use a min_max normalisation. <br>\n",
    "This will bring all the Fare values within the range ```[0, 1]```, though obviously it won't affect the nature of the curve above."
   ]
  },
  {
   "cell_type": "code",
   "execution_count": 21,
   "metadata": {
    "colab": {
     "base_uri": "https://localhost:8080/",
     "height": 173
    },
    "colab_type": "code",
    "id": "iVUYzOaS-fp7",
    "outputId": "878ba007-0aaf-4c08-9ddc-afeae79d934d"
   },
   "outputs": [
    {
     "data": {
      "text/plain": [
       "count    1309.000000\n",
       "mean        0.064960\n",
       "std         0.100993\n",
       "min         0.000000\n",
       "25%         0.015412\n",
       "50%         0.028213\n",
       "75%         0.061045\n",
       "max         1.000000\n",
       "Name: Fare, dtype: float64"
      ]
     },
     "execution_count": 21,
     "metadata": {
      "tags": []
     },
     "output_type": "execute_result"
    }
   ],
   "source": [
    "max_min_normalised_fare = (fare-fare.min())/(fare.max()-fare.min())\n",
    "max_min_normalised_fare.describe()"
   ]
  },
  {
   "cell_type": "code",
   "execution_count": 22,
   "metadata": {
    "colab": {
     "base_uri": "https://localhost:8080/",
     "height": 549
    },
    "colab_type": "code",
    "id": "lDHvDlKH9CoO",
    "outputId": "70bd78a2-c9a0-4a5e-99a9-234d5f95e0a0"
   },
   "outputs": [
    {
     "data": {
      "image/png": "[encoded data removed]",
      "text/plain": [
       "<Figure size 630x630 with 1 Axes>"
      ]
     },
     "metadata": {
      "tags": []
     },
     "output_type": "display_data"
    }
   ],
   "source": [
    "_ = sns.distplot(max_min_normalised_fare)"
   ]
  },
  {
   "cell_type": "markdown",
   "metadata": {
    "colab_type": "text",
    "id": "7pIJgaL-_lN9"
   },
   "source": [
    "As we can see, the nature of the curve remains the same, but the scale changes."
   ]
  },
  {
   "cell_type": "code",
   "execution_count": 23,
   "metadata": {
    "colab": {},
    "colab_type": "code",
    "id": "EpTdJz3M_p2f"
   },
   "outputs": [],
   "source": [
    "one_hot_categorical_cols[\"Fare\"] = max_min_normalised_fare"
   ]
  },
  {
   "cell_type": "code",
   "execution_count": 24,
   "metadata": {
    "colab": {
     "base_uri": "https://localhost:8080/",
     "height": 534
    },
    "colab_type": "code",
    "id": "IHoIW3BkqMNS",
    "outputId": "e6b0f6ba-f96c-4906-d395-ea0b6b6df08b"
   },
   "outputs": [
    {
     "data": {
      "image/png": "[encoded data removed]",
      "text/plain": [
       "<Figure size 630x630 with 2 Axes>"
      ]
     },
     "metadata": {
      "tags": []
     },
     "output_type": "display_data"
    }
   ],
   "source": [
    "non_categorical = one_hot_categorical_cols[[\"Age\", \"Fare\"]]\n",
    "cor = non_categorical.corr()\n",
    "sns.heatmap(cor, annot = True, center= 0, linewidth=0.5)\n",
    "plt.show()"
   ]
  },
  {
   "cell_type": "markdown",
   "metadata": {
    "colab_type": "text",
    "id": "Nv5COTTp7qqZ"
   },
   "source": [
    "There is very less correlation (0.18) between Age and Fare, so there is no meaning of dropping either."
   ]
  },
  {
   "cell_type": "code",
   "execution_count": 25,
   "metadata": {
    "colab": {
     "base_uri": "https://localhost:8080/",
     "height": 480
    },
    "colab_type": "code",
    "id": "8nDgT24Kqicc",
    "outputId": "a6681a1d-e7d0-4d19-f445-1da15eba3cd5"
   },
   "outputs": [
    {
     "data": {
      "image/png": "[encoded data removed]",
      "text/plain": [
       "<Figure size 450x450 with 6 Axes>"
      ]
     },
     "metadata": {
      "tags": []
     },
     "output_type": "display_data"
    }
   ],
   "source": [
    "sns.pairplot(non_categorical, height=2.5)\n",
    "plt.show();"
   ]
  },
  {
   "cell_type": "markdown",
   "metadata": {
    "colab_type": "text",
    "id": "_QiVKnUV_3BN"
   },
   "source": [
    "The paired distributions of Fare vs Age also doesn't reveal any interesting patterns, which is expected as they are not highly correlated."
   ]
  },
  {
   "cell_type": "markdown",
   "metadata": {
    "colab_type": "text",
    "id": "clYB-xNhroa2"
   },
   "source": [
    "#### Distribution of class labels in the dataset"
   ]
  },
  {
   "cell_type": "code",
   "execution_count": 26,
   "metadata": {
    "colab": {
     "base_uri": "https://localhost:8080/",
     "height": 54
    },
    "colab_type": "code",
    "id": "lpE8WJ0ZoHSv",
    "outputId": "e3a59642-6717-46be-e39a-dfb23942d45d"
   },
   "outputs": [
    {
     "data": {
      "image/png": "[encoded data removed]",
      "text/plain": [
       "<Figure size 360x360 with 1 Axes>"
      ]
     },
     "metadata": {
      "tags": []
     },
     "output_type": "display_data"
    }
   ],
   "source": [
    "sum_D = len(one_hot_categorical_cols.Survived)\n",
    "sum_M = (one_hot_categorical_cols.Survived.values==1).sum()\n",
    "sum_B = sum_D - sum_M\n",
    "frac_B = sum_B/sum_D\n",
    "frac_M = 1 - frac_B\n",
    "labels = 'Did not Survive ('+str(sum_B)+')', 'Survived ('+str(sum_M)+')'\n",
    "sizes = [frac_B, frac_M]\n",
    "explode = (0, 0.1)  # only \"explode\" the 2nd slice (i.e. 'Hogs')\n",
    "\n",
    "fig1, ax1 = plt.subplots(figsize=(4, 4))\n",
    "ax1.pie(sizes, explode=explode, labels=labels, autopct='%1.2f%%', shadow=True, startangle=90, textprops={'fontsize': 12})\n",
    "\n",
    "ax1.set_title('Prevalence of survival ('+str(sum_D)+')', fontsize=14)\n",
    "ax1.axis('equal')\n",
    "ax1.legend(fontsize=12, loc='best')\n",
    "plt.show()"
   ]
  },
  {
   "cell_type": "markdown",
   "metadata": {
    "colab_type": "text",
    "id": "-xkoDI5u7TAH"
   },
   "source": [
    "The dataset is pretty unbalanced, as the percentage of survivors from Titanic is very low (approx 30%)."
   ]
  },
  {
   "cell_type": "markdown",
   "metadata": {
    "colab_type": "text",
    "id": "Dzebs3MkA0UG"
   },
   "source": [
    "### Train : Test split"
   ]
  },
  {
   "cell_type": "markdown",
   "metadata": {
    "colab_type": "text",
    "id": "j89gpcf1lmd8"
   },
   "source": [
    "I am splitting the dataset in the ratio of ```80%``` training data and ```20%``` testing data, with a fixed random seed of 5, to ensure the same split every time this code is executed. \n",
    "\n",
    "Also, I am using random shuffling to ensure that with this fixed seed, I am able to shuffle the original data in a particular order so that the training set is the same every time and so is the testing set."
   ]
  },
  {
   "cell_type": "code",
   "execution_count": 27,
   "metadata": {
    "colab": {},
    "colab_type": "code",
    "id": "ocGSkm-HA0UG"
   },
   "outputs": [],
   "source": [
    "y = one_hot_categorical_cols[\"Survived\"].values\n",
    "x = one_hot_categorical_cols.drop(\"Survived\", axis=1)"
   ]
  },
  {
   "cell_type": "code",
   "execution_count": 28,
   "metadata": {
    "colab": {
     "base_uri": "https://localhost:8080/",
     "height": 158
    },
    "colab_type": "code",
    "id": "nyxuUiWbA0UH",
    "outputId": "8ff2f1de-0c0c-477c-ea07-659a58833cc8"
   },
   "outputs": [
    {
     "name": "stdout",
     "output_type": "stream",
     "text": [
      "------------------------------------\n",
      "The shapes of the different data : (n_samples,n_features)\n",
      "x train:  (1047, 25)\n",
      "x test:  (262, 25)\n",
      "y train:  (1047,)\n",
      "y test:  (262,)\n",
      "------------------------------------\n"
     ]
    }
   ],
   "source": [
    "train_ratio = 0.80\n",
    "test_ratio = 0.20\n",
    "\n",
    "X_train, X_test, y_train, y_test = train_test_split(x, y, test_size = 1 - train_ratio, random_state = 5, shuffle = True)\n",
    "print(\"------------------------------------\")\n",
    "print(\"The shapes of the different data : (n_samples,n_features)\")\n",
    "print(\"x train: \",X_train.shape)\n",
    "print(\"x test: \",X_test.shape)\n",
    "print(\"y train: \",y_train.shape)\n",
    "print(\"y test: \",y_test.shape)\n",
    "print(\"------------------------------------\")"
   ]
  },
  {
   "cell_type": "markdown",
   "metadata": {
    "colab_type": "text",
    "id": "nm-E3CYsrzN8"
   },
   "source": [
    "Let's also observe the distribution of class labels in training and testing data."
   ]
  },
  {
   "cell_type": "code",
   "execution_count": 29,
   "metadata": {
    "colab": {
     "base_uri": "https://localhost:8080/",
     "height": 54
    },
    "colab_type": "code",
    "id": "y1ZRsHpHpbFB",
    "outputId": "266b6181-8f69-47d6-9c60-9c152d6ff697"
   },
   "outputs": [
    {
     "data": {
      "image/png": "[encoded data removed]",
      "text/plain": [
       "<Figure size 1800x540 with 2 Axes>"
      ]
     },
     "metadata": {
      "tags": []
     },
     "output_type": "display_data"
    }
   ],
   "source": [
    "sum_tr  = len(y_train)\n",
    "sum_tr_M = (y_train==1).sum()\n",
    "sum_tr_B = sum_tr - sum_tr_M\n",
    "frac_tr_B = sum_tr_B/sum_tr\n",
    "frac_tr_M = 1 - frac_tr_B\n",
    "sizes_tr = [frac_tr_B, frac_tr_M]\n",
    "explode_tr = (0, 0.1)  # only \"explode\" the 2nd slice \n",
    "labels_tr = 'Did not Survive ('+str(sum_tr_B)+')', 'Survived ('+str(sum_tr_M)+')'\n",
    "\n",
    "sum_ts   = len(y_test)\n",
    "sum_ts_M = (y_test==1).sum()\n",
    "sum_ts_B = sum_ts - sum_ts_M\n",
    "frac_ts_B = sum_ts_B/sum_ts\n",
    "frac_ts_M = 1 - frac_ts_B\n",
    "sizes_ts = [frac_ts_B, frac_ts_M]\n",
    "explode_ts = (0, 0.1)  # only \"explode\" the 2nd slice \n",
    "labels_ts = 'Did not Survive ('+str(sum_ts_B)+')', 'Survived ('+str(sum_ts_M)+')'\n",
    "\n",
    "fig, axes = plt.subplots(nrows=1, ncols=2, figsize=(20, 6))\n",
    "axes[0].pie(sizes_tr, explode=explode_tr, labels=labels_tr, autopct='%1.2f%%', shadow=True, startangle=90, textprops={'fontsize': 11})\n",
    "axes[0].set_title('Training set ('+str(sum_tr)+')', fontsize=12)\n",
    "axes[0].legend(fontsize=12, loc='best')\n",
    "\n",
    "axes[1].pie(sizes_ts, explode=explode_ts, labels=labels_ts, autopct='%1.2f%%', shadow=True, startangle=90, textprops={'fontsize': 11})\n",
    "axes[1].set_title('Test set ('+str(sum_ts)+')', fontsize=12)\n",
    "axes[1].legend(fontsize=12, loc='best')\n",
    "\n",
    "plt.tight_layout()\n",
    "plt.show()"
   ]
  },
  {
   "cell_type": "markdown",
   "metadata": {
    "colab_type": "text",
    "id": "MWakZKpa6tJV"
   },
   "source": [
    "The distribution of the class labels in the taining and testing data are similar and mirror the distribution of the original dataset."
   ]
  },
  {
   "cell_type": "markdown",
   "metadata": {
    "colab_type": "text",
    "id": "1AZ91cCw1-J3"
   },
   "source": [
    "### Logistic Regression - Observing the effect of varying C on accuracy \n",
    "\n",
    "[Logistic Regression in sklearn](https://scikit-learn.org/stable/modules/generated/sklearn.linear_model.LogisticRegression.html)\n",
    "\n",
    "- Analyze and control the overfitting by varying the inverse of regularization strength parameter ```(0.1, 0.25, 0.5,  0.75, 0.9)```.\n",
    "- Plot the accuracy graph for the test set.\n",
    "\n",
    "| C | Accuracy(test) | Accuracy(train) | \n",
    "|:--:|:-------------:|:---:|\n",
    "|  0.1  |76.34|78.41| \n",
    "|  0.25 |76.34|78.80|\n",
    "|  0.5  |76.34|78.61|\n",
    "|  0.75 |76.34|78.89|\n",
    "|  0.9  |76.34|79.08|"
   ]
  },
  {
   "cell_type": "code",
   "execution_count": 42,
   "metadata": {
    "colab": {
     "base_uri": "https://localhost:8080/",
     "height": 349
    },
    "colab_type": "code",
    "id": "PByYDJF45rJv",
    "outputId": "2463982c-55d0-4f52-9bba-fcc37a1cbe1d"
   },
   "outputs": [
    {
     "data": {
      "image/png": "[encoded data removed]",
      "text/plain": [
       "<Figure size 360x360 with 1 Axes>"
      ]
     },
     "metadata": {
      "tags": []
     },
     "output_type": "display_data"
    }
   ],
   "source": [
    "plt.plot([0.1, 0.25, 0.5, 0.75, 0.9], [76.34, 76.34, 76.34, 76.34, 76.34], 'r', [0.1, 0.25, 0.5, 0.75, 0.9], [78.41, 78.80, 78.61, 78.89, 79.08],'b')\n",
    "plt.axis([0, 1, 75, 80])\n",
    "plt.ylabel('Accuracy - Test(red), Train(blue)')\n",
    "plt.xlabel('C')\n",
    "plt.figure(1, figsize=(4, 3))\n",
    "plt.show()"
   ]
  },
  {
   "cell_type": "code",
   "execution_count": 31,
   "metadata": {
    "colab": {
     "base_uri": "https://localhost:8080/",
     "height": 590
    },
    "colab_type": "code",
    "id": "zWmx-B612CEH",
    "outputId": "7ee227b4-0d79-489a-e0f4-4735de8e56ed"
   },
   "outputs": [
    {
     "name": "stdout",
     "output_type": "stream",
     "text": [
      "--- clf1 - LogisticRegression, L2 penalty, C=0.1 ---\n"
     ]
    },
    {
     "data": {
      "image/png": "[encoded data removed]",
      "text/plain": [
       "<Figure size 360x360 with 2 Axes>"
      ]
     },
     "metadata": {
      "tags": []
     },
     "output_type": "display_data"
    },
    {
     "name": "stdout",
     "output_type": "stream",
     "text": [
      "              precision    recall  f1-score   support\n",
      "\n",
      "           0       0.78      0.94      0.85       187\n",
      "           1       0.68      0.33      0.45        75\n",
      "\n",
      "    accuracy                           0.76       262\n",
      "   macro avg       0.73      0.63      0.65       262\n",
      "weighted avg       0.75      0.76      0.73       262\n",
      "\n",
      "------------------------------------------------\n",
      "Training accuracy: 78.41 [%] \n",
      "Test accuracy :     76.34 [%]\n",
      "\n"
     ]
    }
   ],
   "source": [
    "name = 'clf1 - LogisticRegression, L2 penalty, C=0.1'\n",
    "_, _ = Classification(clf_dict[0], name, True)"
   ]
  },
  {
   "cell_type": "code",
   "execution_count": 32,
   "metadata": {
    "colab": {
     "base_uri": "https://localhost:8080/",
     "height": 590
    },
    "colab_type": "code",
    "id": "HY4m_uoOG1zb",
    "outputId": "a8eb4455-6b57-4ba9-add5-437391afb6f4"
   },
   "outputs": [
    {
     "name": "stdout",
     "output_type": "stream",
     "text": [
      "--- clf2 - LogisticRegression, L2 penalty, C=0.25 ---\n"
     ]
    },
    {
     "data": {
      "image/png": "[encoded data removed]",
      "text/plain": [
       "<Figure size 360x360 with 2 Axes>"
      ]
     },
     "metadata": {
      "tags": []
     },
     "output_type": "display_data"
    },
    {
     "name": "stdout",
     "output_type": "stream",
     "text": [
      "              precision    recall  f1-score   support\n",
      "\n",
      "           0       0.79      0.92      0.85       187\n",
      "           1       0.65      0.37      0.47        75\n",
      "\n",
      "    accuracy                           0.76       262\n",
      "   macro avg       0.72      0.65      0.66       262\n",
      "weighted avg       0.75      0.76      0.74       262\n",
      "\n",
      "------------------------------------------------\n",
      "Training accuracy: 78.80 [%] \n",
      "Test accuracy :     76.34 [%]\n",
      "\n"
     ]
    }
   ],
   "source": [
    "name = 'clf2 - LogisticRegression, L2 penalty, C=0.25'\n",
    "_, _ = Classification(clf_dict[1], name, True)"
   ]
  },
  {
   "cell_type": "code",
   "execution_count": 33,
   "metadata": {
    "colab": {
     "base_uri": "https://localhost:8080/",
     "height": 590
    },
    "colab_type": "code",
    "id": "akZNxWSxG4Xk",
    "outputId": "832f6c7a-9e29-4032-b343-159c6318e664"
   },
   "outputs": [
    {
     "name": "stdout",
     "output_type": "stream",
     "text": [
      "--- clf3 - LogisticRegression, L2 penalty, C=0.50 ---\n"
     ]
    },
    {
     "data": {
      "image/png": "[encoded data removed]",
      "text/plain": [
       "<Figure size 360x360 with 2 Axes>"
      ]
     },
     "metadata": {
      "tags": []
     },
     "output_type": "display_data"
    },
    {
     "name": "stdout",
     "output_type": "stream",
     "text": [
      "              precision    recall  f1-score   support\n",
      "\n",
      "           0       0.79      0.91      0.85       187\n",
      "           1       0.64      0.39      0.48        75\n",
      "\n",
      "    accuracy                           0.76       262\n",
      "   macro avg       0.72      0.65      0.66       262\n",
      "weighted avg       0.75      0.76      0.74       262\n",
      "\n",
      "------------------------------------------------\n",
      "Training accuracy: 78.61 [%] \n",
      "Test accuracy :     76.34 [%]\n",
      "\n"
     ]
    }
   ],
   "source": [
    "name = 'clf3 - LogisticRegression, L2 penalty, C=0.50'\n",
    "_, _ = Classification(clf_dict[2], name, True)"
   ]
  },
  {
   "cell_type": "code",
   "execution_count": 34,
   "metadata": {
    "colab": {
     "base_uri": "https://localhost:8080/",
     "height": 590
    },
    "colab_type": "code",
    "id": "wIcK5zkHG57v",
    "outputId": "1fad856f-621d-45b3-f0b3-067e5a9cbffa"
   },
   "outputs": [
    {
     "name": "stdout",
     "output_type": "stream",
     "text": [
      "--- clf4 - LogisticRegression, L2 penalty, C=0.75 ---\n"
     ]
    },
    {
     "data": {
      "image/png": "[encoded data removed]",
      "text/plain": [
       "<Figure size 360x360 with 2 Axes>"
      ]
     },
     "metadata": {
      "tags": []
     },
     "output_type": "display_data"
    },
    {
     "name": "stdout",
     "output_type": "stream",
     "text": [
      "              precision    recall  f1-score   support\n",
      "\n",
      "           0       0.79      0.91      0.85       187\n",
      "           1       0.64      0.39      0.48        75\n",
      "\n",
      "    accuracy                           0.76       262\n",
      "   macro avg       0.72      0.65      0.66       262\n",
      "weighted avg       0.75      0.76      0.74       262\n",
      "\n",
      "------------------------------------------------\n",
      "Training accuracy: 78.89 [%] \n",
      "Test accuracy :     76.34 [%]\n",
      "\n"
     ]
    }
   ],
   "source": [
    "name = 'clf4 - LogisticRegression, L2 penalty, C=0.75'\n",
    "_, _ = Classification(clf_dict[3], name, True)"
   ]
  },
  {
   "cell_type": "code",
   "execution_count": 35,
   "metadata": {
    "colab": {
     "base_uri": "https://localhost:8080/",
     "height": 590
    },
    "colab_type": "code",
    "id": "FKFHa8Z9G7CT",
    "outputId": "1cae6451-ab55-4547-81cd-01d3c8e7afc9"
   },
   "outputs": [
    {
     "name": "stdout",
     "output_type": "stream",
     "text": [
      "--- clf5 - LogisticRegression, L2 penalty, C=0.9 ---\n"
     ]
    },
    {
     "data": {
      "image/png": "[encoded data removed]",
      "text/plain": [
       "<Figure size 360x360 with 2 Axes>"
      ]
     },
     "metadata": {
      "tags": []
     },
     "output_type": "display_data"
    },
    {
     "name": "stdout",
     "output_type": "stream",
     "text": [
      "              precision    recall  f1-score   support\n",
      "\n",
      "           0       0.79      0.91      0.85       187\n",
      "           1       0.64      0.39      0.48        75\n",
      "\n",
      "    accuracy                           0.76       262\n",
      "   macro avg       0.72      0.65      0.66       262\n",
      "weighted avg       0.75      0.76      0.74       262\n",
      "\n",
      "------------------------------------------------\n",
      "Training accuracy: 79.08 [%] \n",
      "Test accuracy :     76.34 [%]\n",
      "\n"
     ]
    }
   ],
   "source": [
    "name = 'clf5 - LogisticRegression, L2 penalty, C=0.9'\n",
    "_, _ = Classification(clf_dict[4], name, True)"
   ]
  },
  {
   "cell_type": "markdown",
   "metadata": {
    "colab_type": "text",
    "id": "FWDOqZz4N-iD"
   },
   "source": [
    "### Decision Tree classifier - Varying depth \n",
    "\n",
    "[Decision Tree in sklearn](https://scikit-learn.org/stable/modules/generated/sklearn.tree.DecisionTreeClassifier.html)\n",
    "\n",
    "- Train a Decision Tree classifier and vary the maximum depth of the tree to train at least 5 classifiers to analyze the effectiveness. \n",
    "\n",
    "| Depth | Accuracy(test) | Accuracy(train) | \n",
    "|:--:|:-------------:|:---:|\n",
    "|  3 |74.81|80.90|\n",
    "|  5 |75.57|81.95|\n",
    "|  7 |76.72|84.81| \n",
    "|  9 |74.81|87.87| \n",
    "|  11|75.95|90.26| \n",
    "\n",
    "Model with ```depth=7``` has the most balanced performance across all the data splits. With greater depth, training accuracy increase greatly, but test accuracy drops, indicating that the model can't generalise properly for greater depth. "
   ]
  },
  {
   "cell_type": "code",
   "execution_count": 36,
   "metadata": {
    "colab": {
     "base_uri": "https://localhost:8080/",
     "height": 54
    },
    "colab_type": "code",
    "id": "uRC_OGMj2_Fy",
    "outputId": "165b1d48-708a-45a5-c16b-f8fa5600e139"
   },
   "outputs": [
    {
     "data": {
      "image/png": "[encoded data removed]",
      "text/plain": [
       "<Figure size 360x360 with 1 Axes>"
      ]
     },
     "metadata": {
      "tags": []
     },
     "output_type": "display_data"
    }
   ],
   "source": [
    "plt.plot([3, 5, 7, 9, 11], [74.81, 75.57, 76.72, 74.81, 75.95], 'r', [3, 5, 7, 9, 11], [80.90, 81.95, 84.81, 87.87, 90.26],'b')\n",
    "plt.axis([2, 12, 73, 92])\n",
    "plt.ylabel('Accuracy - Test(red), Train(blue)')\n",
    "plt.xlabel('Decision Tree Depth')\n",
    "plt.figure(1, figsize=(7, 7))\n",
    "plt.show()"
   ]
  },
  {
   "cell_type": "code",
   "execution_count": 37,
   "metadata": {
    "colab": {
     "base_uri": "https://localhost:8080/",
     "height": 297
    },
    "colab_type": "code",
    "id": "j-nX2UQhN9hb",
    "outputId": "5932891e-e5fd-4cdf-e9d3-41937a3355fe"
   },
   "outputs": [
    {
     "name": "stdout",
     "output_type": "stream",
     "text": [
      "--- clf6 - Decision Tree Classifier, depth=3 ---\n"
     ]
    },
    {
     "data": {
      "image/png": "[encoded data removed]",
      "text/plain": [
       "<Figure size 360x360 with 2 Axes>"
      ]
     },
     "metadata": {
      "tags": []
     },
     "output_type": "display_data"
    },
    {
     "name": "stdout",
     "output_type": "stream",
     "text": [
      "              precision    recall  f1-score   support\n",
      "\n",
      "           0       0.77      0.93      0.84       187\n",
      "           1       0.62      0.31      0.41        75\n",
      "\n",
      "    accuracy                           0.75       262\n",
      "   macro avg       0.70      0.62      0.63       262\n",
      "weighted avg       0.73      0.75      0.72       262\n",
      "\n",
      "------------------------------------------------\n",
      "Training accuracy: 80.90 [%] \n",
      "Test accuracy :     74.81 [%]\n",
      "\n"
     ]
    }
   ],
   "source": [
    "name = 'clf6 - Decision Tree Classifier, depth=3'\n",
    "_, _ = Classification(clf_dict[5], name, True)"
   ]
  },
  {
   "cell_type": "code",
   "execution_count": 38,
   "metadata": {
    "colab": {
     "base_uri": "https://localhost:8080/",
     "height": 297
    },
    "colab_type": "code",
    "id": "s90nVXolOeas",
    "outputId": "95832036-f418-4689-c120-3616fd76e9a9"
   },
   "outputs": [
    {
     "name": "stdout",
     "output_type": "stream",
     "text": [
      "--- clf7 - Decision Tree Classifier, depth=5 ---\n"
     ]
    },
    {
     "data": {
      "image/png": "[encoded data removed]",
      "text/plain": [
       "<Figure size 360x360 with 2 Axes>"
      ]
     },
     "metadata": {
      "tags": []
     },
     "output_type": "display_data"
    },
    {
     "name": "stdout",
     "output_type": "stream",
     "text": [
      "              precision    recall  f1-score   support\n",
      "\n",
      "           0       0.77      0.93      0.84       187\n",
      "           1       0.65      0.32      0.43        75\n",
      "\n",
      "    accuracy                           0.76       262\n",
      "   macro avg       0.71      0.63      0.64       262\n",
      "weighted avg       0.74      0.76      0.73       262\n",
      "\n",
      "------------------------------------------------\n",
      "Training accuracy: 81.95 [%] \n",
      "Test accuracy :     75.57 [%]\n",
      "\n"
     ]
    }
   ],
   "source": [
    "name = 'clf7 - Decision Tree Classifier, depth=5'\n",
    "_, _ = Classification(clf_dict[6], name, True)"
   ]
  },
  {
   "cell_type": "code",
   "execution_count": 39,
   "metadata": {
    "colab": {
     "base_uri": "https://localhost:8080/",
     "height": 297
    },
    "colab_type": "code",
    "id": "wSX2VfkQOgCt",
    "outputId": "94f33f98-a2f0-43d3-c84a-ebcb4c7457ed"
   },
   "outputs": [
    {
     "name": "stdout",
     "output_type": "stream",
     "text": [
      "--- clf8 - Decision Tree Classifier, depth=7 ---\n"
     ]
    },
    {
     "data": {
      "image/png": "[encoded data removed]",
      "text/plain": [
       "<Figure size 360x360 with 2 Axes>"
      ]
     },
     "metadata": {
      "tags": []
     },
     "output_type": "display_data"
    },
    {
     "name": "stdout",
     "output_type": "stream",
     "text": [
      "              precision    recall  f1-score   support\n",
      "\n",
      "           0       0.80      0.90      0.85       187\n",
      "           1       0.63      0.44      0.52        75\n",
      "\n",
      "    accuracy                           0.77       262\n",
      "   macro avg       0.72      0.67      0.68       262\n",
      "weighted avg       0.75      0.77      0.75       262\n",
      "\n",
      "------------------------------------------------\n",
      "Training accuracy: 84.81 [%] \n",
      "Test accuracy :     76.72 [%]\n",
      "\n"
     ]
    }
   ],
   "source": [
    "name = 'clf8 - Decision Tree Classifier, depth=7'\n",
    "_, _ = Classification(clf_dict[7], name, True)"
   ]
  },
  {
   "cell_type": "code",
   "execution_count": 40,
   "metadata": {
    "colab": {
     "base_uri": "https://localhost:8080/",
     "height": 297
    },
    "colab_type": "code",
    "id": "aDX3ytHPOhwZ",
    "outputId": "b78f5fd5-d3a0-416a-e56d-c8b937fb25b5"
   },
   "outputs": [
    {
     "name": "stdout",
     "output_type": "stream",
     "text": [
      "--- clf9 - Decision Tree Classifier, depth=9 ---\n"
     ]
    },
    {
     "data": {
      "image/png": "[encoded data removed]",
      "text/plain": [
       "<Figure size 360x360 with 2 Axes>"
      ]
     },
     "metadata": {
      "tags": []
     },
     "output_type": "display_data"
    },
    {
     "name": "stdout",
     "output_type": "stream",
     "text": [
      "              precision    recall  f1-score   support\n",
      "\n",
      "           0       0.78      0.89      0.84       187\n",
      "           1       0.59      0.39      0.47        75\n",
      "\n",
      "    accuracy                           0.75       262\n",
      "   macro avg       0.69      0.64      0.65       262\n",
      "weighted avg       0.73      0.75      0.73       262\n",
      "\n",
      "------------------------------------------------\n",
      "Training accuracy: 87.87 [%] \n",
      "Test accuracy :     74.81 [%]\n",
      "\n"
     ]
    }
   ],
   "source": [
    "name = 'clf9 - Decision Tree Classifier, depth=9'\n",
    "_, _ = Classification(clf_dict[8], name, True)"
   ]
  },
  {
   "cell_type": "code",
   "execution_count": 41,
   "metadata": {
    "colab": {
     "base_uri": "https://localhost:8080/",
     "height": 297
    },
    "colab_type": "code",
    "id": "c51sJcMTOlm_",
    "outputId": "11c6f102-6c44-4f30-9951-49dc6fa7766c"
   },
   "outputs": [
    {
     "name": "stdout",
     "output_type": "stream",
     "text": [
      "--- clf10 - Decision Tree Classifier, depth=11 ---\n"
     ]
    },
    {
     "data": {
      "image/png": "[encoded data removed]",
      "text/plain": [
       "<Figure size 360x360 with 2 Axes>"
      ]
     },
     "metadata": {
      "tags": []
     },
     "output_type": "display_data"
    },
    {
     "name": "stdout",
     "output_type": "stream",
     "text": [
      "              precision    recall  f1-score   support\n",
      "\n",
      "           0       0.80      0.88      0.84       187\n",
      "           1       0.60      0.47      0.53        75\n",
      "\n",
      "    accuracy                           0.76       262\n",
      "   macro avg       0.70      0.67      0.68       262\n",
      "weighted avg       0.75      0.76      0.75       262\n",
      "\n",
      "------------------------------------------------\n",
      "Training accuracy: 90.26 [%] \n",
      "Test accuracy :     75.95 [%]\n",
      "\n"
     ]
    }
   ],
   "source": [
    "name = 'clf10 - Decision Tree Classifier, depth=11'\n",
    "_, _ = Classification(clf_dict[9], name, True)"
   ]
  }
 ],
 "metadata": {
  "colab": {
   "collapsed_sections": [
    "5xBX4nvSuIfD",
    "OeWXCeDlrX6R",
    "La15qihuoPE6",
    "rUzHuSa9oW6G",
    "t_rpedq9A0Tr",
    "34OvDQwn4R4E",
    "1xVQ_syHA0Tt",
    "89fN2H9DA0Tw",
    "7C5sl4XnA0T1",
    "_cIN25bzA0T2",
    "rUQfJeiPA0T4",
    "wxkKkGZTmSQd",
    "clYB-xNhroa2",
    "Dzebs3MkA0UG",
    "1AZ91cCw1-J3",
    "FWDOqZz4N-iD"
   ],
   "name": "3.1 - Titanic",
   "provenance": [],
   "toc_visible": true
  },
  "kernelspec": {
   "display_name": "Python 3",
   "language": "python",
   "name": "python3"
  },
  "language_info": {
   "codemirror_mode": {
    "name": "ipython",
    "version": 3
   },
   "file_extension": ".py",
   "mimetype": "text/x-python",
   "name": "python",
   "nbconvert_exporter": "python",
   "pygments_lexer": "ipython3",
   "version": "3.8.5"
  }
 },
 "nbformat": 4,
 "nbformat_minor": 1
}
