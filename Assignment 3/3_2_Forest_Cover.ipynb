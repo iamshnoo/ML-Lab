{
 "cells": [
  {
   "cell_type": "code",
   "execution_count": 1,
   "metadata": {
    "colab": {},
    "colab_type": "code",
    "id": "-UwP7oimGAYA"
   },
   "outputs": [],
   "source": [
    "from IPython.core.display import display,HTML"
   ]
  },
  {
   "cell_type": "code",
   "execution_count": 2,
   "metadata": {
    "colab": {
     "base_uri": "https://localhost:8080/",
     "height": 17
    },
    "colab_type": "code",
    "id": "kCMjll9OuJG2",
    "outputId": "a82ae5a7-35e5-4fb7-8019-3f6beea2384c"
   },
   "outputs": [
    {
     "data": {
      "text/html": [
       "<script>\n",
       "    hideInput = () => $('div.input').hide();\n",
       "</script>\n",
       "<body onload=\"javascript:hideInput()\"></body>"
      ],
      "text/plain": [
       "<IPython.core.display.HTML object>"
      ]
     },
     "execution_count": 2,
     "metadata": {},
     "output_type": "execute_result"
    }
   ],
   "source": [
    "HTML('''<script>\n",
    "    hideInput = () => $('div.input').hide();\n",
    "</script>\n",
    "<body onload=\"javascript:hideInput()\"></body>''')"
   ]
  },
  {
   "cell_type": "code",
   "execution_count": 3,
   "metadata": {
    "colab": {
     "base_uri": "https://localhost:8080/",
     "height": 17
    },
    "colab_type": "code",
    "id": "upHIanjZuKnR",
    "outputId": "e683fc3d-4a5f-4453-e74a-ae302380b2a1"
   },
   "outputs": [
    {
     "data": {
      "text/html": [
       "<style>.prompt{width: 0px; min-width: 0px; visibility: collapse}</style>"
      ],
      "text/plain": [
       "<IPython.core.display.HTML object>"
      ]
     },
     "metadata": {},
     "output_type": "display_data"
    }
   ],
   "source": [
    "display(HTML('<style>.prompt{width: 0px; min-width: 0px; visibility: collapse}</style>'))"
   ]
  },
  {
   "cell_type": "markdown",
   "metadata": {
    "colab_type": "text",
    "id": "5xBX4nvSuIfD"
   },
   "source": [
    "# Assignment 3 - Part 2\n",
    "\n",
    "Link to questions - [here](https://docs.google.com/document/d/1enoohnv9pHCYb3EJJ4colU6zWlfxf8sciVJr3_mBYxg/edit?usp=sharing)"
   ]
  },
  {
   "cell_type": "markdown",
   "metadata": {
    "colab_type": "text",
    "id": "1GlGRWcpuDVt"
   },
   "source": [
    "***Student Details:***\n",
    "\n",
    "- Name : Anjishnu Mukherjee\n",
    "- Registration Number : B05-511017020\n",
    "- Class Roll Number : CS Gy-70\n",
    "- Exam Roll Number : 510517086\n",
    "- Email : 511017020.anjishnu@students.iiests.ac.in"
   ]
  },
  {
   "cell_type": "markdown",
   "metadata": {
    "colab_type": "text",
    "id": "OeWXCeDlrX6R"
   },
   "source": [
    "# Project Setup"
   ]
  },
  {
   "cell_type": "markdown",
   "metadata": {
    "colab_type": "text",
    "id": "La15qihuoPE6"
   },
   "source": [
    "### Mount Google Drive"
   ]
  },
  {
   "cell_type": "code",
   "execution_count": null,
   "metadata": {
    "colab": {
     "base_uri": "https://localhost:8080/",
     "height": 34
    },
    "colab_type": "code",
    "id": "pjK2Uvizbv1H",
    "outputId": "08d14306-f77a-4cd2-9461-8f74cf46b336"
   },
   "outputs": [
    {
     "name": "stdout",
     "output_type": "stream",
     "text": [
      "Mounted at /content/drive/\n"
     ]
    }
   ],
   "source": [
    "from google.colab import drive\n",
    "drive.mount('/content/drive/', force_remount=True)"
   ]
  },
  {
   "cell_type": "markdown",
   "metadata": {
    "colab_type": "text",
    "id": "rUzHuSa9oW6G"
   },
   "source": [
    "### Load libraries, set seed"
   ]
  },
  {
   "cell_type": "code",
   "execution_count": null,
   "metadata": {
    "colab": {},
    "colab_type": "code",
    "id": "TsH05Js8PGhZ"
   },
   "outputs": [],
   "source": [
    "%%capture\n",
    "import platform\n",
    "import random\n",
    "import os\n",
    "import sys\n",
    "from collections import OrderedDict  \n",
    "import numpy as np \n",
    "import pandas as pd \n",
    "import seaborn as sns  \n",
    "import matplotlib\n",
    "import matplotlib.pyplot as plt\n",
    "import sklearn\n",
    "from sklearn.linear_model import LogisticRegression\n",
    "from sklearn.svm import SVC \n",
    "from sklearn.model_selection import train_test_split\n",
    "from sklearn.metrics import confusion_matrix\n",
    "from sklearn.metrics import classification_report\n",
    "\n",
    "def get_lib_versions():\n",
    "  print(\"------------------------------------\")\n",
    "  output = OrderedDict()\n",
    "  output[\"OS\"] = platform.platform()\n",
    "  output[\"Python version\"] = sys.version.replace(\"\\n\", \" \")\n",
    "  output[\"Numpy version\"] = np.version.full_version\n",
    "  output[\"Pandas version\"] = pd.__version__\n",
    "  output[\"Matplotlib version\"] = matplotlib.__version__\n",
    "  output[\"Seaborn version\"] = sns.__version__\n",
    "  output[\"Scikitlearn version\"] = sklearn.__version__\n",
    "  for kv in output.items():\n",
    "    print(\"%s: %s\" % kv)\n",
    "  print(\"------------------------------------\")\n",
    "\n",
    "def fix_seeds(seed=1337):\n",
    "  SEED = seed\n",
    "  random.seed(SEED)\n",
    "  os.environ['PYTHONHASHSEED'] = str(SEED)\n",
    "  np.random.seed(SEED)\n",
    "  plt.rcParams['figure.figsize'] = (7.0, 7.0) \n",
    "  plt.rcParams['figure.dpi'] = 90  \n",
    "  sns.set_style(\"dark\")\n",
    "  sns.set_context(\"paper\")\n",
    "  sns.set_palette(\"colorblind\")\n",
    "  print(\"Global Seed : \", SEED)\n",
    "  print(\"------------------------------------\")\n",
    "\n",
    "def Classification(model, clf_name, print_result):\n",
    "    random_state = np.random.RandomState(5)\n",
    "\n",
    "    # train the model\n",
    "    model.fit(X_train, y_train)   \n",
    "\n",
    "    # calculate accuracy scores\n",
    "    score_train, score_test = model.score(X_train, y_train)*100, model.score(X_test, y_test)*100\n",
    "\n",
    "    # get predictions on Test-set\n",
    "    y_pred = model.predict(X_test)\n",
    "\n",
    "    # confusion matrix \n",
    "    cm = confusion_matrix(y_test, y_pred)\n",
    "\n",
    "    # classification report\n",
    "    cr = classification_report(y_test, y_pred)\n",
    "\n",
    "    if print_result:\n",
    "        # Calculating the accuracies\n",
    "        print('--- '+clf_name+' ---')\n",
    "\n",
    "        # Print confusion matrix\n",
    "        plt.rcParams['figure.figsize'] = (4, 4)\n",
    "        sns.heatmap(cm, annot = True)\n",
    "        plt.title('Confusion Matrix', fontsize = 14)\n",
    "        plt.show()\n",
    "        print(cr)\n",
    "        print(\"------------------------------------------------\")\n",
    "        print('Training accuracy: %.2f [%%] \\nTest accuracy :     %.2f [%%]\\n'%(score_train, score_test))       \n",
    "    return model, cr"
   ]
  },
  {
   "cell_type": "code",
   "execution_count": null,
   "metadata": {
    "colab": {
     "base_uri": "https://localhost:8080/",
     "height": 225
    },
    "colab_type": "code",
    "id": "LbGCb-ufgEg7",
    "outputId": "df21a89f-6c99-4589-9752-b58946b81d5b"
   },
   "outputs": [
    {
     "name": "stdout",
     "output_type": "stream",
     "text": [
      "Environment Information : \n",
      "------------------------------------\n",
      "OS: Linux-4.19.112+-x86_64-with-Ubuntu-18.04-bionic\n",
      "Python version: 3.6.9 (default, Jul 17 2020, 12:50:27)  [GCC 8.4.0]\n",
      "Numpy version: 1.18.5\n",
      "Pandas version: 1.0.5\n",
      "Matplotlib version: 3.2.2\n",
      "Seaborn version: 0.10.1\n",
      "Scikitlearn version: 0.22.2.post1\n",
      "------------------------------------\n",
      "Global Seed :  5\n",
      "------------------------------------\n"
     ]
    }
   ],
   "source": [
    "print(\"Environment Information : \")\n",
    "get_lib_versions()\n",
    "fix_seeds(5 )"
   ]
  },
  {
   "cell_type": "markdown",
   "metadata": {
    "colab_type": "text",
    "id": "00_p5y7KXhDX"
   },
   "source": [
    "# Forest Cover Type dataset\n",
    "\n",
    "[Link for Data](https://www.kaggle.com/uciml/forest-cover-type-dataset)"
   ]
  },
  {
   "cell_type": "code",
   "execution_count": null,
   "metadata": {
    "colab": {},
    "colab_type": "code",
    "id": "jpnHFVBbXi2_"
   },
   "outputs": [],
   "source": [
    "file_path = '/content/drive/My Drive/ML_LAB/Assign_3/forest_cover_type/' \n",
    "data_path = file_path + 'data.csv'"
   ]
  },
  {
   "cell_type": "markdown",
   "metadata": {
    "colab_type": "text",
    "id": "WZ6P5FYJZSvV"
   },
   "source": [
    "### Read dataset into Pandas dataframe"
   ]
  },
  {
   "cell_type": "code",
   "execution_count": null,
   "metadata": {
    "colab": {
     "base_uri": "https://localhost:8080/",
     "height": 244
    },
    "colab_type": "code",
    "id": "qoDvCb5MZSvW",
    "outputId": "fb4902e9-c74d-4ccf-90c0-4524d4f4450c"
   },
   "outputs": [
    {
     "name": "stdout",
     "output_type": "stream",
     "text": [
      "Let's visualise the first 5 rows of the dataset.\n"
     ]
    },
    {
     "data": {
      "text/html": [
       "<div>\n",
       "<style scoped>\n",
       "    .dataframe tbody tr th:only-of-type {\n",
       "        vertical-align: middle;\n",
       "    }\n",
       "\n",
       "    .dataframe tbody tr th {\n",
       "        vertical-align: top;\n",
       "    }\n",
       "\n",
       "    .dataframe thead th {\n",
       "        text-align: right;\n",
       "    }\n",
       "</style>\n",
       "<table border=\"1\" class=\"dataframe\">\n",
       "  <thead>\n",
       "    <tr style=\"text-align: right;\">\n",
       "      <th></th>\n",
       "      <th>Elevation</th>\n",
       "      <th>Aspect</th>\n",
       "      <th>Slope</th>\n",
       "      <th>Horizontal_Distance_To_Hydrology</th>\n",
       "      <th>Vertical_Distance_To_Hydrology</th>\n",
       "      <th>Horizontal_Distance_To_Roadways</th>\n",
       "      <th>Hillshade_9am</th>\n",
       "      <th>Hillshade_Noon</th>\n",
       "      <th>Hillshade_3pm</th>\n",
       "      <th>Horizontal_Distance_To_Fire_Points</th>\n",
       "      <th>Wilderness_Area1</th>\n",
       "      <th>Wilderness_Area2</th>\n",
       "      <th>Wilderness_Area3</th>\n",
       "      <th>Wilderness_Area4</th>\n",
       "      <th>Soil_Type1</th>\n",
       "      <th>Soil_Type2</th>\n",
       "      <th>Soil_Type3</th>\n",
       "      <th>Soil_Type4</th>\n",
       "      <th>Soil_Type5</th>\n",
       "      <th>Soil_Type6</th>\n",
       "      <th>Soil_Type7</th>\n",
       "      <th>Soil_Type8</th>\n",
       "      <th>Soil_Type9</th>\n",
       "      <th>Soil_Type10</th>\n",
       "      <th>Soil_Type11</th>\n",
       "      <th>Soil_Type12</th>\n",
       "      <th>Soil_Type13</th>\n",
       "      <th>Soil_Type14</th>\n",
       "      <th>Soil_Type15</th>\n",
       "      <th>Soil_Type16</th>\n",
       "      <th>Soil_Type17</th>\n",
       "      <th>Soil_Type18</th>\n",
       "      <th>Soil_Type19</th>\n",
       "      <th>Soil_Type20</th>\n",
       "      <th>Soil_Type21</th>\n",
       "      <th>Soil_Type22</th>\n",
       "      <th>Soil_Type23</th>\n",
       "      <th>Soil_Type24</th>\n",
       "      <th>Soil_Type25</th>\n",
       "      <th>Soil_Type26</th>\n",
       "      <th>Soil_Type27</th>\n",
       "      <th>Soil_Type28</th>\n",
       "      <th>Soil_Type29</th>\n",
       "      <th>Soil_Type30</th>\n",
       "      <th>Soil_Type31</th>\n",
       "      <th>Soil_Type32</th>\n",
       "      <th>Soil_Type33</th>\n",
       "      <th>Soil_Type34</th>\n",
       "      <th>Soil_Type35</th>\n",
       "      <th>Soil_Type36</th>\n",
       "      <th>Soil_Type37</th>\n",
       "      <th>Soil_Type38</th>\n",
       "      <th>Soil_Type39</th>\n",
       "      <th>Soil_Type40</th>\n",
       "      <th>Cover_Type</th>\n",
       "    </tr>\n",
       "  </thead>\n",
       "  <tbody>\n",
       "    <tr>\n",
       "      <th>0</th>\n",
       "      <td>2596</td>\n",
       "      <td>51</td>\n",
       "      <td>3</td>\n",
       "      <td>258</td>\n",
       "      <td>0</td>\n",
       "      <td>510</td>\n",
       "      <td>221</td>\n",
       "      <td>232</td>\n",
       "      <td>148</td>\n",
       "      <td>6279</td>\n",
       "      <td>1</td>\n",
       "      <td>0</td>\n",
       "      <td>0</td>\n",
       "      <td>0</td>\n",
       "      <td>0</td>\n",
       "      <td>0</td>\n",
       "      <td>0</td>\n",
       "      <td>0</td>\n",
       "      <td>0</td>\n",
       "      <td>0</td>\n",
       "      <td>0</td>\n",
       "      <td>0</td>\n",
       "      <td>0</td>\n",
       "      <td>0</td>\n",
       "      <td>0</td>\n",
       "      <td>0</td>\n",
       "      <td>0</td>\n",
       "      <td>0</td>\n",
       "      <td>0</td>\n",
       "      <td>0</td>\n",
       "      <td>0</td>\n",
       "      <td>0</td>\n",
       "      <td>0</td>\n",
       "      <td>0</td>\n",
       "      <td>0</td>\n",
       "      <td>0</td>\n",
       "      <td>0</td>\n",
       "      <td>0</td>\n",
       "      <td>0</td>\n",
       "      <td>0</td>\n",
       "      <td>0</td>\n",
       "      <td>0</td>\n",
       "      <td>1</td>\n",
       "      <td>0</td>\n",
       "      <td>0</td>\n",
       "      <td>0</td>\n",
       "      <td>0</td>\n",
       "      <td>0</td>\n",
       "      <td>0</td>\n",
       "      <td>0</td>\n",
       "      <td>0</td>\n",
       "      <td>0</td>\n",
       "      <td>0</td>\n",
       "      <td>0</td>\n",
       "      <td>5</td>\n",
       "    </tr>\n",
       "    <tr>\n",
       "      <th>1</th>\n",
       "      <td>2590</td>\n",
       "      <td>56</td>\n",
       "      <td>2</td>\n",
       "      <td>212</td>\n",
       "      <td>-6</td>\n",
       "      <td>390</td>\n",
       "      <td>220</td>\n",
       "      <td>235</td>\n",
       "      <td>151</td>\n",
       "      <td>6225</td>\n",
       "      <td>1</td>\n",
       "      <td>0</td>\n",
       "      <td>0</td>\n",
       "      <td>0</td>\n",
       "      <td>0</td>\n",
       "      <td>0</td>\n",
       "      <td>0</td>\n",
       "      <td>0</td>\n",
       "      <td>0</td>\n",
       "      <td>0</td>\n",
       "      <td>0</td>\n",
       "      <td>0</td>\n",
       "      <td>0</td>\n",
       "      <td>0</td>\n",
       "      <td>0</td>\n",
       "      <td>0</td>\n",
       "      <td>0</td>\n",
       "      <td>0</td>\n",
       "      <td>0</td>\n",
       "      <td>0</td>\n",
       "      <td>0</td>\n",
       "      <td>0</td>\n",
       "      <td>0</td>\n",
       "      <td>0</td>\n",
       "      <td>0</td>\n",
       "      <td>0</td>\n",
       "      <td>0</td>\n",
       "      <td>0</td>\n",
       "      <td>0</td>\n",
       "      <td>0</td>\n",
       "      <td>0</td>\n",
       "      <td>0</td>\n",
       "      <td>1</td>\n",
       "      <td>0</td>\n",
       "      <td>0</td>\n",
       "      <td>0</td>\n",
       "      <td>0</td>\n",
       "      <td>0</td>\n",
       "      <td>0</td>\n",
       "      <td>0</td>\n",
       "      <td>0</td>\n",
       "      <td>0</td>\n",
       "      <td>0</td>\n",
       "      <td>0</td>\n",
       "      <td>5</td>\n",
       "    </tr>\n",
       "    <tr>\n",
       "      <th>2</th>\n",
       "      <td>2804</td>\n",
       "      <td>139</td>\n",
       "      <td>9</td>\n",
       "      <td>268</td>\n",
       "      <td>65</td>\n",
       "      <td>3180</td>\n",
       "      <td>234</td>\n",
       "      <td>238</td>\n",
       "      <td>135</td>\n",
       "      <td>6121</td>\n",
       "      <td>1</td>\n",
       "      <td>0</td>\n",
       "      <td>0</td>\n",
       "      <td>0</td>\n",
       "      <td>0</td>\n",
       "      <td>0</td>\n",
       "      <td>0</td>\n",
       "      <td>0</td>\n",
       "      <td>0</td>\n",
       "      <td>0</td>\n",
       "      <td>0</td>\n",
       "      <td>0</td>\n",
       "      <td>0</td>\n",
       "      <td>0</td>\n",
       "      <td>0</td>\n",
       "      <td>1</td>\n",
       "      <td>0</td>\n",
       "      <td>0</td>\n",
       "      <td>0</td>\n",
       "      <td>0</td>\n",
       "      <td>0</td>\n",
       "      <td>0</td>\n",
       "      <td>0</td>\n",
       "      <td>0</td>\n",
       "      <td>0</td>\n",
       "      <td>0</td>\n",
       "      <td>0</td>\n",
       "      <td>0</td>\n",
       "      <td>0</td>\n",
       "      <td>0</td>\n",
       "      <td>0</td>\n",
       "      <td>0</td>\n",
       "      <td>0</td>\n",
       "      <td>0</td>\n",
       "      <td>0</td>\n",
       "      <td>0</td>\n",
       "      <td>0</td>\n",
       "      <td>0</td>\n",
       "      <td>0</td>\n",
       "      <td>0</td>\n",
       "      <td>0</td>\n",
       "      <td>0</td>\n",
       "      <td>0</td>\n",
       "      <td>0</td>\n",
       "      <td>2</td>\n",
       "    </tr>\n",
       "    <tr>\n",
       "      <th>3</th>\n",
       "      <td>2785</td>\n",
       "      <td>155</td>\n",
       "      <td>18</td>\n",
       "      <td>242</td>\n",
       "      <td>118</td>\n",
       "      <td>3090</td>\n",
       "      <td>238</td>\n",
       "      <td>238</td>\n",
       "      <td>122</td>\n",
       "      <td>6211</td>\n",
       "      <td>1</td>\n",
       "      <td>0</td>\n",
       "      <td>0</td>\n",
       "      <td>0</td>\n",
       "      <td>0</td>\n",
       "      <td>0</td>\n",
       "      <td>0</td>\n",
       "      <td>0</td>\n",
       "      <td>0</td>\n",
       "      <td>0</td>\n",
       "      <td>0</td>\n",
       "      <td>0</td>\n",
       "      <td>0</td>\n",
       "      <td>0</td>\n",
       "      <td>0</td>\n",
       "      <td>0</td>\n",
       "      <td>0</td>\n",
       "      <td>0</td>\n",
       "      <td>0</td>\n",
       "      <td>0</td>\n",
       "      <td>0</td>\n",
       "      <td>0</td>\n",
       "      <td>0</td>\n",
       "      <td>0</td>\n",
       "      <td>0</td>\n",
       "      <td>0</td>\n",
       "      <td>0</td>\n",
       "      <td>0</td>\n",
       "      <td>0</td>\n",
       "      <td>0</td>\n",
       "      <td>0</td>\n",
       "      <td>0</td>\n",
       "      <td>0</td>\n",
       "      <td>1</td>\n",
       "      <td>0</td>\n",
       "      <td>0</td>\n",
       "      <td>0</td>\n",
       "      <td>0</td>\n",
       "      <td>0</td>\n",
       "      <td>0</td>\n",
       "      <td>0</td>\n",
       "      <td>0</td>\n",
       "      <td>0</td>\n",
       "      <td>0</td>\n",
       "      <td>2</td>\n",
       "    </tr>\n",
       "    <tr>\n",
       "      <th>4</th>\n",
       "      <td>2595</td>\n",
       "      <td>45</td>\n",
       "      <td>2</td>\n",
       "      <td>153</td>\n",
       "      <td>-1</td>\n",
       "      <td>391</td>\n",
       "      <td>220</td>\n",
       "      <td>234</td>\n",
       "      <td>150</td>\n",
       "      <td>6172</td>\n",
       "      <td>1</td>\n",
       "      <td>0</td>\n",
       "      <td>0</td>\n",
       "      <td>0</td>\n",
       "      <td>0</td>\n",
       "      <td>0</td>\n",
       "      <td>0</td>\n",
       "      <td>0</td>\n",
       "      <td>0</td>\n",
       "      <td>0</td>\n",
       "      <td>0</td>\n",
       "      <td>0</td>\n",
       "      <td>0</td>\n",
       "      <td>0</td>\n",
       "      <td>0</td>\n",
       "      <td>0</td>\n",
       "      <td>0</td>\n",
       "      <td>0</td>\n",
       "      <td>0</td>\n",
       "      <td>0</td>\n",
       "      <td>0</td>\n",
       "      <td>0</td>\n",
       "      <td>0</td>\n",
       "      <td>0</td>\n",
       "      <td>0</td>\n",
       "      <td>0</td>\n",
       "      <td>0</td>\n",
       "      <td>0</td>\n",
       "      <td>0</td>\n",
       "      <td>0</td>\n",
       "      <td>0</td>\n",
       "      <td>0</td>\n",
       "      <td>1</td>\n",
       "      <td>0</td>\n",
       "      <td>0</td>\n",
       "      <td>0</td>\n",
       "      <td>0</td>\n",
       "      <td>0</td>\n",
       "      <td>0</td>\n",
       "      <td>0</td>\n",
       "      <td>0</td>\n",
       "      <td>0</td>\n",
       "      <td>0</td>\n",
       "      <td>0</td>\n",
       "      <td>5</td>\n",
       "    </tr>\n",
       "  </tbody>\n",
       "</table>\n",
       "</div>"
      ],
      "text/plain": [
       "   Elevation  Aspect  Slope  ...  Soil_Type39  Soil_Type40  Cover_Type\n",
       "0       2596      51      3  ...            0            0           5\n",
       "1       2590      56      2  ...            0            0           5\n",
       "2       2804     139      9  ...            0            0           2\n",
       "3       2785     155     18  ...            0            0           2\n",
       "4       2595      45      2  ...            0            0           5\n",
       "\n",
       "[5 rows x 55 columns]"
      ]
     },
     "execution_count": 6,
     "metadata": {
      "tags": []
     },
     "output_type": "execute_result"
    }
   ],
   "source": [
    "data = pd.read_csv(data_path)\n",
    "print(\"Let's visualise the first 5 rows of the dataset.\")\n",
    "data.head() "
   ]
  },
  {
   "cell_type": "code",
   "execution_count": null,
   "metadata": {
    "colab": {
     "base_uri": "https://localhost:8080/",
     "height": 34
    },
    "colab_type": "code",
    "id": "QgKQSuHM5DPT",
    "outputId": "65e03608-9173-4565-8ded-0ff784188a53"
   },
   "outputs": [
    {
     "name": "stdout",
     "output_type": "stream",
     "text": [
      "Data Dimensions: Rows(Records): 581012 Columns(Features): 55\n"
     ]
    }
   ],
   "source": [
    "print('Data Dimensions:','Rows(Records):', data.shape[0],'Columns(Features):', data.shape[1])"
   ]
  },
  {
   "cell_type": "markdown",
   "metadata": {
    "colab_type": "text",
    "id": "oN_IcjM66hRM"
   },
   "source": [
    "Data information:\n",
    "\n",
    "- ```Elevation``` = Height in meters.\n",
    "- ```Aspect``` = Aspect in degrees azimuth.\n",
    "- ```Slope``` = Slope in degrees.\n",
    "- ```Horizontal_Distance_To_Hydrology``` = Horizontal distance to nearest surface water features.\n",
    "- ```Vertical_Distance_To_Hydrology``` = Vertical distance to nearest surface water features.\n",
    "- ```Horizontal_Distance_To_Roadways``` = Horizontal distance to nearest roadway.\n",
    "- ```Hillshade_9am``` = Hill shade index at 9am, summer equinox. Value out of 255.\n",
    "- ```Hillshade_Noon``` = Hill shade index at noon, summer equinox. Value out of 255.\n",
    "- ```Hillshade_3pm``` = Hill shade index at 3pm, summer equinox. Value out of 255.\n",
    "- ```Horizontal_Distance_To_Fire_Point``` = Horizontal distance to nearest wildfire ignition points.\n",
    "- ```Wilderness_Area1``` = Rawah Wilderness Area\n",
    "- ```Wilderness_Area2``` = Neota Wilderness Area\n",
    "- ```Wilderness_Area3``` = Comanche Peak Wilderness Area\n",
    "- ```Wilderness_Area4``` = Cache la Poudre Wilderness Area\n",
    "- ```Soil_Type1 to Soil_Type40``` = Type of the soil.\n",
    "- ```Cover_TypeForest``` = Cover type, integer value between 1 and 7, with the following key:\n",
    "\n",
    "1. Spruce/Fir\n",
    "2. Lodgepole Pine\n",
    "3. Ponderosa Pine\n",
    "4. Cottonwood/Willow\n",
    "5. Aspen\n",
    "6. Douglas-fir\n",
    "7. Krummholz"
   ]
  },
  {
   "cell_type": "markdown",
   "metadata": {
    "colab_type": "text",
    "id": "JL1fcAfwgdja"
   },
   "source": [
    "### Explore features to decide which ones to drop (EDA)"
   ]
  },
  {
   "cell_type": "markdown",
   "metadata": {
    "colab_type": "text",
    "id": "zs_xYz0HV2qV"
   },
   "source": [
    "```python\n",
    "features = data.loc[:,'Elevation':'Horizontal_Distance_To_Fire_Points']\n",
    "wilderness = data.loc[:,'Wilderness_Area1':'Wilderness_Area4']\n",
    "soiltype = data.loc[:,'Soil_Type1':'Soil_Type40']\n",
    "```"
   ]
  },
  {
   "cell_type": "code",
   "execution_count": null,
   "metadata": {
    "colab": {},
    "colab_type": "code",
    "id": "Id39Vz-8fTUH"
   },
   "outputs": [],
   "source": [
    "features = data.loc[:,'Elevation':'Horizontal_Distance_To_Fire_Points']\n",
    "wilderness = data.loc[:,'Wilderness_Area1':'Wilderness_Area4']\n",
    "soiltype = data.loc[:,'Soil_Type1':'Soil_Type40']"
   ]
  },
  {
   "cell_type": "markdown",
   "metadata": {
    "colab_type": "text",
    "id": "5lKjYMLlVym9"
   },
   "source": [
    "#### Correlation map of features"
   ]
  },
  {
   "cell_type": "code",
   "execution_count": null,
   "metadata": {
    "colab": {
     "base_uri": "https://localhost:8080/",
     "height": 806
    },
    "colab_type": "code",
    "id": "zRNTGIhxgiQv",
    "outputId": "c60b9043-2991-407e-f4f2-928ba172f047"
   },
   "outputs": [
    {
     "data": {
      "image/png": "[encoded data removed]",
      "text/plain": [
       "<Figure size 1170x720 with 2 Axes>"
      ]
     },
     "metadata": {
      "tags": []
     },
     "output_type": "display_data"
    }
   ],
   "source": [
    "mask = np.zeros_like(features.corr(), dtype=np.bool)\n",
    "mask[np.triu_indices_from(mask)] = True\n",
    "\n",
    "plt.figure(figsize=(13,8))\n",
    "plt.title('Correlation Table', fontsize=20)\n",
    "_ = sns.heatmap(features.corr(),mask=mask,cmap='Blues',linecolor='white',annot=True)"
   ]
  },
  {
   "cell_type": "markdown",
   "metadata": {
    "colab_type": "text",
    "id": "KVUuP-8HUaMR"
   },
   "source": [
    "- ```Hillshade_3pm``` has very small negative correlation with ```Horizontal_Distance_To_Fire_Points```. So, if we drop it, it shouldn't affect the model's predicting power by much.\n",
    "\n",
    "- Also, none of the correlation values are greater than 0.7, so there is no need to drop the other features as they aren't highly correlated."
   ]
  },
  {
   "cell_type": "markdown",
   "metadata": {
    "colab_type": "text",
    "id": "bAokcvhUV8ib"
   },
   "source": [
    "#### Count plot of Soil types"
   ]
  },
  {
   "cell_type": "code",
   "execution_count": null,
   "metadata": {
    "colab": {},
    "colab_type": "code",
    "id": "kNl77dYCVDfr"
   },
   "outputs": [],
   "source": [
    "def rev_code(row):\n",
    "    for c in soiltype.columns:\n",
    "        if row[c] == 1:\n",
    "            return c  \n",
    "\n",
    "cover_soil_type = pd.DataFrame()\n",
    "cover_soil_type['Cover_Type'] = data['Cover_Type']\n",
    "cover_soil_type['Soil_Type'] = soiltype.apply(rev_code, axis=1)"
   ]
  },
  {
   "cell_type": "code",
   "execution_count": null,
   "metadata": {
    "colab": {
     "base_uri": "https://localhost:8080/",
     "height": 829
    },
    "colab_type": "code",
    "id": "BPJ0PdGYVfIl",
    "outputId": "2ad33e7b-b73d-418f-80df-d8e179696ede"
   },
   "outputs": [
    {
     "data": {
      "image/png": "[encoded data removed]",
      "text/plain": [
       "<Figure size 1800x900 with 1 Axes>"
      ]
     },
     "metadata": {
      "tags": []
     },
     "output_type": "display_data"
    }
   ],
   "source": [
    "plt.figure(figsize=(20,10))\n",
    "sns.countplot(x='Soil_Type', hue='Cover_Type',data=cover_soil_type, palette=\"rainbow\")\n",
    "plt.xticks(rotation=90)\n",
    "_ =plt.title('Count Plot of Soil Types',fontsize=15)"
   ]
  },
  {
   "cell_type": "markdown",
   "metadata": {
    "colab_type": "text",
    "id": "OsYmifArnpnq"
   },
   "source": [
    "The following Soil Types have very low counts :\n",
    "- ```Soil_Type18```\n",
    "- ```Soil_Type16```\n",
    "- ```Soil_Type23```\n",
    "- ```Soil_Type8```\n",
    "- ```Soil_Type5```\n",
    "- ```Soil_Type28```\n",
    "- ```Soil_Type1```\n",
    "- ```Soil_Type17```\n",
    "- ```Soil_Type3```\n",
    "- ```Soil_Type34```\n",
    "- ```Soil_Type14```\n",
    "- ```Soil_Type37```\n",
    "- ```Soil_Type35```\n",
    "- ```Soil_Type36```\n",
    "- ```Soil_Type21```\n",
    "- ```Soil_Type26```\n",
    "- ```Soil_Type27```\n",
    "- ```Soil_Type25```\n",
    "- ```Soil_Type7```\n",
    "- ```Soil_Type15```\n",
    "\n",
    "I will be dropping these to reduce computation, as these won't be too signigificant for the analysis anyway."
   ]
  },
  {
   "cell_type": "markdown",
   "metadata": {
    "colab_type": "text",
    "id": "cBcvOtBKWB38"
   },
   "source": [
    "#### Count plot of Wilderness types"
   ]
  },
  {
   "cell_type": "code",
   "execution_count": null,
   "metadata": {
    "colab": {},
    "colab_type": "code",
    "id": "X6EVR6x_WF96"
   },
   "outputs": [],
   "source": [
    "def rev_code(row):\n",
    "    for c in wilderness.columns:\n",
    "        if row[c] == 1:\n",
    "            return c  \n",
    "\n",
    "cover_wild_type = pd.DataFrame()\n",
    "cover_wild_type['Cover_Type'] = data['Cover_Type']\n",
    "cover_wild_type['Wilderness_Area'] = wilderness.apply(rev_code, axis=1)"
   ]
  },
  {
   "cell_type": "code",
   "execution_count": null,
   "metadata": {
    "colab": {
     "base_uri": "https://localhost:8080/",
     "height": 862
    },
    "colab_type": "code",
    "id": "XGa93453WO_E",
    "outputId": "8ad01143-8db8-46ce-dbd6-95d701fb403b"
   },
   "outputs": [
    {
     "data": {
      "image/png": "[encoded data removed]",
      "text/plain": [
       "<Figure size 1800x900 with 1 Axes>"
      ]
     },
     "metadata": {
      "tags": []
     },
     "output_type": "display_data"
    }
   ],
   "source": [
    "plt.figure(figsize=(20,10))\n",
    "sns.countplot(x='Wilderness_Area', hue='Cover_Type',data=cover_wild_type, palette=\"rainbow\")\n",
    "plt.xticks(rotation=90)\n",
    "_ = plt.title('Count Plot of Wildernes Areas',fontsize=15)"
   ]
  },
  {
   "cell_type": "markdown",
   "metadata": {
    "colab_type": "text",
    "id": "3xboJ9ChnTqH"
   },
   "source": [
    "```Wilderness_Area2``` and ```Wilderness_Area4``` have very low counts and thus won't be too relevant for the analysis compared to the other types."
   ]
  },
  {
   "cell_type": "markdown",
   "metadata": {
    "colab_type": "text",
    "id": "mWHs42N8YfLI"
   },
   "source": [
    "### Multi-class SVM using Linear Kernel\n",
    "\n",
    "[SVM in sklearn](https://scikit-learn.org/stable/modules/generated/sklearn.svm.SVC.html)\n"
   ]
  },
  {
   "cell_type": "markdown",
   "metadata": {
    "colab_type": "text",
    "id": "JaZQ2SaIlY6r"
   },
   "source": [
    "#### Reduce the size first, otherwise it will take forever"
   ]
  },
  {
   "cell_type": "code",
   "execution_count": null,
   "metadata": {
    "colab": {},
    "colab_type": "code",
    "id": "seecTUDXlftV"
   },
   "outputs": [],
   "source": [
    "data_copy = data.copy()\n",
    "data_copy = data_copy.head(1000)"
   ]
  },
  {
   "cell_type": "markdown",
   "metadata": {
    "colab_type": "text",
    "id": "Z2tXVaf5gims"
   },
   "source": [
    "#### Feature Selection"
   ]
  },
  {
   "cell_type": "code",
   "execution_count": null,
   "metadata": {
    "colab": {},
    "colab_type": "code",
    "id": "VHGPDMhegy8q"
   },
   "outputs": [],
   "source": [
    "%%capture\n",
    "x = data_copy.loc[:,'Elevation':'Soil_Type40']\n",
    "y = data_copy['Cover_Type']\n",
    "\n",
    "# drop features based on analysis above\n",
    "remove = ['Soil_Type18', 'Soil_Type16', 'Soil_Type23', 'Soil_Type8', 'Soil_Type5', 'Soil_Type28', 'Soil_Type1', 'Soil_Type17', 'Soil_Type3', 'Soil_Type34', 'Soil_Type14', 'Soil_Type37', 'Soil_Type35', 'Soil_Type36',\n",
    "          'Soil_Type21', 'Soil_Type26', 'Soil_Type27', 'Soil_Type25', 'Soil_Type7', 'Soil_Type15', 'Wilderness_Area2', 'Wilderness_Area4', 'Hillshade_3pm']\n",
    "          \n",
    "x.drop(remove, axis=1, inplace=True)"
   ]
  },
  {
   "cell_type": "markdown",
   "metadata": {
    "colab_type": "text",
    "id": "A-t5PCDtlpWf"
   },
   "source": [
    "#### Train:Test split"
   ]
  },
  {
   "cell_type": "code",
   "execution_count": null,
   "metadata": {
    "colab": {
     "base_uri": "https://localhost:8080/",
     "height": 138
    },
    "colab_type": "code",
    "id": "wUbLH168ltfo",
    "outputId": "12f7274f-09fd-47c9-b6c0-acf9400eabcb"
   },
   "outputs": [
    {
     "name": "stdout",
     "output_type": "stream",
     "text": [
      "------------------------------------\n",
      "The shapes of the different data : (n_samples,n_features)\n",
      "x train:  (800, 31)\n",
      "x test:  (200, 31)\n",
      "y train:  (800,)\n",
      "y test:  (200,)\n",
      "------------------------------------\n"
     ]
    }
   ],
   "source": [
    "# Train : test split\n",
    "X_train, X_test, y_train, y_test = train_test_split(x, y, test_size=0.2, random_state=5)\n",
    "print(\"------------------------------------\")\n",
    "print(\"The shapes of the different data : (n_samples,n_features)\")\n",
    "print(\"x train: \",X_train.shape)\n",
    "print(\"x test: \",X_test.shape)\n",
    "print(\"y train: \",y_train.shape)\n",
    "print(\"y test: \",y_test.shape)\n",
    "print(\"------------------------------------\")"
   ]
  },
  {
   "cell_type": "markdown",
   "metadata": {
    "colab_type": "text",
    "id": "FMZrDyuzl7PY"
   },
   "source": [
    "#### Train the Linear SVM for the multi-class problem\n",
    "\n",
    "- 7 classes\n",
    "- 1000 records\n",
    "- 31 features "
   ]
  },
  {
   "cell_type": "code",
   "execution_count": null,
   "metadata": {
    "colab": {
     "base_uri": "https://localhost:8080/",
     "height": 608
    },
    "colab_type": "code",
    "id": "ppQxdOosl-tm",
    "outputId": "a1c24069-4fde-439f-9be9-ddde3f6f47b8"
   },
   "outputs": [
    {
     "name": "stdout",
     "output_type": "stream",
     "text": [
      "--- clf1 - LogisticRegression, Liblinear solver, L2 penalty, One Versus Rest ---\n"
     ]
    },
    {
     "data": {
      "image/png": "[encoded data removed]",
      "text/plain": [
       "<Figure size 360x360 with 2 Axes>"
      ]
     },
     "metadata": {
      "tags": []
     },
     "output_type": "display_data"
    },
    {
     "name": "stdout",
     "output_type": "stream",
     "text": [
      "              precision    recall  f1-score   support\n",
      "\n",
      "           1       0.58      0.41      0.48        37\n",
      "           2       0.70      0.87      0.77       126\n",
      "           5       0.61      0.30      0.40        37\n",
      "\n",
      "    accuracy                           0.68       200\n",
      "   macro avg       0.63      0.52      0.55       200\n",
      "weighted avg       0.66      0.68      0.65       200\n",
      "\n",
      "------------------------------------------------\n",
      "Training accuracy: 68.62 [%] \n",
      "Test accuracy :     67.50 [%]\n",
      "\n"
     ]
    }
   ],
   "source": [
    "svm_model_linear = SVC(kernel = 'linear', C = 1)\n",
    "name = 'clf1 - LogisticRegression, Liblinear solver, L2 penalty, One Versus Rest'\n",
    "_, _ = Classification(svm_model_linear, name, True)"
   ]
  },
  {
   "cell_type": "markdown",
   "metadata": {
    "colab_type": "text",
    "id": "1PDiWRSy5MJf"
   },
   "source": [
    "### Multi Class Logistic Regression - 2 features, 3 classes\n",
    "\n",
    "[Logistic Regression in sklearn](https://scikit-learn.org/stable/modules/generated/sklearn.linear_model.LogisticRegression.html)\n",
    "\n",
    "To  prevent RAM from being completely filled up, I am choosing 50 rows of data for each of the 3 classes."
   ]
  },
  {
   "cell_type": "code",
   "execution_count": null,
   "metadata": {
    "colab": {
     "base_uri": "https://localhost:8080/",
     "height": 226
    },
    "colab_type": "code",
    "id": "3CNnESKOkt5t",
    "outputId": "54fb04ad-583d-4e9f-fc91-724b9f961bea"
   },
   "outputs": [
    {
     "data": {
      "text/html": [
       "<div>\n",
       "<style scoped>\n",
       "    .dataframe tbody tr th:only-of-type {\n",
       "        vertical-align: middle;\n",
       "    }\n",
       "\n",
       "    .dataframe tbody tr th {\n",
       "        vertical-align: top;\n",
       "    }\n",
       "\n",
       "    .dataframe thead th {\n",
       "        text-align: right;\n",
       "    }\n",
       "</style>\n",
       "<table border=\"1\" class=\"dataframe\">\n",
       "  <thead>\n",
       "    <tr style=\"text-align: right;\">\n",
       "      <th></th>\n",
       "      <th>Elevation</th>\n",
       "      <th>Aspect</th>\n",
       "      <th>Slope</th>\n",
       "      <th>Horizontal_Distance_To_Hydrology</th>\n",
       "      <th>Vertical_Distance_To_Hydrology</th>\n",
       "      <th>Horizontal_Distance_To_Roadways</th>\n",
       "      <th>Hillshade_9am</th>\n",
       "      <th>Hillshade_Noon</th>\n",
       "      <th>Horizontal_Distance_To_Fire_Points</th>\n",
       "      <th>Wilderness_Area1</th>\n",
       "      <th>Wilderness_Area3</th>\n",
       "      <th>Soil_Type2</th>\n",
       "      <th>Soil_Type4</th>\n",
       "      <th>Soil_Type6</th>\n",
       "      <th>Soil_Type9</th>\n",
       "      <th>Soil_Type10</th>\n",
       "      <th>Soil_Type11</th>\n",
       "      <th>Soil_Type12</th>\n",
       "      <th>Soil_Type13</th>\n",
       "      <th>Soil_Type19</th>\n",
       "      <th>Soil_Type20</th>\n",
       "      <th>Soil_Type22</th>\n",
       "      <th>Soil_Type24</th>\n",
       "      <th>Soil_Type29</th>\n",
       "      <th>Soil_Type30</th>\n",
       "      <th>Soil_Type31</th>\n",
       "      <th>Soil_Type32</th>\n",
       "      <th>Soil_Type33</th>\n",
       "      <th>Soil_Type38</th>\n",
       "      <th>Soil_Type39</th>\n",
       "      <th>Soil_Type40</th>\n",
       "      <th>Cover_Type</th>\n",
       "    </tr>\n",
       "  </thead>\n",
       "  <tbody>\n",
       "    <tr>\n",
       "      <th>40</th>\n",
       "      <td>2699</td>\n",
       "      <td>347</td>\n",
       "      <td>3</td>\n",
       "      <td>0</td>\n",
       "      <td>0</td>\n",
       "      <td>2096</td>\n",
       "      <td>213</td>\n",
       "      <td>234</td>\n",
       "      <td>6853</td>\n",
       "      <td>1</td>\n",
       "      <td>0</td>\n",
       "      <td>0</td>\n",
       "      <td>0</td>\n",
       "      <td>0</td>\n",
       "      <td>0</td>\n",
       "      <td>0</td>\n",
       "      <td>0</td>\n",
       "      <td>0</td>\n",
       "      <td>0</td>\n",
       "      <td>0</td>\n",
       "      <td>1</td>\n",
       "      <td>0</td>\n",
       "      <td>0</td>\n",
       "      <td>0</td>\n",
       "      <td>0</td>\n",
       "      <td>0</td>\n",
       "      <td>0</td>\n",
       "      <td>0</td>\n",
       "      <td>0</td>\n",
       "      <td>0</td>\n",
       "      <td>0</td>\n",
       "      <td>1</td>\n",
       "    </tr>\n",
       "    <tr>\n",
       "      <th>51</th>\n",
       "      <td>2739</td>\n",
       "      <td>323</td>\n",
       "      <td>25</td>\n",
       "      <td>85</td>\n",
       "      <td>43</td>\n",
       "      <td>3118</td>\n",
       "      <td>149</td>\n",
       "      <td>205</td>\n",
       "      <td>6219</td>\n",
       "      <td>1</td>\n",
       "      <td>0</td>\n",
       "      <td>0</td>\n",
       "      <td>0</td>\n",
       "      <td>0</td>\n",
       "      <td>0</td>\n",
       "      <td>0</td>\n",
       "      <td>0</td>\n",
       "      <td>0</td>\n",
       "      <td>0</td>\n",
       "      <td>0</td>\n",
       "      <td>0</td>\n",
       "      <td>0</td>\n",
       "      <td>0</td>\n",
       "      <td>1</td>\n",
       "      <td>0</td>\n",
       "      <td>0</td>\n",
       "      <td>0</td>\n",
       "      <td>0</td>\n",
       "      <td>0</td>\n",
       "      <td>0</td>\n",
       "      <td>0</td>\n",
       "      <td>1</td>\n",
       "    </tr>\n",
       "    <tr>\n",
       "      <th>52</th>\n",
       "      <td>2696</td>\n",
       "      <td>72</td>\n",
       "      <td>2</td>\n",
       "      <td>30</td>\n",
       "      <td>0</td>\n",
       "      <td>3271</td>\n",
       "      <td>222</td>\n",
       "      <td>234</td>\n",
       "      <td>6071</td>\n",
       "      <td>1</td>\n",
       "      <td>0</td>\n",
       "      <td>0</td>\n",
       "      <td>0</td>\n",
       "      <td>0</td>\n",
       "      <td>0</td>\n",
       "      <td>0</td>\n",
       "      <td>0</td>\n",
       "      <td>0</td>\n",
       "      <td>0</td>\n",
       "      <td>0</td>\n",
       "      <td>0</td>\n",
       "      <td>0</td>\n",
       "      <td>0</td>\n",
       "      <td>0</td>\n",
       "      <td>1</td>\n",
       "      <td>0</td>\n",
       "      <td>0</td>\n",
       "      <td>0</td>\n",
       "      <td>0</td>\n",
       "      <td>0</td>\n",
       "      <td>0</td>\n",
       "      <td>1</td>\n",
       "    </tr>\n",
       "    <tr>\n",
       "      <th>55</th>\n",
       "      <td>2722</td>\n",
       "      <td>315</td>\n",
       "      <td>24</td>\n",
       "      <td>30</td>\n",
       "      <td>19</td>\n",
       "      <td>3216</td>\n",
       "      <td>148</td>\n",
       "      <td>212</td>\n",
       "      <td>6132</td>\n",
       "      <td>1</td>\n",
       "      <td>0</td>\n",
       "      <td>0</td>\n",
       "      <td>0</td>\n",
       "      <td>0</td>\n",
       "      <td>0</td>\n",
       "      <td>0</td>\n",
       "      <td>0</td>\n",
       "      <td>0</td>\n",
       "      <td>0</td>\n",
       "      <td>0</td>\n",
       "      <td>0</td>\n",
       "      <td>0</td>\n",
       "      <td>0</td>\n",
       "      <td>0</td>\n",
       "      <td>0</td>\n",
       "      <td>0</td>\n",
       "      <td>0</td>\n",
       "      <td>0</td>\n",
       "      <td>0</td>\n",
       "      <td>0</td>\n",
       "      <td>0</td>\n",
       "      <td>1</td>\n",
       "    </tr>\n",
       "    <tr>\n",
       "      <th>67</th>\n",
       "      <td>2919</td>\n",
       "      <td>13</td>\n",
       "      <td>13</td>\n",
       "      <td>90</td>\n",
       "      <td>6</td>\n",
       "      <td>5321</td>\n",
       "      <td>207</td>\n",
       "      <td>214</td>\n",
       "      <td>4060</td>\n",
       "      <td>1</td>\n",
       "      <td>0</td>\n",
       "      <td>0</td>\n",
       "      <td>0</td>\n",
       "      <td>0</td>\n",
       "      <td>0</td>\n",
       "      <td>0</td>\n",
       "      <td>0</td>\n",
       "      <td>0</td>\n",
       "      <td>0</td>\n",
       "      <td>0</td>\n",
       "      <td>0</td>\n",
       "      <td>0</td>\n",
       "      <td>0</td>\n",
       "      <td>1</td>\n",
       "      <td>0</td>\n",
       "      <td>0</td>\n",
       "      <td>0</td>\n",
       "      <td>0</td>\n",
       "      <td>0</td>\n",
       "      <td>0</td>\n",
       "      <td>0</td>\n",
       "      <td>1</td>\n",
       "    </tr>\n",
       "  </tbody>\n",
       "</table>\n",
       "</div>"
      ],
      "text/plain": [
       "    Elevation  Aspect  Slope  ...  Soil_Type39  Soil_Type40  Cover_Type\n",
       "40       2699     347      3  ...            0            0           1\n",
       "51       2739     323     25  ...            0            0           1\n",
       "52       2696      72      2  ...            0            0           1\n",
       "55       2722     315     24  ...            0            0           1\n",
       "67       2919      13     13  ...            0            0           1\n",
       "\n",
       "[5 rows x 32 columns]"
      ]
     },
     "execution_count": 18,
     "metadata": {
      "tags": []
     },
     "output_type": "execute_result"
    }
   ],
   "source": [
    "one = data.loc[data['Cover_Type'] == 1]\n",
    "two = data.loc[data['Cover_Type'] == 2]\n",
    "three = data.loc[data['Cover_Type'] == 3]\n",
    "\n",
    "type_one = one.head(50)\n",
    "type_two = two.head(50)\n",
    "type_three = three.head(50)\n",
    "\n",
    "reduced_data = pd.concat([type_one, type_two, type_three], axis=0)\n",
    "\n",
    "# drop features based on analysis above\n",
    "remove = ['Soil_Type18', 'Soil_Type16', 'Soil_Type23', 'Soil_Type8', 'Soil_Type5', 'Soil_Type28', 'Soil_Type1', 'Soil_Type17', 'Soil_Type3', 'Soil_Type34', 'Soil_Type14', 'Soil_Type37', 'Soil_Type35', 'Soil_Type36',\n",
    "          'Soil_Type21', 'Soil_Type26', 'Soil_Type27', 'Soil_Type25', 'Soil_Type7', 'Soil_Type15', 'Wilderness_Area2', 'Wilderness_Area4', 'Hillshade_3pm']\n",
    "\n",
    "reduced_data.drop(remove, axis=1, inplace=True)\n",
    "reduced_data.head()"
   ]
  },
  {
   "cell_type": "code",
   "execution_count": null,
   "metadata": {
    "colab": {
     "base_uri": "https://localhost:8080/",
     "height": 34
    },
    "colab_type": "code",
    "id": "pm93z6KqwDuy",
    "outputId": "74d4e967-994a-46ad-8b70-d323d61fbf0a"
   },
   "outputs": [
    {
     "name": "stdout",
     "output_type": "stream",
     "text": [
      "Data Dimensions: Rows(Records): 150 Columns(Features): 32\n"
     ]
    }
   ],
   "source": [
    "print('Data Dimensions:','Rows(Records):', reduced_data.shape[0],'Columns(Features):', reduced_data.shape[1])"
   ]
  },
  {
   "cell_type": "code",
   "execution_count": null,
   "metadata": {
    "colab": {
     "base_uri": "https://localhost:8080/",
     "height": 156
    },
    "colab_type": "code",
    "id": "A8aqBped57Z2",
    "outputId": "4b71d34b-7ef4-4ac1-af5f-1a60b8d5e906"
   },
   "outputs": [
    {
     "name": "stdout",
     "output_type": "stream",
     "text": [
      "------------------------------------\n",
      "The shapes of the different data : (n_samples,n_features)\n",
      "x train:  (120, 2)\n",
      "x test:  (30, 2)\n",
      "y train:  (120,)\n",
      "y test:  (30,)\n",
      "------------------------------------\n",
      "------------------------------------\n"
     ]
    }
   ],
   "source": [
    "features = ['Elevation','Horizontal_Distance_To_Roadways']\n",
    "classes = ['Cover_Type']\n",
    "x = reduced_data[features]\n",
    "y = reduced_data[classes]\n",
    "y = y.Cover_Type.values\n",
    "x_train, x_test, y_train, y_test = train_test_split(x, y, test_size=0.2, random_state=5)\n",
    "x_train = x_train.to_numpy()\n",
    "x_test = x_test.to_numpy()\n",
    "print(\"------------------------------------\")\n",
    "print(\"The shapes of the different data : (n_samples,n_features)\")\n",
    "print(\"x train: \",x_train.shape)\n",
    "print(\"x test: \",x_test.shape)\n",
    "print(\"y train: \",y_train.shape)\n",
    "print(\"y test: \",y_test.shape)\n",
    "print(\"------------------------------------\")\n",
    "logreg = LogisticRegression(C=1e5)\n",
    "logreg.fit(x_train, y_train)\n",
    "print(\"------------------------------------\")"
   ]
  },
  {
   "cell_type": "markdown",
   "metadata": {
    "colab_type": "text",
    "id": "sp3QHt8nvXFY"
   },
   "source": [
    "#### Graph 1 : Training data "
   ]
  },
  {
   "cell_type": "code",
   "execution_count": null,
   "metadata": {
    "colab": {
     "base_uri": "https://localhost:8080/",
     "height": 257
    },
    "colab_type": "code",
    "id": "bNS_VbdSps7i",
    "outputId": "dedde57b-b5ca-4712-97ec-8ca8381ec412"
   },
   "outputs": [
    {
     "data": {
      "image/png": "[encoded data removed]",
      "text/plain": [
       "<Figure size 360x270 with 1 Axes>"
      ]
     },
     "metadata": {
      "tags": []
     },
     "output_type": "display_data"
    }
   ],
   "source": [
    "# Plot the decision boundary for train data. For that, we will assign a color to each\n",
    "# point in the mesh [x_min, x_max]x[y_min, y_max].\n",
    "x_min, x_max = x_train[:, 0].min() - .5, x_train[:, 0].max() + .5\n",
    "y_min, y_max = x_train[:, 1].min() - .5, x_train[:, 1].max() + .5\n",
    "h = 1  # step size in the mesh\n",
    "xx, yy = np.meshgrid(np.arange(x_min, x_max, h), np.arange(y_min, y_max, h))\n",
    "Z = logreg.predict(np.c_[xx.ravel(), yy.ravel()])\n",
    "\n",
    "# Put the result into a color plot\n",
    "Z = Z.reshape(xx.shape)\n",
    "plt.figure(1, figsize=(4, 3))\n",
    "plt.pcolormesh(xx, yy, Z, cmap=plt.cm.Paired)\n",
    "\n",
    "# Plot also the training points\n",
    "plt.scatter(x_train[:, 0], x_train[:, 1], c=y_train, edgecolors='k', cmap=plt.cm.Paired)\n",
    "plt.xlabel('Elevation')\n",
    "plt.ylabel('Horizontal_Distance_To_Roadways')\n",
    "\n",
    "plt.xlim(xx.min(), xx.max())\n",
    "plt.ylim(yy.min(), yy.max())\n",
    "plt.xticks(())\n",
    "plt.yticks(())\n",
    "\n",
    "plt.show()"
   ]
  },
  {
   "cell_type": "markdown",
   "metadata": {
    "colab_type": "text",
    "id": "kQPZZCeMvaIM"
   },
   "source": [
    "#### Graph 2 : Test data "
   ]
  },
  {
   "cell_type": "code",
   "execution_count": null,
   "metadata": {
    "colab": {
     "base_uri": "https://localhost:8080/",
     "height": 257
    },
    "colab_type": "code",
    "id": "CT6cUNQYt3c7",
    "outputId": "e646a56c-c530-4677-dc8d-fcabfe9287c4"
   },
   "outputs": [
    {
     "data": {
      "image/png": "[encoded data removed]",
      "text/plain": [
       "<Figure size 360x270 with 1 Axes>"
      ]
     },
     "metadata": {
      "tags": []
     },
     "output_type": "display_data"
    }
   ],
   "source": [
    "# Plot the decision boundary for test data. For that, we will assign a color to each\n",
    "# point in the mesh [x_min, x_max]x[y_min, y_max].\n",
    "x_min, x_max = x_test[:, 0].min() - .5, x_test[:, 0].max() + .5\n",
    "y_min, y_max = x_test[:, 1].min() - .5, x_test[:, 1].max() + .5\n",
    "h = 1  # step size in the mesh\n",
    "xx, yy = np.meshgrid(np.arange(x_min, x_max, h), np.arange(y_min, y_max, h))\n",
    "Z = logreg.predict(np.c_[xx.ravel(), yy.ravel()])\n",
    "\n",
    "# Put the result into a color plot\n",
    "Z = Z.reshape(xx.shape)\n",
    "plt.figure(1, figsize=(4, 3))\n",
    "plt.pcolormesh(xx, yy, Z, cmap=plt.cm.Paired)\n",
    "\n",
    "# Plot also the testing points\n",
    "plt.scatter(x_test[:, 0], x_test[:, 1], c=y_test, edgecolors='k', cmap=plt.cm.Paired)\n",
    "plt.xlabel('Elevation')\n",
    "plt.ylabel('Horizontal_Distance_To_Roadways')\n",
    "\n",
    "plt.xlim(xx.min(), xx.max())\n",
    "plt.ylim(yy.min(), yy.max())\n",
    "plt.xticks(())\n",
    "plt.yticks(())\n",
    "\n",
    "plt.show()"
   ]
  }
 ],
 "metadata": {
  "colab": {
   "collapsed_sections": [
    "5xBX4nvSuIfD",
    "OeWXCeDlrX6R",
    "La15qihuoPE6",
    "rUzHuSa9oW6G",
    "00_p5y7KXhDX",
    "WZ6P5FYJZSvV",
    "JL1fcAfwgdja",
    "5lKjYMLlVym9",
    "bAokcvhUV8ib",
    "cBcvOtBKWB38",
    "mWHs42N8YfLI",
    "JaZQ2SaIlY6r",
    "Z2tXVaf5gims",
    "A-t5PCDtlpWf",
    "FMZrDyuzl7PY",
    "1PDiWRSy5MJf",
    "sp3QHt8nvXFY",
    "kQPZZCeMvaIM"
   ],
   "name": "3.2 - Forest Cover",
   "provenance": [],
   "toc_visible": true
  },
  "kernelspec": {
   "display_name": "Python 3",
   "language": "python",
   "name": "python3"
  },
  "language_info": {
   "codemirror_mode": {
    "name": "ipython",
    "version": 3
   },
   "file_extension": ".py",
   "mimetype": "text/x-python",
   "name": "python",
   "nbconvert_exporter": "python",
   "pygments_lexer": "ipython3",
   "version": "3.8.5"
  }
 },
 "nbformat": 4,
 "nbformat_minor": 1
}
