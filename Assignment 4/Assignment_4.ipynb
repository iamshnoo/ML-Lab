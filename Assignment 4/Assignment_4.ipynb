{
 "cells": [
  {
   "cell_type": "code",
   "execution_count": 1,
   "metadata": {
    "id": "fjQVzB9Xa8le"
   },
   "outputs": [],
   "source": [
    "from IPython.core.display import display,HTML"
   ]
  },
  {
   "cell_type": "code",
   "execution_count": 2,
   "metadata": {
    "colab": {
     "base_uri": "https://localhost:8080/",
     "height": 16
    },
    "id": "kCMjll9OuJG2",
    "outputId": "2caea8db-7bb3-492d-ca95-db5ae4f91beb"
   },
   "outputs": [
    {
     "data": {
      "text/html": [
       "<script>\n",
       "    hideInput = () => $('div.input').hide();\n",
       "</script>\n",
       "<body onload=\"javascript:hideInput()\"></body>"
      ],
      "text/plain": [
       "<IPython.core.display.HTML object>"
      ]
     },
     "execution_count": 2,
     "metadata": {},
     "output_type": "execute_result"
    }
   ],
   "source": [
    "HTML('''<script>\n",
    "    hideInput = () => $('div.input').hide();\n",
    "</script>\n",
    "<body onload=\"javascript:hideInput()\"></body>''')"
   ]
  },
  {
   "cell_type": "code",
   "execution_count": 3,
   "metadata": {
    "colab": {
     "base_uri": "https://localhost:8080/",
     "height": 16
    },
    "id": "upHIanjZuKnR",
    "outputId": "bfa5cdd4-aaca-4b28-ea6e-6e46b0f09e28"
   },
   "outputs": [
    {
     "data": {
      "text/html": [
       "<style>.prompt{width: 0px; min-width: 0px; visibility: collapse}</style>"
      ],
      "text/plain": [
       "<IPython.core.display.HTML object>"
      ]
     },
     "metadata": {},
     "output_type": "display_data"
    }
   ],
   "source": [
    "display(HTML('<style>.prompt{width: 0px; min-width: 0px; visibility: collapse}</style>'))"
   ]
  },
  {
   "cell_type": "markdown",
   "metadata": {
    "id": "5xBX4nvSuIfD"
   },
   "source": [
    "# Assignment 4\n",
    "\n",
    "Link to questions - [here](https://docs.google.com/document/d/15C_L4j10rWGvVNzDCmaPNo9yAVsCBEz8PvNRnzydOw0/edit?usp=sharing)"
   ]
  },
  {
   "cell_type": "markdown",
   "metadata": {
    "id": "1GlGRWcpuDVt"
   },
   "source": [
    "***Student Details:***\n",
    "\n",
    "- Name : Anjishnu Mukherjee\n",
    "- Registration Number : B05-511017020\n",
    "- Class Roll Number : CS Gy-70\n",
    "- Exam Roll Number : 510517086\n",
    "- Email : 511017020.anjishnu@students.iiests.ac.in"
   ]
  },
  {
   "cell_type": "markdown",
   "metadata": {
    "id": "OeWXCeDlrX6R"
   },
   "source": [
    "# Project Setup"
   ]
  },
  {
   "cell_type": "markdown",
   "metadata": {
    "id": "La15qihuoPE6"
   },
   "source": [
    "### Mount Google Drive"
   ]
  },
  {
   "cell_type": "code",
   "execution_count": null,
   "metadata": {
    "colab": {
     "base_uri": "https://localhost:8080/",
     "height": 32
    },
    "id": "pjK2Uvizbv1H",
    "outputId": "4eb16e01-885b-4433-c167-5a5268d1b64e"
   },
   "outputs": [
    {
     "name": "stdout",
     "output_type": "stream",
     "text": [
      "Mounted at /content/drive/\n"
     ]
    }
   ],
   "source": [
    "from google.colab import drive\n",
    "drive.mount('/content/drive/', force_remount=True)"
   ]
  },
  {
   "cell_type": "markdown",
   "metadata": {
    "id": "rUzHuSa9oW6G"
   },
   "source": [
    "### Load libraries, set seed"
   ]
  },
  {
   "cell_type": "code",
   "execution_count": null,
   "metadata": {
    "id": "TsH05Js8PGhZ"
   },
   "outputs": [],
   "source": [
    "%%capture\n",
    "import platform\n",
    "import random\n",
    "import os\n",
    "import sys\n",
    "from collections import OrderedDict  \n",
    "import numpy as np \n",
    "import pandas as pd \n",
    "import seaborn as sns  \n",
    "import matplotlib\n",
    "import matplotlib.pyplot as plt\n",
    "import sklearn\n",
    "from sklearn import preprocessing\n",
    "from sklearn.feature_selection import SelectKBest, chi2\n",
    "from sklearn.svm import SVC\n",
    "from sklearn.linear_model import LogisticRegression\n",
    "from sklearn.multiclass import OneVsRestClassifier\n",
    "from sklearn.multiclass import OneVsOneClassifier\n",
    "from sklearn.model_selection import train_test_split\n",
    "from sklearn.metrics import accuracy_score\n",
    "from sklearn.metrics.pairwise import euclidean_distances\n",
    "from sklearn.metrics import confusion_matrix\n",
    "from sklearn.metrics import plot_confusion_matrix\n",
    "from sklearn.metrics import classification_report\n",
    "\n",
    "def get_lib_versions():\n",
    "  print(\"------------------------------------\")\n",
    "  output = OrderedDict()\n",
    "  output[\"OS\"] = platform.platform()\n",
    "  output[\"Python version\"] = sys.version.replace(\"\\n\", \" \")\n",
    "  output[\"Numpy version\"] = np.version.full_version\n",
    "  output[\"Pandas version\"] = pd.__version__\n",
    "  output[\"Matplotlib version\"] = matplotlib.__version__\n",
    "  output[\"Seaborn version\"] = sns.__version__\n",
    "  output[\"Scikitlearn version\"] = sklearn.__version__\n",
    "  for kv in output.items():\n",
    "    print(\"%s: %s\" % kv)\n",
    "  print(\"------------------------------------\")\n",
    "\n",
    "def fix_seeds(seed=1337):\n",
    "  SEED = seed\n",
    "  random.seed(SEED)\n",
    "  os.environ['PYTHONHASHSEED'] = str(SEED)\n",
    "  np.random.seed(SEED)\n",
    "  plt.rcParams['figure.figsize'] = (7.0, 7.0) \n",
    "  plt.rcParams['figure.dpi'] = 90  \n",
    "  sns.set_style(\"dark\")\n",
    "  sns.set_context(\"paper\")\n",
    "  sns.set_palette(\"colorblind\")\n",
    "  print(\"Global Seed : \", SEED)\n",
    "  print(\"------------------------------------\")"
   ]
  },
  {
   "cell_type": "code",
   "execution_count": null,
   "metadata": {
    "colab": {
     "base_uri": "https://localhost:8080/",
     "height": 214
    },
    "id": "LbGCb-ufgEg7",
    "outputId": "d00eaeca-151b-42c9-fe4a-96cc9e6106d1"
   },
   "outputs": [
    {
     "name": "stdout",
     "output_type": "stream",
     "text": [
      "Environment Information : \n",
      "------------------------------------\n",
      "OS: Linux-4.19.112+-x86_64-with-Ubuntu-18.04-bionic\n",
      "Python version: 3.6.9 (default, Jul 17 2020, 12:50:27)  [GCC 8.4.0]\n",
      "Numpy version: 1.18.5\n",
      "Pandas version: 1.0.5\n",
      "Matplotlib version: 3.2.2\n",
      "Seaborn version: 0.10.1\n",
      "Scikitlearn version: 0.22.2.post1\n",
      "------------------------------------\n",
      "Global Seed :  5\n",
      "------------------------------------\n"
     ]
    }
   ],
   "source": [
    "print(\"Environment Information : \")\n",
    "get_lib_versions()\n",
    "fix_seeds(5 )"
   ]
  },
  {
   "cell_type": "code",
   "execution_count": null,
   "metadata": {
    "id": "P3d8kjXlbhxt"
   },
   "outputs": [],
   "source": [
    "# Utility to plot decision function of SVM\n",
    "def plot_svc_decision_function(model, ax=None, plot_support=True):\n",
    "    \"\"\"Plot the decision function for a 2D SVC\"\"\"\n",
    "    if ax is None:\n",
    "        ax = plt.gca()\n",
    "    xlim = ax.get_xlim()\n",
    "    ylim = ax.get_ylim()\n",
    "    \n",
    "    # create grid to evaluate model\n",
    "    x = np.linspace(xlim[0], xlim[1], 30)\n",
    "    y = np.linspace(ylim[0], ylim[1], 30)\n",
    "    Y, X = np.meshgrid(y, x)\n",
    "    xy = np.vstack([X.ravel(), Y.ravel()]).T\n",
    "    P = model.decision_function(xy).reshape(X.shape)\n",
    "    \n",
    "    # plot decision boundary and margins\n",
    "    ax.contour(X, Y, P, colors='k',\n",
    "               levels=[-1, 0, 1], alpha=0.5,\n",
    "               linestyles=['--', '-', '--'])\n",
    "    \n",
    "    # plot support vectors\n",
    "    if plot_support:\n",
    "        ax.scatter(model.support_vectors_[:, 0],\n",
    "                   model.support_vectors_[:, 1],\n",
    "                   s=300, linewidth=1, facecolors='none');\n",
    "    ax.set_xlim(xlim)\n",
    "    ax.set_ylim(ylim)"
   ]
  },
  {
   "cell_type": "markdown",
   "metadata": {
    "id": "4Y3DKTwVHvgk"
   },
   "source": [
    "# Titanic dataset\n",
    "\n",
    "[Link for data](https://www.kaggle.com/heptapod/titanic/version/1#)"
   ]
  },
  {
   "cell_type": "markdown",
   "metadata": {
    "id": "Ch99jgZmnvaq"
   },
   "source": [
    "## Read data from CSV"
   ]
  },
  {
   "cell_type": "code",
   "execution_count": null,
   "metadata": {
    "id": "zWb9rxmIhEIP"
   },
   "outputs": [],
   "source": [
    "file_path = '/content/drive/My Drive/ML_LAB/Assign_3/titanic/' \n",
    "data_path = file_path + 'data.csv'"
   ]
  },
  {
   "cell_type": "code",
   "execution_count": null,
   "metadata": {
    "colab": {
     "base_uri": "https://localhost:8080/",
     "height": 237
    },
    "id": "NjObW3JGnxFI",
    "outputId": "a412f9f2-7c6e-45e2-ee1b-252316909d95"
   },
   "outputs": [
    {
     "name": "stdout",
     "output_type": "stream",
     "text": [
      "Let's take a look at the first 5 rows of the dataset.\n"
     ]
    },
    {
     "data": {
      "text/html": [
       "<div>\n",
       "<style scoped>\n",
       "    .dataframe tbody tr th:only-of-type {\n",
       "        vertical-align: middle;\n",
       "    }\n",
       "\n",
       "    .dataframe tbody tr th {\n",
       "        vertical-align: top;\n",
       "    }\n",
       "\n",
       "    .dataframe thead th {\n",
       "        text-align: right;\n",
       "    }\n",
       "</style>\n",
       "<table border=\"1\" class=\"dataframe\">\n",
       "  <thead>\n",
       "    <tr style=\"text-align: right;\">\n",
       "      <th></th>\n",
       "      <th>Passengerid</th>\n",
       "      <th>Age</th>\n",
       "      <th>Fare</th>\n",
       "      <th>Sex</th>\n",
       "      <th>sibsp</th>\n",
       "      <th>zero</th>\n",
       "      <th>zero.1</th>\n",
       "      <th>zero.2</th>\n",
       "      <th>zero.3</th>\n",
       "      <th>zero.4</th>\n",
       "      <th>zero.5</th>\n",
       "      <th>zero.6</th>\n",
       "      <th>Parch</th>\n",
       "      <th>zero.7</th>\n",
       "      <th>zero.8</th>\n",
       "      <th>zero.9</th>\n",
       "      <th>zero.10</th>\n",
       "      <th>zero.11</th>\n",
       "      <th>zero.12</th>\n",
       "      <th>zero.13</th>\n",
       "      <th>zero.14</th>\n",
       "      <th>Pclass</th>\n",
       "      <th>zero.15</th>\n",
       "      <th>zero.16</th>\n",
       "      <th>Embarked</th>\n",
       "      <th>zero.17</th>\n",
       "      <th>zero.18</th>\n",
       "      <th>2urvived</th>\n",
       "    </tr>\n",
       "  </thead>\n",
       "  <tbody>\n",
       "    <tr>\n",
       "      <th>0</th>\n",
       "      <td>1</td>\n",
       "      <td>22.0</td>\n",
       "      <td>7.2500</td>\n",
       "      <td>0</td>\n",
       "      <td>1</td>\n",
       "      <td>0</td>\n",
       "      <td>0</td>\n",
       "      <td>0</td>\n",
       "      <td>0</td>\n",
       "      <td>0</td>\n",
       "      <td>0</td>\n",
       "      <td>0</td>\n",
       "      <td>0</td>\n",
       "      <td>0</td>\n",
       "      <td>0</td>\n",
       "      <td>0</td>\n",
       "      <td>0</td>\n",
       "      <td>0</td>\n",
       "      <td>0</td>\n",
       "      <td>0</td>\n",
       "      <td>0</td>\n",
       "      <td>3</td>\n",
       "      <td>0</td>\n",
       "      <td>0</td>\n",
       "      <td>2.0</td>\n",
       "      <td>0</td>\n",
       "      <td>0</td>\n",
       "      <td>0</td>\n",
       "    </tr>\n",
       "    <tr>\n",
       "      <th>1</th>\n",
       "      <td>2</td>\n",
       "      <td>38.0</td>\n",
       "      <td>71.2833</td>\n",
       "      <td>1</td>\n",
       "      <td>1</td>\n",
       "      <td>0</td>\n",
       "      <td>0</td>\n",
       "      <td>0</td>\n",
       "      <td>0</td>\n",
       "      <td>0</td>\n",
       "      <td>0</td>\n",
       "      <td>0</td>\n",
       "      <td>0</td>\n",
       "      <td>0</td>\n",
       "      <td>0</td>\n",
       "      <td>0</td>\n",
       "      <td>0</td>\n",
       "      <td>0</td>\n",
       "      <td>0</td>\n",
       "      <td>0</td>\n",
       "      <td>0</td>\n",
       "      <td>1</td>\n",
       "      <td>0</td>\n",
       "      <td>0</td>\n",
       "      <td>0.0</td>\n",
       "      <td>0</td>\n",
       "      <td>0</td>\n",
       "      <td>1</td>\n",
       "    </tr>\n",
       "    <tr>\n",
       "      <th>2</th>\n",
       "      <td>3</td>\n",
       "      <td>26.0</td>\n",
       "      <td>7.9250</td>\n",
       "      <td>1</td>\n",
       "      <td>0</td>\n",
       "      <td>0</td>\n",
       "      <td>0</td>\n",
       "      <td>0</td>\n",
       "      <td>0</td>\n",
       "      <td>0</td>\n",
       "      <td>0</td>\n",
       "      <td>0</td>\n",
       "      <td>0</td>\n",
       "      <td>0</td>\n",
       "      <td>0</td>\n",
       "      <td>0</td>\n",
       "      <td>0</td>\n",
       "      <td>0</td>\n",
       "      <td>0</td>\n",
       "      <td>0</td>\n",
       "      <td>0</td>\n",
       "      <td>3</td>\n",
       "      <td>0</td>\n",
       "      <td>0</td>\n",
       "      <td>2.0</td>\n",
       "      <td>0</td>\n",
       "      <td>0</td>\n",
       "      <td>1</td>\n",
       "    </tr>\n",
       "    <tr>\n",
       "      <th>3</th>\n",
       "      <td>4</td>\n",
       "      <td>35.0</td>\n",
       "      <td>53.1000</td>\n",
       "      <td>1</td>\n",
       "      <td>1</td>\n",
       "      <td>0</td>\n",
       "      <td>0</td>\n",
       "      <td>0</td>\n",
       "      <td>0</td>\n",
       "      <td>0</td>\n",
       "      <td>0</td>\n",
       "      <td>0</td>\n",
       "      <td>0</td>\n",
       "      <td>0</td>\n",
       "      <td>0</td>\n",
       "      <td>0</td>\n",
       "      <td>0</td>\n",
       "      <td>0</td>\n",
       "      <td>0</td>\n",
       "      <td>0</td>\n",
       "      <td>0</td>\n",
       "      <td>1</td>\n",
       "      <td>0</td>\n",
       "      <td>0</td>\n",
       "      <td>2.0</td>\n",
       "      <td>0</td>\n",
       "      <td>0</td>\n",
       "      <td>1</td>\n",
       "    </tr>\n",
       "    <tr>\n",
       "      <th>4</th>\n",
       "      <td>5</td>\n",
       "      <td>35.0</td>\n",
       "      <td>8.0500</td>\n",
       "      <td>0</td>\n",
       "      <td>0</td>\n",
       "      <td>0</td>\n",
       "      <td>0</td>\n",
       "      <td>0</td>\n",
       "      <td>0</td>\n",
       "      <td>0</td>\n",
       "      <td>0</td>\n",
       "      <td>0</td>\n",
       "      <td>0</td>\n",
       "      <td>0</td>\n",
       "      <td>0</td>\n",
       "      <td>0</td>\n",
       "      <td>0</td>\n",
       "      <td>0</td>\n",
       "      <td>0</td>\n",
       "      <td>0</td>\n",
       "      <td>0</td>\n",
       "      <td>3</td>\n",
       "      <td>0</td>\n",
       "      <td>0</td>\n",
       "      <td>2.0</td>\n",
       "      <td>0</td>\n",
       "      <td>0</td>\n",
       "      <td>0</td>\n",
       "    </tr>\n",
       "  </tbody>\n",
       "</table>\n",
       "</div>"
      ],
      "text/plain": [
       "   Passengerid   Age     Fare  Sex  ...  Embarked  zero.17  zero.18  2urvived\n",
       "0            1  22.0   7.2500    0  ...       2.0        0        0         0\n",
       "1            2  38.0  71.2833    1  ...       0.0        0        0         1\n",
       "2            3  26.0   7.9250    1  ...       2.0        0        0         1\n",
       "3            4  35.0  53.1000    1  ...       2.0        0        0         1\n",
       "4            5  35.0   8.0500    0  ...       2.0        0        0         0\n",
       "\n",
       "[5 rows x 28 columns]"
      ]
     },
     "execution_count": 9,
     "metadata": {
      "tags": []
     },
     "output_type": "execute_result"
    }
   ],
   "source": [
    "print(\"Let's take a look at the first 5 rows of the dataset.\")\n",
    "df = pd.read_csv(data_path)\n",
    "\n",
    "# drop rows with nan\n",
    "df.dropna(axis=0,inplace=True) \n",
    "df.head()"
   ]
  },
  {
   "cell_type": "markdown",
   "metadata": {
    "id": "rlhN3ZwhnzuN"
   },
   "source": [
    "## Preprocessing"
   ]
  },
  {
   "cell_type": "markdown",
   "metadata": {
    "id": "FCOoqfZlXu00"
   },
   "source": [
    "### Rename some columns"
   ]
  },
  {
   "cell_type": "code",
   "execution_count": null,
   "metadata": {
    "colab": {
     "base_uri": "https://localhost:8080/",
     "height": 65
    },
    "id": "8wiqQ5Men2Z0",
    "outputId": "998af854-b55f-4165-d6f4-82bf71abc5f5"
   },
   "outputs": [
    {
     "data": {
      "text/plain": [
       "Index(['Age', 'Fare', 'Sex', 'sibsp', 'Parch', 'Pclass', 'Embarked',\n",
       "       'Survived'],\n",
       "      dtype='object')"
      ]
     },
     "execution_count": 10,
     "metadata": {
      "tags": []
     },
     "output_type": "execute_result"
    }
   ],
   "source": [
    "# Renaming column\n",
    "df.rename(columns={'2urvived': 'Survived'}, inplace=True)\n",
    "\n",
    "# Dropping irrevelant columns\n",
    "filter_cols=[col for col in df.columns if col.startswith(\"zero\")]\n",
    "for zero_col in filter_cols:\n",
    "  del df[zero_col]\n",
    "\n",
    "if 'Passengerid' in df.columns:\n",
    "  del df['Passengerid']\n",
    "\n",
    "df.columns"
   ]
  },
  {
   "cell_type": "markdown",
   "metadata": {
    "id": "mb4F7C2fXy5a"
   },
   "source": [
    "### Min-Max Normalisation"
   ]
  },
  {
   "cell_type": "code",
   "execution_count": null,
   "metadata": {
    "colab": {
     "base_uri": "https://localhost:8080/",
     "height": 201
    },
    "id": "4hcBTau5OfRe",
    "outputId": "842e940a-e0d9-43d2-bf56-d84522dda1fc"
   },
   "outputs": [
    {
     "data": {
      "text/html": [
       "<div>\n",
       "<style scoped>\n",
       "    .dataframe tbody tr th:only-of-type {\n",
       "        vertical-align: middle;\n",
       "    }\n",
       "\n",
       "    .dataframe tbody tr th {\n",
       "        vertical-align: top;\n",
       "    }\n",
       "\n",
       "    .dataframe thead th {\n",
       "        text-align: right;\n",
       "    }\n",
       "</style>\n",
       "<table border=\"1\" class=\"dataframe\">\n",
       "  <thead>\n",
       "    <tr style=\"text-align: right;\">\n",
       "      <th></th>\n",
       "      <th>Age</th>\n",
       "      <th>Fare</th>\n",
       "      <th>Sex</th>\n",
       "      <th>sibsp</th>\n",
       "      <th>Parch</th>\n",
       "      <th>Pclass</th>\n",
       "      <th>Embarked</th>\n",
       "      <th>Survived</th>\n",
       "    </tr>\n",
       "  </thead>\n",
       "  <tbody>\n",
       "    <tr>\n",
       "      <th>0</th>\n",
       "      <td>0.273456</td>\n",
       "      <td>0.014151</td>\n",
       "      <td>0</td>\n",
       "      <td>1</td>\n",
       "      <td>0</td>\n",
       "      <td>3</td>\n",
       "      <td>2.0</td>\n",
       "      <td>0</td>\n",
       "    </tr>\n",
       "    <tr>\n",
       "      <th>1</th>\n",
       "      <td>0.473882</td>\n",
       "      <td>0.139136</td>\n",
       "      <td>1</td>\n",
       "      <td>1</td>\n",
       "      <td>0</td>\n",
       "      <td>1</td>\n",
       "      <td>0.0</td>\n",
       "      <td>1</td>\n",
       "    </tr>\n",
       "    <tr>\n",
       "      <th>2</th>\n",
       "      <td>0.323563</td>\n",
       "      <td>0.015469</td>\n",
       "      <td>1</td>\n",
       "      <td>0</td>\n",
       "      <td>0</td>\n",
       "      <td>3</td>\n",
       "      <td>2.0</td>\n",
       "      <td>1</td>\n",
       "    </tr>\n",
       "    <tr>\n",
       "      <th>3</th>\n",
       "      <td>0.436302</td>\n",
       "      <td>0.103644</td>\n",
       "      <td>1</td>\n",
       "      <td>1</td>\n",
       "      <td>0</td>\n",
       "      <td>1</td>\n",
       "      <td>2.0</td>\n",
       "      <td>1</td>\n",
       "    </tr>\n",
       "    <tr>\n",
       "      <th>4</th>\n",
       "      <td>0.436302</td>\n",
       "      <td>0.015713</td>\n",
       "      <td>0</td>\n",
       "      <td>0</td>\n",
       "      <td>0</td>\n",
       "      <td>3</td>\n",
       "      <td>2.0</td>\n",
       "      <td>0</td>\n",
       "    </tr>\n",
       "  </tbody>\n",
       "</table>\n",
       "</div>"
      ],
      "text/plain": [
       "        Age      Fare  Sex  sibsp  Parch  Pclass  Embarked  Survived\n",
       "0  0.273456  0.014151    0      1      0       3       2.0         0\n",
       "1  0.473882  0.139136    1      1      0       1       0.0         1\n",
       "2  0.323563  0.015469    1      0      0       3       2.0         1\n",
       "3  0.436302  0.103644    1      1      0       1       2.0         1\n",
       "4  0.436302  0.015713    0      0      0       3       2.0         0"
      ]
     },
     "execution_count": 11,
     "metadata": {
      "tags": []
     },
     "output_type": "execute_result"
    }
   ],
   "source": [
    "# Normalization\n",
    "lst_cols=['Age','Fare']\n",
    "for col in lst_cols:\n",
    "  x = df[[col]].values.astype(float) # Returns a numpy array\n",
    "  scaler = preprocessing.MinMaxScaler()\n",
    "  x_scaled = scaler.fit_transform(x)\n",
    "  df[col] = pd.DataFrame(x_scaled)\n",
    "\n",
    "df.dropna(axis=0,inplace=True)\n",
    "df.head()"
   ]
  },
  {
   "cell_type": "markdown",
   "metadata": {
    "id": "mMGb6RfpEpl4"
   },
   "source": [
    "## Train:Test split"
   ]
  },
  {
   "cell_type": "code",
   "execution_count": null,
   "metadata": {
    "colab": {
     "base_uri": "https://localhost:8080/",
     "height": 49
    },
    "id": "U1DC-XND9KZv",
    "outputId": "61b3908e-7ca4-45a7-fcfa-e6090012e078"
   },
   "outputs": [
    {
     "name": "stdout",
     "output_type": "stream",
     "text": [
      "Train shape:  (1044, 7) (1044, 1)\n",
      "Test shape:  (261, 7) (261, 1)\n"
     ]
    }
   ],
   "source": [
    "# Splitting the dataset\n",
    "train, test = train_test_split(df,test_size=0.2, random_state=5)\n",
    "\n",
    "y_train = train[['Survived']]\n",
    "X_train = train.drop('Survived',axis=1)\n",
    "print(\"Train shape: \",X_train.shape,y_train.shape)\n",
    "\n",
    "y_test = test[['Survived']]\n",
    "X_test = test.drop('Survived',axis=1)\n",
    "print(\"Test shape: \",X_test.shape,y_test.shape)"
   ]
  },
  {
   "cell_type": "markdown",
   "metadata": {
    "id": "iII0tReA-nEx"
   },
   "source": [
    "## SVM Classifier using following kernels for all features\n",
    "\n",
    "- Linear\n",
    "- Polynomial degree = 2\n",
    "- Polynomial degree = 3\n",
    "- Polynomial degree = 5\n",
    "- RBF\n",
    "- Sigmoid \n"
   ]
  },
  {
   "cell_type": "code",
   "execution_count": null,
   "metadata": {
    "id": "qTRl0LIdZMQe"
   },
   "outputs": [],
   "source": [
    "# list to store dictionaries containing accuracies and count of support vectors for each kernel type\n",
    "clfs_lst = []"
   ]
  },
  {
   "cell_type": "markdown",
   "metadata": {
    "id": "sJweQVbCnBUZ"
   },
   "source": [
    "### Linear SVM"
   ]
  },
  {
   "cell_type": "code",
   "execution_count": null,
   "metadata": {
    "colab": {
     "base_uri": "https://localhost:8080/",
     "height": 197
    },
    "id": "Lh6epVxnZNri",
    "outputId": "6dcb5dcd-b88e-41d2-a6cb-f8962e0d5440"
   },
   "outputs": [
    {
     "name": "stdout",
     "output_type": "stream",
     "text": [
      "\n",
      "Linear\n",
      "[[0.37366905 0.02537431 1.         ... 0.         1.         0.        ]\n",
      " [0.42377552 0.02049464 0.         ... 0.         1.         2.        ]\n",
      " [0.39872228 0.01546857 1.         ... 0.         3.         0.        ]\n",
      " ...\n",
      " [0.31103595 0.01493181 0.         ... 0.         3.         2.        ]\n",
      " [0.19829638 0.01512699 0.         ... 0.         3.         0.        ]\n",
      " [0.58662157 0.10257897 0.         ... 1.         3.         2.        ]]\n",
      "Support Vectors:\n",
      " number of Support Vectors: 549 number of features: 7\n"
     ]
    }
   ],
   "source": [
    "svc = SVC(kernel='linear')\n",
    "clf = svc.fit(X_train, np.asarray(y_train).reshape(1,-1)[0])\n",
    "y_pred_test = clf.predict(X_test)\n",
    "y_pred_train = clf.predict(X_train)\n",
    "a_test = accuracy_score(y_test, y_pred_test) \n",
    "a_train = accuracy_score(y_train, y_pred_train) \n",
    "clfs_lst.append({'Train accuracy':a_train,'Test accuracy':a_test,'Support Vectors\\' count':len(clf.support_)})\n",
    "print(\"\\nLinear\")\n",
    "supports = clf.support_vectors_\n",
    "print(supports)\n",
    "print('Support Vectors:\\n','number of Support Vectors:', supports.shape[0],'number of features:', supports.shape[1])"
   ]
  },
  {
   "cell_type": "markdown",
   "metadata": {
    "id": "RvPCnLnWnDVN"
   },
   "source": [
    "### Polynomial SVM, degree = 2"
   ]
  },
  {
   "cell_type": "code",
   "execution_count": null,
   "metadata": {
    "colab": {
     "base_uri": "https://localhost:8080/",
     "height": 197
    },
    "id": "rEJlE4eQZPJa",
    "outputId": "2f9c76e5-a0bd-4394-f59a-0fc9a6bd3ca1"
   },
   "outputs": [
    {
     "name": "stdout",
     "output_type": "stream",
     "text": [
      "\n",
      "Polynomial SVM. Degree = 2\n",
      "[[0.37366905 0.02537431 1.         ... 0.         1.         0.        ]\n",
      " [0.42377552 0.02049464 0.         ... 0.         1.         2.        ]\n",
      " [0.33608919 0.01410226 1.         ... 0.         3.         2.        ]\n",
      " ...\n",
      " [0.31103595 0.01493181 0.         ... 0.         3.         2.        ]\n",
      " [0.19829638 0.01512699 0.         ... 0.         3.         0.        ]\n",
      " [0.58662157 0.10257897 0.         ... 1.         3.         2.        ]]\n",
      "Support Vectors:\n",
      " number of Support Vectors: 562 number of features: 7\n"
     ]
    }
   ],
   "source": [
    "svc = SVC(kernel='poly', degree=2)\n",
    "clf = svc.fit(X_train, np.asarray(y_train).reshape(1,-1)[0])\n",
    "y_pred_test = clf.predict(X_test)\n",
    "y_pred_train = clf.predict(X_train)\n",
    "a_test = accuracy_score(y_test, y_pred_test) \n",
    "a_train = accuracy_score(y_train, y_pred_train) \n",
    "clfs_lst.append({'Train accuracy':a_train,'Test accuracy':a_test,'Support Vectors\\' count':len(clf.support_)})\n",
    "print(\"\\nPolynomial SVM. Degree = 2\")\n",
    "supports = clf.support_vectors_\n",
    "print(supports)\n",
    "print('Support Vectors:\\n','number of Support Vectors:', supports.shape[0],'number of features:', supports.shape[1])"
   ]
  },
  {
   "cell_type": "markdown",
   "metadata": {
    "id": "TWKYzPXhnGY6"
   },
   "source": [
    "### Polynomial SVM, degree = 3"
   ]
  },
  {
   "cell_type": "code",
   "execution_count": null,
   "metadata": {
    "colab": {
     "base_uri": "https://localhost:8080/",
     "height": 197
    },
    "id": "zzDxithnZTpQ",
    "outputId": "5ae3b97c-ed18-4f70-e389-ea71a19e8685"
   },
   "outputs": [
    {
     "name": "stdout",
     "output_type": "stream",
     "text": [
      "\n",
      "Polynomial SVM. Degree = 3\n",
      "[[0.37366905 0.02537431 1.         ... 0.         1.         0.        ]\n",
      " [0.42377552 0.02049464 0.         ... 0.         1.         2.        ]\n",
      " [0.39872228 0.01546857 1.         ... 0.         3.         0.        ]\n",
      " ...\n",
      " [0.31103595 0.01493181 0.         ... 0.         3.         2.        ]\n",
      " [0.19829638 0.01512699 0.         ... 0.         3.         0.        ]\n",
      " [0.58662157 0.10257897 0.         ... 1.         3.         2.        ]]\n",
      "Support Vectors:\n",
      " number of Support Vectors: 571 number of features: 7\n"
     ]
    }
   ],
   "source": [
    "svc = SVC(kernel='poly', degree=3)\n",
    "clf = svc.fit(X_train, np.asarray(y_train).reshape(1,-1)[0])\n",
    "y_pred_test = clf.predict(X_test)\n",
    "y_pred_train = clf.predict(X_train)\n",
    "a_test = accuracy_score(y_test, y_pred_test) \n",
    "a_train = accuracy_score(y_train, y_pred_train) \n",
    "clfs_lst.append({'Train accuracy':a_train,'Test accuracy':a_test,'Support Vectors\\' count':len(clf.support_)})\n",
    "print(\"\\nPolynomial SVM. Degree = 3\")\n",
    "supports = clf.support_vectors_\n",
    "print(supports)\n",
    "print('Support Vectors:\\n','number of Support Vectors:', supports.shape[0],'number of features:', supports.shape[1])"
   ]
  },
  {
   "cell_type": "markdown",
   "metadata": {
    "id": "s0T5dVWinLza"
   },
   "source": [
    "### Polynomial SVM, degree = 5"
   ]
  },
  {
   "cell_type": "code",
   "execution_count": null,
   "metadata": {
    "colab": {
     "base_uri": "https://localhost:8080/",
     "height": 197
    },
    "id": "0C0IHT7dZVfj",
    "outputId": "31ad475c-a0ba-4b67-9fbc-f7443243993c"
   },
   "outputs": [
    {
     "name": "stdout",
     "output_type": "stream",
     "text": [
      "\n",
      "Polynomial SVM. Degree = 5\n",
      "[[0.62420143 0.02049464 0.         ... 0.         3.         1.        ]\n",
      " [0.37366905 0.02537431 1.         ... 0.         1.         0.        ]\n",
      " [0.38619567 0.32179837 0.         ... 0.         2.         2.        ]\n",
      " ...\n",
      " [0.31103595 0.01493181 0.         ... 0.         3.         2.        ]\n",
      " [0.19829638 0.01512699 0.         ... 0.         3.         0.        ]\n",
      " [0.58662157 0.10257897 0.         ... 1.         3.         2.        ]]\n",
      "Support Vectors:\n",
      " number of Support Vectors: 562 number of features: 7\n"
     ]
    }
   ],
   "source": [
    "svc = SVC(kernel='poly',degree=5)\n",
    "clf = svc.fit(X_train, np.asarray(y_train).reshape(1,-1)[0])\n",
    "y_pred_test = clf.predict(X_test)\n",
    "y_pred_train = clf.predict(X_train)\n",
    "a_test = accuracy_score(y_test, y_pred_test) \n",
    "a_train = accuracy_score(y_train, y_pred_train) \n",
    "clfs_lst.append({'Train accuracy':a_train,'Test accuracy':a_test,'Support Vectors\\' count':len(clf.support_)})\n",
    "print(\"\\nPolynomial SVM. Degree = 5\")\n",
    "supports = clf.support_vectors_\n",
    "print(supports)\n",
    "print('Support Vectors:\\n','number of Support Vectors:', supports.shape[0],'number of features:', supports.shape[1])"
   ]
  },
  {
   "cell_type": "markdown",
   "metadata": {
    "id": "xzt1AJJOnQsz"
   },
   "source": [
    "### SVM with RBF kernel"
   ]
  },
  {
   "cell_type": "code",
   "execution_count": null,
   "metadata": {
    "colab": {
     "base_uri": "https://localhost:8080/",
     "height": 197
    },
    "id": "aVqN_xSCZZG6",
    "outputId": "23637da5-bbf2-4c67-8cea-ba17cd9a7220"
   },
   "outputs": [
    {
     "name": "stdout",
     "output_type": "stream",
     "text": [
      "\n",
      "RBF\n",
      "[[0.37366905 0.02537431 1.         ... 0.         1.         0.        ]\n",
      " [0.42377552 0.02049464 0.         ... 0.         1.         2.        ]\n",
      " [0.38619567 0.32179837 0.         ... 0.         2.         2.        ]\n",
      " ...\n",
      " [0.31103595 0.01493181 0.         ... 0.         3.         2.        ]\n",
      " [0.19829638 0.01512699 0.         ... 0.         3.         0.        ]\n",
      " [0.58662157 0.10257897 0.         ... 1.         3.         2.        ]]\n",
      "Support Vectors:\n",
      " number of Support Vectors: 541 number of features: 7\n"
     ]
    }
   ],
   "source": [
    "svc = SVC(kernel='rbf')\n",
    "clf = svc.fit(X_train, np.asarray(y_train).reshape(1,-1)[0])\n",
    "y_pred_test = clf.predict(X_test)\n",
    "y_pred_train = clf.predict(X_train)\n",
    "a_test = accuracy_score(y_test, y_pred_test) \n",
    "a_train = accuracy_score(y_train, y_pred_train) \n",
    "clfs_lst.append({'Train accuracy':a_train,'Test accuracy':a_test,'Support Vectors\\' count':len(clf.support_)})\n",
    "print(\"\\nRBF\")\n",
    "supports = clf.support_vectors_\n",
    "print(supports)\n",
    "print('Support Vectors:\\n','number of Support Vectors:', supports.shape[0],'number of features:', supports.shape[1])"
   ]
  },
  {
   "cell_type": "markdown",
   "metadata": {
    "id": "Ezeg_YvunTQa"
   },
   "source": [
    "### Sigmoid SVM"
   ]
  },
  {
   "cell_type": "code",
   "execution_count": null,
   "metadata": {
    "colab": {
     "base_uri": "https://localhost:8080/",
     "height": 197
    },
    "id": "S86pvb3aZbXH",
    "outputId": "616219ff-2e95-4d7e-874f-35cf9e544d75"
   },
   "outputs": [
    {
     "name": "stdout",
     "output_type": "stream",
     "text": [
      "\n",
      "Sigmoid\n",
      "[[0.34861581 0.04231498 0.         ... 0.         3.         0.        ]\n",
      " [0.37366905 0.02537431 1.         ... 0.         1.         0.        ]\n",
      " [0.42377552 0.02049464 0.         ... 0.         1.         2.        ]\n",
      " ...\n",
      " [0.27345609 0.01415106 1.         ... 0.         2.         2.        ]\n",
      " [0.31103595 0.01493181 0.         ... 0.         3.         2.        ]\n",
      " [0.58662157 0.10257897 0.         ... 1.         3.         2.        ]]\n",
      "Support Vectors:\n",
      " number of Support Vectors: 361 number of features: 7\n"
     ]
    }
   ],
   "source": [
    "svc = SVC(kernel='sigmoid')\n",
    "clf = svc.fit(X_train, np.asarray(y_train).reshape(1,-1)[0])\n",
    "y_pred_test = clf.predict(X_test)\n",
    "y_pred_train = clf.predict(X_train)\n",
    "a_test = accuracy_score(y_test, y_pred_test) \n",
    "a_train = accuracy_score(y_train, y_pred_train)\n",
    "clfs_lst.append({'Train accuracy':a_train,'Test accuracy':a_test,'Support Vectors\\' count':len(clf.support_)})\n",
    "print(\"\\nSigmoid\")\n",
    "supports = clf.support_vectors_\n",
    "print(supports)\n",
    "print('Support Vectors:\\n','number of Support Vectors:', supports.shape[0],'number of features:', supports.shape[1])"
   ]
  },
  {
   "cell_type": "markdown",
   "metadata": {
    "id": "xmd1ttw3nYZN"
   },
   "source": [
    "### Tabular Comparison of accuracies and support vector counts for all the above models"
   ]
  },
  {
   "cell_type": "code",
   "execution_count": null,
   "metadata": {
    "colab": {
     "base_uri": "https://localhost:8080/",
     "height": 231
    },
    "id": "gSyISImWZdbH",
    "outputId": "9b04861f-fc68-455b-8b4f-6e713f14ea9b"
   },
   "outputs": [
    {
     "data": {
      "text/html": [
       "<div>\n",
       "<style scoped>\n",
       "    .dataframe tbody tr th:only-of-type {\n",
       "        vertical-align: middle;\n",
       "    }\n",
       "\n",
       "    .dataframe tbody tr th {\n",
       "        vertical-align: top;\n",
       "    }\n",
       "\n",
       "    .dataframe thead th {\n",
       "        text-align: right;\n",
       "    }\n",
       "</style>\n",
       "<table border=\"1\" class=\"dataframe\">\n",
       "  <thead>\n",
       "    <tr style=\"text-align: right;\">\n",
       "      <th></th>\n",
       "      <th>Train accuracy</th>\n",
       "      <th>Test accuracy</th>\n",
       "      <th>Support Vectors' count</th>\n",
       "    </tr>\n",
       "  </thead>\n",
       "  <tbody>\n",
       "    <tr>\n",
       "      <th>Linear</th>\n",
       "      <td>0.750958</td>\n",
       "      <td>0.735632</td>\n",
       "      <td>549</td>\n",
       "    </tr>\n",
       "    <tr>\n",
       "      <th>PolyDeg2</th>\n",
       "      <td>0.753831</td>\n",
       "      <td>0.762452</td>\n",
       "      <td>562</td>\n",
       "    </tr>\n",
       "    <tr>\n",
       "      <th>PolyDeg3</th>\n",
       "      <td>0.773946</td>\n",
       "      <td>0.804598</td>\n",
       "      <td>571</td>\n",
       "    </tr>\n",
       "    <tr>\n",
       "      <th>PolyDeg5</th>\n",
       "      <td>0.783525</td>\n",
       "      <td>0.796935</td>\n",
       "      <td>562</td>\n",
       "    </tr>\n",
       "    <tr>\n",
       "      <th>RBF</th>\n",
       "      <td>0.784483</td>\n",
       "      <td>0.823755</td>\n",
       "      <td>541</td>\n",
       "    </tr>\n",
       "    <tr>\n",
       "      <th>Sigmoid</th>\n",
       "      <td>0.691571</td>\n",
       "      <td>0.666667</td>\n",
       "      <td>361</td>\n",
       "    </tr>\n",
       "  </tbody>\n",
       "</table>\n",
       "</div>"
      ],
      "text/plain": [
       "          Train accuracy  Test accuracy  Support Vectors' count\n",
       "Linear          0.750958       0.735632                     549\n",
       "PolyDeg2        0.753831       0.762452                     562\n",
       "PolyDeg3        0.773946       0.804598                     571\n",
       "PolyDeg5        0.783525       0.796935                     562\n",
       "RBF             0.784483       0.823755                     541\n",
       "Sigmoid         0.691571       0.666667                     361"
      ]
     },
     "execution_count": 20,
     "metadata": {
      "tags": []
     },
     "output_type": "execute_result"
    }
   ],
   "source": [
    "res_table = pd.DataFrame(clfs_lst, index=['Linear','PolyDeg2','PolyDeg3','PolyDeg5','RBF','Sigmoid'])\n",
    "res_table"
   ]
  },
  {
   "cell_type": "markdown",
   "metadata": {
    "id": "YUYKdiQq_RjK"
   },
   "source": [
    "## SVM Classifier using following kernels for 2 features\n",
    "\n",
    "- Linear\n",
    "- Polynomial degree = 2\n",
    "- Polynomial degree = 3\n",
    "- Polynomial degree = 5\n",
    "- RBF\n",
    "- Sigmoid \n"
   ]
  },
  {
   "cell_type": "markdown",
   "metadata": {
    "id": "SePdW0tukkZH"
   },
   "source": [
    "### Selecting the 2 best features"
   ]
  },
  {
   "cell_type": "code",
   "execution_count": null,
   "metadata": {
    "colab": {
     "base_uri": "https://localhost:8080/",
     "height": 32
    },
    "id": "HZNzfCNrazwC",
    "outputId": "7172884d-9e37-4186-c21e-44fa725701c2"
   },
   "outputs": [
    {
     "name": "stdout",
     "output_type": "stream",
     "text": [
      "Considered features:  Index(['Age', 'Fare'], dtype='object')\n"
     ]
    }
   ],
   "source": [
    "selector = SelectKBest(chi2, k=2)\n",
    "selector.fit_transform(X_train,y_train)\n",
    "\n",
    "# Get columns to keep and create a new dataframe with only those.\n",
    "cols = [0,1]\n",
    "X_train_new = X_train.iloc[:,cols]\n",
    "X_test_new = X_test.iloc[:,cols]\n",
    "print(\"Considered features: \",X_train_new.columns)"
   ]
  },
  {
   "cell_type": "markdown",
   "metadata": {
    "id": "i4mSOqfJkn0L"
   },
   "source": [
    "### Linear SVM"
   ]
  },
  {
   "cell_type": "code",
   "execution_count": null,
   "metadata": {
    "colab": {
     "base_uri": "https://localhost:8080/",
     "height": 410
    },
    "id": "C_S7RRXra4Ex",
    "outputId": "7dd42d11-f61a-4572-985e-f943ffcf68fc"
   },
   "outputs": [
    {
     "data": {
      "image/png": "[encoded data removed]",
      "text/plain": [
       "<Figure size 900x450 with 1 Axes>"
      ]
     },
     "metadata": {
      "tags": []
     },
     "output_type": "display_data"
    }
   ],
   "source": [
    "svc = SVC(kernel='linear')\n",
    "clf = svc.fit(X_train_new, np.asarray(y_train).reshape(1,-1)[0])\n",
    "color = ['red' if c == 0 else 'blue' for c in y_train.iloc[:100,0]]\n",
    "plt.figure(figsize = (10,5))\n",
    "plt.title('Linear')\n",
    "plt.scatter(X_train_new.iloc[:100, 0], X_train_new.iloc[:100, 1], c=color, s=50, cmap='autumn')\n",
    "plot_svc_decision_function(clf)"
   ]
  },
  {
   "cell_type": "markdown",
   "metadata": {
    "id": "A_Mj1nVakrhB"
   },
   "source": [
    "### Polynomial SVM, degree = 2"
   ]
  },
  {
   "cell_type": "code",
   "execution_count": null,
   "metadata": {
    "colab": {
     "base_uri": "https://localhost:8080/",
     "height": 410
    },
    "id": "bqFg4W5ga6OY",
    "outputId": "e5c73f4c-07a2-442c-89b5-2acf993ba764"
   },
   "outputs": [
    {
     "data": {
      "image/png": "[encoded data removed]",
      "text/plain": [
       "<Figure size 900x450 with 1 Axes>"
      ]
     },
     "metadata": {
      "tags": []
     },
     "output_type": "display_data"
    }
   ],
   "source": [
    "svc = SVC(kernel='poly', degree=2)\n",
    "clf = svc.fit(X_train_new, np.asarray(y_train).reshape(1,-1)[0])\n",
    "color = ['red' if c == 0 else 'blue' for c in y_train.iloc[:100,0]]\n",
    "plt.figure(figsize = (10,5))\n",
    "plt.title('Polynomial SVM. Degree = 2')\n",
    "plt.scatter(X_train_new.iloc[:100, 0], X_train_new.iloc[:100, 1], c=color, s=50, cmap='autumn')\n",
    "plot_svc_decision_function(clf)"
   ]
  },
  {
   "cell_type": "markdown",
   "metadata": {
    "id": "j-dSSOkMkvDj"
   },
   "source": [
    "### Polynomial SVM, degree = 3"
   ]
  },
  {
   "cell_type": "code",
   "execution_count": null,
   "metadata": {
    "colab": {
     "base_uri": "https://localhost:8080/",
     "height": 410
    },
    "id": "0Kwsi6P9a8G8",
    "outputId": "5e7eb088-b855-42b1-817d-88fe6f684fd3"
   },
   "outputs": [
    {
     "data": {
      "image/png": "[encoded data removed]",
      "text/plain": [
       "<Figure size 900x450 with 1 Axes>"
      ]
     },
     "metadata": {
      "tags": []
     },
     "output_type": "display_data"
    }
   ],
   "source": [
    "svc = SVC(kernel='poly', degree=3)\n",
    "clf = svc.fit(X_train_new, np.asarray(y_train).reshape(1,-1)[0])\n",
    "color = ['red' if c == 0 else 'blue' for c in y_train.iloc[:100,0]]\n",
    "plt.figure(figsize = (10,5))\n",
    "plt.title('Polynomial SVM. Degree = 3')\n",
    "plt.scatter(X_train_new.iloc[:100, 0], X_train_new.iloc[:100, 1], c=color, s=50, cmap='autumn')\n",
    "plot_svc_decision_function(clf)"
   ]
  },
  {
   "cell_type": "markdown",
   "metadata": {
    "id": "ljlZxUhFkybG"
   },
   "source": [
    "### Polynomial SVM, degree = 5"
   ]
  },
  {
   "cell_type": "code",
   "execution_count": null,
   "metadata": {
    "colab": {
     "base_uri": "https://localhost:8080/",
     "height": 410
    },
    "id": "0cIkhc6Sa-He",
    "outputId": "e14a805b-5c4d-49c6-c434-eb715092f473"
   },
   "outputs": [
    {
     "data": {
      "image/png": "[encoded data removed]",
      "text/plain": [
       "<Figure size 900x450 with 1 Axes>"
      ]
     },
     "metadata": {
      "tags": []
     },
     "output_type": "display_data"
    }
   ],
   "source": [
    "svc = SVC(kernel='poly', degree=5)\n",
    "clf = svc.fit(X_train_new, np.asarray(y_train).reshape(1,-1)[0])\n",
    "color = ['red' if c == 0 else 'blue' for c in y_train.iloc[:100,0]]\n",
    "plt.figure(figsize = (10,5))\n",
    "plt.title('Polynomial SVM. Degree = 5')\n",
    "plt.scatter(X_train_new.iloc[:100, 0], X_train_new.iloc[:100, 1], c=color, s=50, cmap='autumn')\n",
    "plot_svc_decision_function(clf)"
   ]
  },
  {
   "cell_type": "markdown",
   "metadata": {
    "id": "WcaGHuzNk1sP"
   },
   "source": [
    "### SVM with RBF kernel"
   ]
  },
  {
   "cell_type": "code",
   "execution_count": null,
   "metadata": {
    "colab": {
     "base_uri": "https://localhost:8080/",
     "height": 410
    },
    "id": "4wSpZPtsbASO",
    "outputId": "665a7cb8-48dc-41a7-ce6f-f41246d3895d"
   },
   "outputs": [
    {
     "data": {
      "image/png": "[encoded data removed]",
      "text/plain": [
       "<Figure size 900x450 with 1 Axes>"
      ]
     },
     "metadata": {
      "tags": []
     },
     "output_type": "display_data"
    }
   ],
   "source": [
    "svc = SVC(kernel='rbf')\n",
    "clf = svc.fit(X_train_new, np.asarray(y_train).reshape(1,-1)[0])\n",
    "color = ['red' if c == 0 else 'blue' for c in y_train.iloc[:100,0]]\n",
    "plt.figure(figsize = (10,5))\n",
    "plt.title('RBF')\n",
    "plt.scatter(X_train_new.iloc[:100, 0], X_train_new.iloc[:100, 1], c=color, s=50, cmap='autumn')\n",
    "plot_svc_decision_function(clf)"
   ]
  },
  {
   "cell_type": "markdown",
   "metadata": {
    "id": "r7ekSg43k6gN"
   },
   "source": [
    "### Sigmoid SVM"
   ]
  },
  {
   "cell_type": "code",
   "execution_count": null,
   "metadata": {
    "colab": {
     "base_uri": "https://localhost:8080/",
     "height": 410
    },
    "id": "3u8xwW8AbCRG",
    "outputId": "055f1976-b961-4354-df54-4c5501c2f989"
   },
   "outputs": [
    {
     "data": {
      "image/png": "[encoded data removed]",
      "text/plain": [
       "<Figure size 900x450 with 1 Axes>"
      ]
     },
     "metadata": {
      "tags": []
     },
     "output_type": "display_data"
    }
   ],
   "source": [
    "svc = SVC(kernel='sigmoid')\n",
    "clf = svc.fit(X_train_new, np.asarray(y_train).reshape(1,-1)[0])\n",
    "color = ['red' if c == 0 else 'blue' for c in y_train.iloc[:100,0]]\n",
    "plt.figure(figsize = (10,5))\n",
    "plt.title('Sigmoid')\n",
    "plt.scatter(X_train_new.iloc[:100, 0], X_train_new.iloc[:100, 1], c=color, s=50, cmap='autumn')\n",
    "plot_svc_decision_function(clf)"
   ]
  },
  {
   "cell_type": "markdown",
   "metadata": {
    "id": "jZgdyWWi-sLz"
   },
   "source": [
    "## SVM using custom kernel for 2 features"
   ]
  },
  {
   "cell_type": "markdown",
   "metadata": {
    "id": "zOPbLvEqlOhi"
   },
   "source": [
    "### Define and train the custom kernel\n",
    "\n",
    "- I am using a logarithmic kernel."
   ]
  },
  {
   "cell_type": "code",
   "execution_count": null,
   "metadata": {
    "id": "P-cUqNkLyM8U"
   },
   "outputs": [],
   "source": [
    "# Custom kernel function\n",
    "def my_kernel(x, y):\n",
    "  pow = 7\n",
    "  dist = euclidean_distances(x,y)\n",
    "  return -np.log(1+dist**pow)"
   ]
  },
  {
   "cell_type": "code",
   "execution_count": null,
   "metadata": {
    "colab": {
     "base_uri": "https://localhost:8080/",
     "height": 32
    },
    "id": "4hg6MvX6bT7U",
    "outputId": "752a853b-53c9-42f4-84d3-6a7bee93c17a"
   },
   "outputs": [
    {
     "name": "stdout",
     "output_type": "stream",
     "text": [
      "Custom kernel Train and test accuracy:  0.710727969348659 0.6781609195402298\n"
     ]
    }
   ],
   "source": [
    "svc = SVC(kernel = my_kernel)\n",
    "clf = svc.fit(X_train, np.asarray(y_train).reshape(1,-1)[0])\n",
    "y_pred_test = clf.predict(X_test)\n",
    "y_pred_train = clf.predict(X_train)\n",
    "custom_train_acc = accuracy_score(y_train, y_pred_train)\n",
    "custom_test_acc = accuracy_score(y_test, y_pred_test)\n",
    "print(\"Custom kernel Train and test accuracy: \", custom_train_acc, custom_test_acc)"
   ]
  },
  {
   "cell_type": "markdown",
   "metadata": {
    "id": "A8bCU3XdlbHz"
   },
   "source": [
    "### Compare accuracies of all kernels trained with 2 features"
   ]
  },
  {
   "cell_type": "code",
   "execution_count": null,
   "metadata": {
    "colab": {
     "base_uri": "https://localhost:8080/",
     "height": 427
    },
    "id": "baBe1IX1HupJ",
    "outputId": "c415b8e1-70a2-472d-ecb3-a437e985f5af"
   },
   "outputs": [
    {
     "data": {
      "text/plain": [
       "<matplotlib.legend.Legend at 0x7fcaf54737b8>"
      ]
     },
     "execution_count": 30,
     "metadata": {
      "tags": []
     },
     "output_type": "execute_result"
    },
    {
     "data": {
      "image/png": "[encoded data removed]",
      "text/plain": [
       "<Figure size 900x450 with 1 Axes>"
      ]
     },
     "metadata": {
      "tags": []
     },
     "output_type": "display_data"
    }
   ],
   "source": [
    "N = 7  # number of bar groups\n",
    "train_acc = []\n",
    "test_acc = []\n",
    "ind = np.arange(N) # the x locations for the groups\n",
    "width = 0.35       # the width of the bars\n",
    "fig = plt.figure(figsize=(10,5))\n",
    "ax = fig.add_subplot(111)\n",
    "\n",
    "# preparing lists for train and test accuracies\n",
    "for val in clfs_lst:\n",
    "  train_acc.append(val['Train accuracy'])\n",
    "  test_acc.append(val['Test accuracy'])\n",
    "train_acc.append(custom_train_acc)\n",
    "test_acc.append(custom_test_acc)\n",
    "\n",
    "# draw bars\n",
    "rects1 = ax.bar(ind, train_acc, width, color='r')\n",
    "rects2 = ax.bar(ind + width, test_acc, width, color='b')\n",
    "\n",
    "# bar chart\n",
    "ax.set_ylabel('Accuracy (0 to 1)')\n",
    "ax.set_title(\"Accuracy of SVM on train and test data with different kernels\") \n",
    "ax.set_xticks(ind + width / 2)\n",
    "ax.set_xticklabels(('Linear', 'PolyDeg2', 'PolyDeg3', 'PolyDeg5', 'RBF','Sigmoid','Custom'))\n",
    "ax.legend((rects1[0], rects2[0]), ('Train', 'Test'), loc=\"lower right\")"
   ]
  },
  {
   "cell_type": "markdown",
   "metadata": {
    "id": "ayrIchdd24-p"
   },
   "source": [
    "## SVM with RBF kernel - varying control parameter C\n",
    "\n",
    "- Gamma is kept fixed at the value 0.5\n"
   ]
  },
  {
   "cell_type": "code",
   "execution_count": null,
   "metadata": {
    "id": "qZdpyHwN2-fP"
   },
   "outputs": [],
   "source": [
    "def getTestAcc(g, lo, hi):\n",
    "  mid = (lo + hi) / 2\n",
    "  svc = SVC(kernel='rbf', C=mid, gamma=g)\n",
    "  clf = svc.fit(X_train, np.asarray(y_train).reshape(1,-1)[0])\n",
    "  y_pred_test = clf.predict(X_test)\n",
    "  return accuracy_score(y_test, y_pred_test)\n",
    "  \n",
    "def controlledCRBF(lo, hi, count, g):    # g is the fixed gamma value\n",
    "  train_acc = []\n",
    "  test_acc = []\n",
    "  C_vals = []\n",
    "  iters = 0\n",
    "  \n",
    "  # to be calculated\n",
    "  optimum_C = 0\n",
    "  max_test_acc = 0\n",
    "\n",
    "  while lo < hi and count > 0:\n",
    "    mid = (lo + hi) / 2\n",
    "    svc = SVC(kernel='rbf', C=mid, gamma=g)\n",
    "    clf = svc.fit(X_train, np.asarray(y_train).reshape(1,-1)[0])\n",
    "    y_pred_test = clf.predict(X_test)\n",
    "    y_pred_train = clf.predict(X_train)\n",
    "    \n",
    "    # accuracy\n",
    "    acc_train = accuracy_score(y_train, y_pred_train)\n",
    "    acc_test = accuracy_score(y_test, y_pred_test)\n",
    "    train_acc.append(acc_train)\n",
    "    test_acc.append(acc_test)\n",
    "    C_vals.append(mid)\n",
    "\n",
    "    # check for maximum test acc\n",
    "    if acc_test >= max_test_acc:\n",
    "      max_test_acc = acc_test\n",
    "      optimum_C = mid\n",
    "\n",
    "    a_te = getTestAcc(g, lo, mid)\n",
    "    b_te = getTestAcc(g, mid, hi)\n",
    "    if a_te >= b_te:\n",
    "      hi = mid\n",
    "    else:\n",
    "      lo = mid\n",
    "\n",
    "    count-=1\n",
    "    iters+=1\n",
    "\n",
    "  return iters, train_acc, test_acc, C_vals, optimum_C, max_test_acc"
   ]
  },
  {
   "cell_type": "code",
   "execution_count": null,
   "metadata": {
    "colab": {
     "base_uri": "https://localhost:8080/",
     "height": 445
    },
    "id": "Zd0Gw1ErcKNf",
    "outputId": "2c62aaf5-8872-4916-bc6a-7554256b813d"
   },
   "outputs": [
    {
     "name": "stdout",
     "output_type": "stream",
     "text": [
      "Optimum C:  0.42969226837158203  for test accuracy:  0.8237547892720306\n"
     ]
    },
    {
     "data": {
      "image/png": "[encoded data removed]",
      "text/plain": [
       "<Figure size 900x450 with 1 Axes>"
      ]
     },
     "metadata": {
      "tags": []
     },
     "output_type": "display_data"
    }
   ],
   "source": [
    "# call the above function\n",
    "count, train_acc, test_acc, C_vals, optimum_C, max_test_acc = controlledCRBF(0, 5, 20, 0.5)\n",
    "\n",
    "# plot accuracies\n",
    "plt.figure(figsize=(10,5))\n",
    "plt.title('Variation of train and test accuracy with varying C')\n",
    "plt.xlabel('C values')\n",
    "plt.ylabel('Accuracy')\n",
    "plt.plot(C_vals,train_acc,c='r')\n",
    "plt.plot(C_vals,test_acc,c='b')\n",
    "plt.legend(('Train', 'Test'), loc=\"lower right\")\n",
    "\n",
    "# Optimum C\n",
    "print(\"Optimum C: \", optimum_C, \" for test accuracy: \", max_test_acc)"
   ]
  },
  {
   "cell_type": "markdown",
   "metadata": {
    "id": "T4S1Bc2bJ8yo"
   },
   "source": [
    "## SVM with RBF kernel - varying control parameter Gamma\n",
    "\n",
    "- C is kept fixed at the optimum C value found above."
   ]
  },
  {
   "cell_type": "code",
   "execution_count": null,
   "metadata": {
    "id": "H0rUNQrQS6cP"
   },
   "outputs": [],
   "source": [
    "def getTestAcc(c, lo, hi):\n",
    "  mid = (lo + hi) / 2\n",
    "  svc = SVC(kernel='rbf', C=c, gamma=mid)\n",
    "  clf = svc.fit(X_train, np.asarray(y_train).reshape(1,-1)[0])\n",
    "  y_pred_test = clf.predict(X_test)\n",
    "  return accuracy_score(y_test, y_pred_test)\n",
    "  \n",
    "def controlledGammaRBF(lo, hi, count, c):  # c is the fixed C value\n",
    "  train_acc = []\n",
    "  test_acc = []\n",
    "  gamma_vals = []\n",
    "  iters = 0\n",
    "  \n",
    "  # to be calculated\n",
    "  optimum_gamma = 0\n",
    "  max_test_acc = 0\n",
    "\n",
    "  while lo < hi and count > 0:\n",
    "    mid = (lo + hi) / 2\n",
    "    svc = SVC(kernel='rbf', C=c, gamma=mid)\n",
    "    clf = svc.fit(X_train, np.asarray(y_train).reshape(1,-1)[0])\n",
    "    y_pred_test = clf.predict(X_test)\n",
    "    y_pred_train = clf.predict(X_train)\n",
    "    \n",
    "    # accuracy\n",
    "    acc_train = accuracy_score(y_train, y_pred_train)\n",
    "    acc_test = accuracy_score(y_test, y_pred_test)\n",
    "    train_acc.append(acc_train)\n",
    "    test_acc.append(acc_test)\n",
    "    gamma_vals.append(mid)\n",
    "\n",
    "    # check for maximum test acc\n",
    "    if acc_test >= max_test_acc:\n",
    "      max_test_acc = acc_test\n",
    "      optimum_gamma = mid\n",
    "\n",
    "    a_te = getTestAcc(c, lo, mid)\n",
    "    b_te = getTestAcc(c, mid, hi)\n",
    "    if a_te >= b_te:\n",
    "      hi = mid\n",
    "    else:\n",
    "      lo = mid\n",
    "\n",
    "    count-=1\n",
    "    iters+=1\n",
    "\n",
    "  return iters, train_acc, test_acc, gamma_vals, optimum_gamma, max_test_acc"
   ]
  },
  {
   "cell_type": "code",
   "execution_count": null,
   "metadata": {
    "colab": {
     "base_uri": "https://localhost:8080/",
     "height": 445
    },
    "id": "_juJbLerdF8z",
    "outputId": "6ce758c2-5267-4560-995c-5a5bd02d6aef"
   },
   "outputs": [
    {
     "name": "stdout",
     "output_type": "stream",
     "text": [
      "Optimum Gamma:  0.15625953674316406  for test accuracy:  0.8237547892720306\n"
     ]
    },
    {
     "data": {
      "image/png": "[encoded data removed]",
      "text/plain": [
       "<Figure size 900x450 with 1 Axes>"
      ]
     },
     "metadata": {
      "tags": []
     },
     "output_type": "display_data"
    }
   ],
   "source": [
    "# call the above function\n",
    "count, train_acc, test_acc, gamma_vals, optimum_gamma, max_test_acc = controlledGammaRBF(0, 10, 20, optimum_C)\n",
    "\n",
    "# plot accuracies\n",
    "plt.figure(figsize = (10,5))\n",
    "plt.title('Variation of train and test accuracy with varying gamma')\n",
    "plt.xlabel('Gamma values')\n",
    "plt.ylabel('Accuracy')\n",
    "plt.plot(gamma_vals,train_acc,c='r')\n",
    "plt.plot(gamma_vals,test_acc,c='b')\n",
    "plt.legend(('Train', 'Test'), loc=\"lower right\")\n",
    "\n",
    "# Optimum gamma\n",
    "print(\"Optimum Gamma: \",optimum_gamma,\" for test accuracy: \",max_test_acc)"
   ]
  },
  {
   "cell_type": "markdown",
   "metadata": {
    "id": "wy9C0SS8HWey"
   },
   "source": [
    "# Forest Cover type Dataset\n",
    "\n",
    "[Link for Data](https://www.kaggle.com/uciml/forest-cover-type-dataset)"
   ]
  },
  {
   "cell_type": "markdown",
   "metadata": {
    "id": "tfjuPSU_H35u"
   },
   "source": [
    "## Read data from CSV"
   ]
  },
  {
   "cell_type": "code",
   "execution_count": null,
   "metadata": {
    "id": "L2MvgDL7hr_8"
   },
   "outputs": [],
   "source": [
    "file_path = '/content/drive/My Drive/ML_LAB/Assign_3/forest_cover_type/' \n",
    "data_path = file_path + 'data.csv'"
   ]
  },
  {
   "cell_type": "code",
   "execution_count": null,
   "metadata": {
    "colab": {
     "base_uri": "https://localhost:8080/",
     "height": 237
    },
    "id": "60PNkktsHcDv",
    "outputId": "1f989d45-758d-4494-bcca-b27d2d8de63d"
   },
   "outputs": [
    {
     "name": "stdout",
     "output_type": "stream",
     "text": [
      "Let's take a look at the first 5 rows of the dataset.\n"
     ]
    },
    {
     "data": {
      "text/html": [
       "<div>\n",
       "<style scoped>\n",
       "    .dataframe tbody tr th:only-of-type {\n",
       "        vertical-align: middle;\n",
       "    }\n",
       "\n",
       "    .dataframe tbody tr th {\n",
       "        vertical-align: top;\n",
       "    }\n",
       "\n",
       "    .dataframe thead th {\n",
       "        text-align: right;\n",
       "    }\n",
       "</style>\n",
       "<table border=\"1\" class=\"dataframe\">\n",
       "  <thead>\n",
       "    <tr style=\"text-align: right;\">\n",
       "      <th></th>\n",
       "      <th>Elevation</th>\n",
       "      <th>Aspect</th>\n",
       "      <th>Slope</th>\n",
       "      <th>Horizontal_Distance_To_Hydrology</th>\n",
       "      <th>Vertical_Distance_To_Hydrology</th>\n",
       "      <th>Horizontal_Distance_To_Roadways</th>\n",
       "      <th>Hillshade_9am</th>\n",
       "      <th>Hillshade_Noon</th>\n",
       "      <th>Hillshade_3pm</th>\n",
       "      <th>Horizontal_Distance_To_Fire_Points</th>\n",
       "      <th>Wilderness_Area1</th>\n",
       "      <th>Wilderness_Area2</th>\n",
       "      <th>Wilderness_Area3</th>\n",
       "      <th>Wilderness_Area4</th>\n",
       "      <th>Soil_Type1</th>\n",
       "      <th>Soil_Type2</th>\n",
       "      <th>Soil_Type3</th>\n",
       "      <th>Soil_Type4</th>\n",
       "      <th>Soil_Type5</th>\n",
       "      <th>Soil_Type6</th>\n",
       "      <th>Soil_Type7</th>\n",
       "      <th>Soil_Type8</th>\n",
       "      <th>Soil_Type9</th>\n",
       "      <th>Soil_Type10</th>\n",
       "      <th>Soil_Type11</th>\n",
       "      <th>Soil_Type12</th>\n",
       "      <th>Soil_Type13</th>\n",
       "      <th>Soil_Type14</th>\n",
       "      <th>Soil_Type15</th>\n",
       "      <th>Soil_Type16</th>\n",
       "      <th>Soil_Type17</th>\n",
       "      <th>Soil_Type18</th>\n",
       "      <th>Soil_Type19</th>\n",
       "      <th>Soil_Type20</th>\n",
       "      <th>Soil_Type21</th>\n",
       "      <th>Soil_Type22</th>\n",
       "      <th>Soil_Type23</th>\n",
       "      <th>Soil_Type24</th>\n",
       "      <th>Soil_Type25</th>\n",
       "      <th>Soil_Type26</th>\n",
       "      <th>Soil_Type27</th>\n",
       "      <th>Soil_Type28</th>\n",
       "      <th>Soil_Type29</th>\n",
       "      <th>Soil_Type30</th>\n",
       "      <th>Soil_Type31</th>\n",
       "      <th>Soil_Type32</th>\n",
       "      <th>Soil_Type33</th>\n",
       "      <th>Soil_Type34</th>\n",
       "      <th>Soil_Type35</th>\n",
       "      <th>Soil_Type36</th>\n",
       "      <th>Soil_Type37</th>\n",
       "      <th>Soil_Type38</th>\n",
       "      <th>Soil_Type39</th>\n",
       "      <th>Soil_Type40</th>\n",
       "      <th>Cover_Type</th>\n",
       "    </tr>\n",
       "  </thead>\n",
       "  <tbody>\n",
       "    <tr>\n",
       "      <th>0</th>\n",
       "      <td>2596</td>\n",
       "      <td>51</td>\n",
       "      <td>3</td>\n",
       "      <td>258</td>\n",
       "      <td>0</td>\n",
       "      <td>510</td>\n",
       "      <td>221</td>\n",
       "      <td>232</td>\n",
       "      <td>148</td>\n",
       "      <td>6279</td>\n",
       "      <td>1</td>\n",
       "      <td>0</td>\n",
       "      <td>0</td>\n",
       "      <td>0</td>\n",
       "      <td>0</td>\n",
       "      <td>0</td>\n",
       "      <td>0</td>\n",
       "      <td>0</td>\n",
       "      <td>0</td>\n",
       "      <td>0</td>\n",
       "      <td>0</td>\n",
       "      <td>0</td>\n",
       "      <td>0</td>\n",
       "      <td>0</td>\n",
       "      <td>0</td>\n",
       "      <td>0</td>\n",
       "      <td>0</td>\n",
       "      <td>0</td>\n",
       "      <td>0</td>\n",
       "      <td>0</td>\n",
       "      <td>0</td>\n",
       "      <td>0</td>\n",
       "      <td>0</td>\n",
       "      <td>0</td>\n",
       "      <td>0</td>\n",
       "      <td>0</td>\n",
       "      <td>0</td>\n",
       "      <td>0</td>\n",
       "      <td>0</td>\n",
       "      <td>0</td>\n",
       "      <td>0</td>\n",
       "      <td>0</td>\n",
       "      <td>1</td>\n",
       "      <td>0</td>\n",
       "      <td>0</td>\n",
       "      <td>0</td>\n",
       "      <td>0</td>\n",
       "      <td>0</td>\n",
       "      <td>0</td>\n",
       "      <td>0</td>\n",
       "      <td>0</td>\n",
       "      <td>0</td>\n",
       "      <td>0</td>\n",
       "      <td>0</td>\n",
       "      <td>5</td>\n",
       "    </tr>\n",
       "    <tr>\n",
       "      <th>1</th>\n",
       "      <td>2590</td>\n",
       "      <td>56</td>\n",
       "      <td>2</td>\n",
       "      <td>212</td>\n",
       "      <td>-6</td>\n",
       "      <td>390</td>\n",
       "      <td>220</td>\n",
       "      <td>235</td>\n",
       "      <td>151</td>\n",
       "      <td>6225</td>\n",
       "      <td>1</td>\n",
       "      <td>0</td>\n",
       "      <td>0</td>\n",
       "      <td>0</td>\n",
       "      <td>0</td>\n",
       "      <td>0</td>\n",
       "      <td>0</td>\n",
       "      <td>0</td>\n",
       "      <td>0</td>\n",
       "      <td>0</td>\n",
       "      <td>0</td>\n",
       "      <td>0</td>\n",
       "      <td>0</td>\n",
       "      <td>0</td>\n",
       "      <td>0</td>\n",
       "      <td>0</td>\n",
       "      <td>0</td>\n",
       "      <td>0</td>\n",
       "      <td>0</td>\n",
       "      <td>0</td>\n",
       "      <td>0</td>\n",
       "      <td>0</td>\n",
       "      <td>0</td>\n",
       "      <td>0</td>\n",
       "      <td>0</td>\n",
       "      <td>0</td>\n",
       "      <td>0</td>\n",
       "      <td>0</td>\n",
       "      <td>0</td>\n",
       "      <td>0</td>\n",
       "      <td>0</td>\n",
       "      <td>0</td>\n",
       "      <td>1</td>\n",
       "      <td>0</td>\n",
       "      <td>0</td>\n",
       "      <td>0</td>\n",
       "      <td>0</td>\n",
       "      <td>0</td>\n",
       "      <td>0</td>\n",
       "      <td>0</td>\n",
       "      <td>0</td>\n",
       "      <td>0</td>\n",
       "      <td>0</td>\n",
       "      <td>0</td>\n",
       "      <td>5</td>\n",
       "    </tr>\n",
       "    <tr>\n",
       "      <th>2</th>\n",
       "      <td>2804</td>\n",
       "      <td>139</td>\n",
       "      <td>9</td>\n",
       "      <td>268</td>\n",
       "      <td>65</td>\n",
       "      <td>3180</td>\n",
       "      <td>234</td>\n",
       "      <td>238</td>\n",
       "      <td>135</td>\n",
       "      <td>6121</td>\n",
       "      <td>1</td>\n",
       "      <td>0</td>\n",
       "      <td>0</td>\n",
       "      <td>0</td>\n",
       "      <td>0</td>\n",
       "      <td>0</td>\n",
       "      <td>0</td>\n",
       "      <td>0</td>\n",
       "      <td>0</td>\n",
       "      <td>0</td>\n",
       "      <td>0</td>\n",
       "      <td>0</td>\n",
       "      <td>0</td>\n",
       "      <td>0</td>\n",
       "      <td>0</td>\n",
       "      <td>1</td>\n",
       "      <td>0</td>\n",
       "      <td>0</td>\n",
       "      <td>0</td>\n",
       "      <td>0</td>\n",
       "      <td>0</td>\n",
       "      <td>0</td>\n",
       "      <td>0</td>\n",
       "      <td>0</td>\n",
       "      <td>0</td>\n",
       "      <td>0</td>\n",
       "      <td>0</td>\n",
       "      <td>0</td>\n",
       "      <td>0</td>\n",
       "      <td>0</td>\n",
       "      <td>0</td>\n",
       "      <td>0</td>\n",
       "      <td>0</td>\n",
       "      <td>0</td>\n",
       "      <td>0</td>\n",
       "      <td>0</td>\n",
       "      <td>0</td>\n",
       "      <td>0</td>\n",
       "      <td>0</td>\n",
       "      <td>0</td>\n",
       "      <td>0</td>\n",
       "      <td>0</td>\n",
       "      <td>0</td>\n",
       "      <td>0</td>\n",
       "      <td>2</td>\n",
       "    </tr>\n",
       "    <tr>\n",
       "      <th>3</th>\n",
       "      <td>2785</td>\n",
       "      <td>155</td>\n",
       "      <td>18</td>\n",
       "      <td>242</td>\n",
       "      <td>118</td>\n",
       "      <td>3090</td>\n",
       "      <td>238</td>\n",
       "      <td>238</td>\n",
       "      <td>122</td>\n",
       "      <td>6211</td>\n",
       "      <td>1</td>\n",
       "      <td>0</td>\n",
       "      <td>0</td>\n",
       "      <td>0</td>\n",
       "      <td>0</td>\n",
       "      <td>0</td>\n",
       "      <td>0</td>\n",
       "      <td>0</td>\n",
       "      <td>0</td>\n",
       "      <td>0</td>\n",
       "      <td>0</td>\n",
       "      <td>0</td>\n",
       "      <td>0</td>\n",
       "      <td>0</td>\n",
       "      <td>0</td>\n",
       "      <td>0</td>\n",
       "      <td>0</td>\n",
       "      <td>0</td>\n",
       "      <td>0</td>\n",
       "      <td>0</td>\n",
       "      <td>0</td>\n",
       "      <td>0</td>\n",
       "      <td>0</td>\n",
       "      <td>0</td>\n",
       "      <td>0</td>\n",
       "      <td>0</td>\n",
       "      <td>0</td>\n",
       "      <td>0</td>\n",
       "      <td>0</td>\n",
       "      <td>0</td>\n",
       "      <td>0</td>\n",
       "      <td>0</td>\n",
       "      <td>0</td>\n",
       "      <td>1</td>\n",
       "      <td>0</td>\n",
       "      <td>0</td>\n",
       "      <td>0</td>\n",
       "      <td>0</td>\n",
       "      <td>0</td>\n",
       "      <td>0</td>\n",
       "      <td>0</td>\n",
       "      <td>0</td>\n",
       "      <td>0</td>\n",
       "      <td>0</td>\n",
       "      <td>2</td>\n",
       "    </tr>\n",
       "    <tr>\n",
       "      <th>4</th>\n",
       "      <td>2595</td>\n",
       "      <td>45</td>\n",
       "      <td>2</td>\n",
       "      <td>153</td>\n",
       "      <td>-1</td>\n",
       "      <td>391</td>\n",
       "      <td>220</td>\n",
       "      <td>234</td>\n",
       "      <td>150</td>\n",
       "      <td>6172</td>\n",
       "      <td>1</td>\n",
       "      <td>0</td>\n",
       "      <td>0</td>\n",
       "      <td>0</td>\n",
       "      <td>0</td>\n",
       "      <td>0</td>\n",
       "      <td>0</td>\n",
       "      <td>0</td>\n",
       "      <td>0</td>\n",
       "      <td>0</td>\n",
       "      <td>0</td>\n",
       "      <td>0</td>\n",
       "      <td>0</td>\n",
       "      <td>0</td>\n",
       "      <td>0</td>\n",
       "      <td>0</td>\n",
       "      <td>0</td>\n",
       "      <td>0</td>\n",
       "      <td>0</td>\n",
       "      <td>0</td>\n",
       "      <td>0</td>\n",
       "      <td>0</td>\n",
       "      <td>0</td>\n",
       "      <td>0</td>\n",
       "      <td>0</td>\n",
       "      <td>0</td>\n",
       "      <td>0</td>\n",
       "      <td>0</td>\n",
       "      <td>0</td>\n",
       "      <td>0</td>\n",
       "      <td>0</td>\n",
       "      <td>0</td>\n",
       "      <td>1</td>\n",
       "      <td>0</td>\n",
       "      <td>0</td>\n",
       "      <td>0</td>\n",
       "      <td>0</td>\n",
       "      <td>0</td>\n",
       "      <td>0</td>\n",
       "      <td>0</td>\n",
       "      <td>0</td>\n",
       "      <td>0</td>\n",
       "      <td>0</td>\n",
       "      <td>0</td>\n",
       "      <td>5</td>\n",
       "    </tr>\n",
       "  </tbody>\n",
       "</table>\n",
       "</div>"
      ],
      "text/plain": [
       "   Elevation  Aspect  Slope  ...  Soil_Type39  Soil_Type40  Cover_Type\n",
       "0       2596      51      3  ...            0            0           5\n",
       "1       2590      56      2  ...            0            0           5\n",
       "2       2804     139      9  ...            0            0           2\n",
       "3       2785     155     18  ...            0            0           2\n",
       "4       2595      45      2  ...            0            0           5\n",
       "\n",
       "[5 rows x 55 columns]"
      ]
     },
     "execution_count": 36,
     "metadata": {
      "tags": []
     },
     "output_type": "execute_result"
    }
   ],
   "source": [
    "df1_copy = pd.read_csv(data_path)\n",
    "df1_copy.dropna(axis=0, inplace=True) # drop rows with nan\n",
    "print(\"Let's take a look at the first 5 rows of the dataset.\")\n",
    "df1_copy.head()"
   ]
  },
  {
   "cell_type": "markdown",
   "metadata": {
    "id": "15o7hE0TKDyG"
   },
   "source": [
    "## Preprocessing"
   ]
  },
  {
   "cell_type": "markdown",
   "metadata": {
    "id": "QuNPoarVK-sr"
   },
   "source": [
    "### Choose the first 1000 rows only for the analysis\n",
    "\n",
    "- Google Colab was unable to process more than this amount of data within a reasonable amount of time [RAM crashes]\n",
    "- Within the first 1000 rows, (3,4,6,7) class labels are not present [as was observed during analysis made for previous assignment]\n",
    "- This should not be a problem, because most of the data points are present in the other classes only, and hence this batch is a very good representative sample."
   ]
  },
  {
   "cell_type": "code",
   "execution_count": null,
   "metadata": {
    "id": "P9BqbVsDLCzA"
   },
   "outputs": [],
   "source": [
    "df1 = df1_copy.copy()\n",
    "df1 = df1.head(1000)"
   ]
  },
  {
   "cell_type": "markdown",
   "metadata": {
    "id": "UTasRbfrofTq"
   },
   "source": [
    "### Min-Max Normalization"
   ]
  },
  {
   "cell_type": "code",
   "execution_count": null,
   "metadata": {
    "colab": {
     "base_uri": "https://localhost:8080/",
     "height": 32
    },
    "id": "baA-uxNyKFp7",
    "outputId": "92b59cdc-f54c-4640-8873-c84bf64254c2"
   },
   "outputs": [
    {
     "data": {
      "text/plain": [
       "(1000, 55)"
      ]
     },
     "execution_count": 38,
     "metadata": {
      "tags": []
     },
     "output_type": "execute_result"
    }
   ],
   "source": [
    "for col in df1.columns:\n",
    "  if col == 'Cover_Type':\n",
    "    continue\n",
    "  x = df1[[col]].values.astype(float) # Returns a numpy array\n",
    "  scaler = preprocessing.MinMaxScaler()\n",
    "  x_scaled = scaler.fit_transform(x)\n",
    "  df1[col] = pd.DataFrame(x_scaled)\n",
    "\n",
    "df1.dropna(axis=0, inplace=True) # drop rows with nan\n",
    "df1.shape"
   ]
  },
  {
   "cell_type": "markdown",
   "metadata": {
    "id": "x3XL4EOeIopL"
   },
   "source": [
    "## Train:Test:Validation split"
   ]
  },
  {
   "cell_type": "code",
   "execution_count": null,
   "metadata": {
    "colab": {
     "base_uri": "https://localhost:8080/",
     "height": 65
    },
    "id": "Q1sETh33ISzi",
    "outputId": "c25fd1d7-7fcd-4858-90d2-9ac6e2a1dc04"
   },
   "outputs": [
    {
     "name": "stdout",
     "output_type": "stream",
     "text": [
      "Train shape:  (800, 54) (800, 1)\n",
      "Test shape:  (100, 54) (100, 1)\n",
      "Validation shape:  (100, 54) (100, 1)\n"
     ]
    }
   ],
   "source": [
    "# Splitting the dataset\n",
    "train, test = train_test_split(df1, test_size=0.2, random_state=5)\n",
    "test, valid = train_test_split(test, test_size=0.5, random_state=5)\n",
    "\n",
    "y_train = train[['Cover_Type']]\n",
    "X_train = train.drop('Cover_Type',axis=1)\n",
    "print(\"Train shape: \", X_train.shape, y_train.shape)\n",
    "\n",
    "y_test = test[['Cover_Type']]\n",
    "X_test = test.drop('Cover_Type',axis=1)\n",
    "print(\"Test shape: \", X_test.shape, y_test.shape)\n",
    "\n",
    "y_valid = valid[['Cover_Type']]\n",
    "X_valid = valid.drop('Cover_Type',axis=1)\n",
    "print(\"Validation shape: \", X_valid.shape, y_valid.shape)"
   ]
  },
  {
   "cell_type": "markdown",
   "metadata": {
    "id": "I5B1ylYROl6p"
   },
   "source": [
    "## OVR SVM"
   ]
  },
  {
   "cell_type": "markdown",
   "metadata": {
    "id": "r72EGkpZihQ9"
   },
   "source": [
    "### Train the classifier"
   ]
  },
  {
   "cell_type": "code",
   "execution_count": null,
   "metadata": {
    "id": "LxbZAlQrfdYi"
   },
   "outputs": [],
   "source": [
    "# multiclass OVR SVM\n",
    "clf = OneVsRestClassifier(SVC()).fit(X_train, y_train)\n",
    "\n",
    "# prediction\n",
    "y_pred_test = clf.predict(X_test)\n",
    "y_pred_train = clf.predict(X_train)"
   ]
  },
  {
   "cell_type": "markdown",
   "metadata": {
    "id": "QXlre-_QiNpa"
   },
   "source": [
    "### Plot the confusion matrix"
   ]
  },
  {
   "cell_type": "code",
   "execution_count": null,
   "metadata": {
    "colab": {
     "base_uri": "https://localhost:8080/",
     "height": 738
    },
    "id": "ktghGeX1fjfP",
    "outputId": "d6be6fc1-dcb6-4444-aafb-d6dcefceb47b"
   },
   "outputs": [
    {
     "data": {
      "text/plain": [
       "<sklearn.metrics._plot.confusion_matrix.ConfusionMatrixDisplay at 0x7fcaf5324940>"
      ]
     },
     "execution_count": 41,
     "metadata": {
      "tags": []
     },
     "output_type": "execute_result"
    },
    {
     "data": {
      "image/png": "[encoded data removed]",
      "text/plain": [
       "<Figure size 900x900 with 2 Axes>"
      ]
     },
     "metadata": {
      "tags": []
     },
     "output_type": "display_data"
    }
   ],
   "source": [
    "fig, ax = plt.subplots(figsize=(10, 10))\n",
    "plot_confusion_matrix(clf, X_test, y_test, ax=ax)"
   ]
  },
  {
   "cell_type": "markdown",
   "metadata": {
    "id": "zYJocZTAiUKu"
   },
   "source": [
    "### Compare accuracies for each class label"
   ]
  },
  {
   "cell_type": "code",
   "execution_count": null,
   "metadata": {
    "id": "yuw3zEbbflG-"
   },
   "outputs": [],
   "source": [
    "# Calculating accuracy for train and test data\n",
    "# Get the confusion matrix\n",
    "cm1 = confusion_matrix(y_train, y_pred_train, labels=[1,2,3,4,5,6,7])\n",
    "# normalize the diagonal entries\n",
    "cm1 = cm1.astype('float')/cm1.sum(axis=1)[:,np.newaxis]\n",
    "# the diagonal entries are the accuracies of each class\n",
    "train_acc = cm1.diagonal()\n",
    "\n",
    "# Get the confusion matrix\n",
    "cm2 = confusion_matrix(y_test, y_pred_test, labels=[1,2,3,4,5,6,7])\n",
    "# normalize the diagonal entries\n",
    "cm2 = cm2.astype('float')/cm2.sum(axis=1)[:,np.newaxis]\n",
    "# the diagonal entries are the accuracies of each class\n",
    "test_acc = cm2.diagonal()"
   ]
  },
  {
   "cell_type": "code",
   "execution_count": null,
   "metadata": {
    "colab": {
     "base_uri": "https://localhost:8080/",
     "height": 427
    },
    "id": "IqUu-2MrfwE5",
    "outputId": "425f045d-be96-4678-87e2-e19a9d471940"
   },
   "outputs": [
    {
     "data": {
      "text/plain": [
       "<matplotlib.legend.Legend at 0x7fcaf523f358>"
      ]
     },
     "execution_count": 43,
     "metadata": {
      "tags": []
     },
     "output_type": "execute_result"
    },
    {
     "data": {
      "image/png": "[encoded data removed]",
      "text/plain": [
       "<Figure size 900x450 with 1 Axes>"
      ]
     },
     "metadata": {
      "tags": []
     },
     "output_type": "display_data"
    }
   ],
   "source": [
    "N = 7  # number of bar groups (K => number of class labels)\n",
    "ind1 = np.arange(N)  # the x locations for the groups\n",
    "width = 0.35       # the width of the bars\n",
    "fig = plt.figure(figsize=(10,5))\n",
    "ax = fig.add_subplot(111)\n",
    "\n",
    "# draw bars\n",
    "rects1 = ax.bar(ind1, train_acc, width, color='r')\n",
    "rects2 = ax.bar(ind1 + width, test_acc, width, color='b')\n",
    "ax.set_ylabel('Accuracy (0 to 1)')\n",
    "ax.set_title(\"Accuracy of multiclass OVR SVM on train and test data\") \n",
    "ax.set_xticks(ind1 + width / 2)\n",
    "ax.set_xticklabels(('1', '2', '3', '4', '5', '6', '7'))\n",
    "ax.legend((rects1[0], rects2[0]), ('Train', 'Test'), loc=\"lower right\")"
   ]
  },
  {
   "cell_type": "markdown",
   "metadata": {
    "id": "HGZRln1uRE-J"
   },
   "source": [
    "## OVO SVM"
   ]
  },
  {
   "cell_type": "markdown",
   "metadata": {
    "id": "1RXMuY30iopR"
   },
   "source": [
    "### Train the classifier"
   ]
  },
  {
   "cell_type": "code",
   "execution_count": null,
   "metadata": {
    "id": "79rYaTtuf_iJ"
   },
   "outputs": [],
   "source": [
    "# multiclass OVO SVM\n",
    "clf = OneVsOneClassifier(SVC()).fit(X_train, y_train)\n",
    "\n",
    "# prediction\n",
    "y_pred_test=clf.predict(X_test)\n",
    "y_pred_train=clf.predict(X_train)"
   ]
  },
  {
   "cell_type": "markdown",
   "metadata": {
    "id": "mKNmfnRIiqsK"
   },
   "source": [
    "### Plot the confusion matrix"
   ]
  },
  {
   "cell_type": "code",
   "execution_count": null,
   "metadata": {
    "colab": {
     "base_uri": "https://localhost:8080/",
     "height": 735
    },
    "id": "Cb_uU3GIgA-8",
    "outputId": "dfe3a19f-dc88-48e3-b695-3840702f9573"
   },
   "outputs": [
    {
     "data": {
      "text/plain": [
       "<sklearn.metrics._plot.confusion_matrix.ConfusionMatrixDisplay at 0x7fcaf5324c88>"
      ]
     },
     "execution_count": 45,
     "metadata": {
      "tags": []
     },
     "output_type": "execute_result"
    },
    {
     "data": {
      "image/png": "[encoded data removed]",
      "text/plain": [
       "<Figure size 900x900 with 2 Axes>"
      ]
     },
     "metadata": {
      "tags": []
     },
     "output_type": "display_data"
    }
   ],
   "source": [
    "# confusion matrix\n",
    "fig, ax = plt.subplots(figsize=(10, 10))\n",
    "plot_confusion_matrix(clf, X_test, y_test, ax=ax)"
   ]
  },
  {
   "cell_type": "markdown",
   "metadata": {
    "id": "oevUhkK5iv4G"
   },
   "source": [
    "### Compare accuracies for each class label"
   ]
  },
  {
   "cell_type": "code",
   "execution_count": null,
   "metadata": {
    "id": "OlmSkzXZgGf5"
   },
   "outputs": [],
   "source": [
    "# Calculating accuracy for train and test data\n",
    "# Get the confusion matrix\n",
    "cm1 = confusion_matrix(y_train, y_pred_train, labels=[1,2,3,4,5,6,7])\n",
    "# normalize the diagonal entries\n",
    "cm1 = cm1.astype('float')/cm1.sum(axis=1)[:,np.newaxis]\n",
    "# the diagonal entries are the accuracies of each class\n",
    "train_acc = cm1.diagonal()\n",
    "\n",
    "# Get the confusion matrix\n",
    "cm2 = confusion_matrix(y_test, y_pred_test, labels=[1,2,3,4,5,6,7])\n",
    "# normalize the diagonal entries\n",
    "cm2 = cm2.astype('float')/cm2.sum(axis=1)[:,np.newaxis]\n",
    "# the diagonal entries are the accuracies of each class\n",
    "test_acc = cm2.diagonal()"
   ]
  },
  {
   "cell_type": "code",
   "execution_count": null,
   "metadata": {
    "colab": {
     "base_uri": "https://localhost:8080/",
     "height": 427
    },
    "id": "gnD2t0W5RGo1",
    "outputId": "9974ff16-12d5-42c9-b111-9c611be53c54"
   },
   "outputs": [
    {
     "data": {
      "text/plain": [
       "<matplotlib.legend.Legend at 0x7fcaf50fc2b0>"
      ]
     },
     "execution_count": 47,
     "metadata": {
      "tags": []
     },
     "output_type": "execute_result"
    },
    {
     "data": {
      "image/png": "[encoded data removed]",
      "text/plain": [
       "<Figure size 900x450 with 1 Axes>"
      ]
     },
     "metadata": {
      "tags": []
     },
     "output_type": "display_data"
    }
   ],
   "source": [
    "N = 7  # number of bar groups (K => number of class labels)\n",
    "ind1 = np.arange(N)  # the x locations for the groups\n",
    "width = 0.35         # the width of the bars\n",
    "fig = plt.figure(figsize=(10,5))\n",
    "ax = fig.add_subplot(111)\n",
    "\n",
    "# draw bars\n",
    "rects1 = ax.bar(ind1, train_acc, width, color='r')\n",
    "rects2 = ax.bar(ind1 + width, test_acc, width, color='b')\n",
    "ax.set_ylabel('Accuracy (0 to 1)')\n",
    "ax.set_title(\"Accuracy of multiclass OVO SVM on train and test data\") \n",
    "ax.set_xticks(ind1 + width / 2)\n",
    "ax.set_xticklabels(('1', '2', '3', '4', '5', '6', '7'))\n",
    "ax.legend((rects1[0], rects2[0]), ('Train', 'Test'), loc=\"lower right\")"
   ]
  }
 ],
 "metadata": {
  "colab": {
   "collapsed_sections": [],
   "name": "Assignment 4",
   "provenance": [],
   "toc_visible": true
  },
  "kernelspec": {
   "display_name": "Python 3",
   "language": "python",
   "name": "python3"
  },
  "language_info": {
   "codemirror_mode": {
    "name": "ipython",
    "version": 3
   },
   "file_extension": ".py",
   "mimetype": "text/x-python",
   "name": "python",
   "nbconvert_exporter": "python",
   "pygments_lexer": "ipython3",
   "version": "3.8.5"
  }
 },
 "nbformat": 4,
 "nbformat_minor": 1
}
