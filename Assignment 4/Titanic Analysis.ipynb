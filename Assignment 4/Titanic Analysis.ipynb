{
 "cells": [
  {
   "cell_type": "code",
   "execution_count": 1,
   "metadata": {
    "colab": {},
    "colab_type": "code",
    "id": "fjQVzB9Xa8le"
   },
   "outputs": [],
   "source": [
    "from IPython.core.display import display,HTML"
   ]
  },
  {
   "cell_type": "code",
   "execution_count": 2,
   "metadata": {
    "colab": {
     "base_uri": "https://localhost:8080/",
     "height": 17
    },
    "colab_type": "code",
    "id": "kCMjll9OuJG2",
    "outputId": "69254993-d479-4a22-e05e-f34bc53d22eb"
   },
   "outputs": [
    {
     "data": {
      "text/html": [
       "<script>\n",
       "    hideInput = () => $('div.input').hide();\n",
       "</script>\n",
       "<body onload=\"javascript:hideInput()\"></body>"
      ],
      "text/plain": [
       "<IPython.core.display.HTML object>"
      ]
     },
     "execution_count": 2,
     "metadata": {},
     "output_type": "execute_result"
    }
   ],
   "source": [
    "HTML('''<script>\n",
    "    hideInput = () => $('div.input').hide();\n",
    "</script>\n",
    "<body onload=\"javascript:hideInput()\"></body>''')"
   ]
  },
  {
   "cell_type": "code",
   "execution_count": 3,
   "metadata": {
    "colab": {
     "base_uri": "https://localhost:8080/",
     "height": 17
    },
    "colab_type": "code",
    "id": "upHIanjZuKnR",
    "outputId": "01aa9901-4cbe-47d9-ed20-da53a914c211"
   },
   "outputs": [
    {
     "data": {
      "text/html": [
       "<style>.prompt{width: 0px; min-width: 0px; visibility: collapse}</style>"
      ],
      "text/plain": [
       "<IPython.core.display.HTML object>"
      ]
     },
     "metadata": {},
     "output_type": "display_data"
    }
   ],
   "source": [
    "display(HTML('<style>.prompt{width: 0px; min-width: 0px; visibility: collapse}</style>'))"
   ]
  },
  {
   "cell_type": "markdown",
   "metadata": {
    "colab_type": "text",
    "id": "5xBX4nvSuIfD"
   },
   "source": [
    "# Assignment 4 - Part 1\n",
    "\n",
    "Link to questions - [here](https://docs.google.com/document/d/1nU-hHQPcx7af5qNRpUU5I1SlqffbNVrcMItbw5VXFmk/edit?usp=sharing)"
   ]
  },
  {
   "cell_type": "markdown",
   "metadata": {
    "colab_type": "text",
    "id": "1GlGRWcpuDVt"
   },
   "source": [
    "***Student Details:***\n",
    "\n",
    "- Name : Anjishnu Mukherjee\n",
    "- Registration Number : B05-511017020\n",
    "- Class Roll Number : CS Gy-70\n",
    "- Exam Roll Number : 510517086\n",
    "- Email : 511017020.anjishnu@students.iiests.ac.in"
   ]
  },
  {
   "cell_type": "markdown",
   "metadata": {
    "colab_type": "text",
    "id": "OeWXCeDlrX6R"
   },
   "source": [
    "# Project Setup"
   ]
  },
  {
   "cell_type": "markdown",
   "metadata": {
    "colab_type": "text",
    "id": "La15qihuoPE6"
   },
   "source": [
    "### Mount Google Drive"
   ]
  },
  {
   "cell_type": "code",
   "execution_count": 4,
   "metadata": {
    "colab": {
     "base_uri": "https://localhost:8080/",
     "height": 54
    },
    "colab_type": "code",
    "id": "pjK2Uvizbv1H",
    "outputId": "daddfe0d-48e3-4281-db6f-682cfed036be"
   },
   "outputs": [
    {
     "name": "stdout",
     "output_type": "stream",
     "text": [
      "Mounted at /content/drive/\n"
     ]
    }
   ],
   "source": [
    "from google.colab import drive\n",
    "drive.mount('/content/drive/', force_remount=True)"
   ]
  },
  {
   "cell_type": "markdown",
   "metadata": {
    "colab_type": "text",
    "id": "rUzHuSa9oW6G"
   },
   "source": [
    "### Load libraries, set seed"
   ]
  },
  {
   "cell_type": "code",
   "execution_count": 5,
   "metadata": {
    "colab": {},
    "colab_type": "code",
    "id": "TsH05Js8PGhZ"
   },
   "outputs": [],
   "source": [
    "%%capture\n",
    "import platform\n",
    "import random\n",
    "import os\n",
    "import sys\n",
    "from collections import OrderedDict  \n",
    "import numpy as np \n",
    "import pandas as pd \n",
    "import seaborn as sns  \n",
    "import matplotlib\n",
    "import matplotlib.pyplot as plt\n",
    "import sklearn\n",
    "from sklearn.svm import SVC\n",
    "from sklearn.model_selection import train_test_split\n",
    "from sklearn.metrics import confusion_matrix\n",
    "\n",
    "def get_lib_versions():\n",
    "  print(\"------------------------------------\")\n",
    "  output = OrderedDict()\n",
    "  output[\"OS\"] = platform.platform()\n",
    "  output[\"Python version\"] = sys.version.replace(\"\\n\", \" \")\n",
    "  output[\"Numpy version\"] = np.version.full_version\n",
    "  output[\"Pandas version\"] = pd.__version__\n",
    "  output[\"Matplotlib version\"] = matplotlib.__version__\n",
    "  output[\"Seaborn version\"] = sns.__version__\n",
    "  output[\"Scikitlearn version\"] = sklearn.__version__\n",
    "  for kv in output.items():\n",
    "    print(\"%s: %s\" % kv)\n",
    "  print(\"------------------------------------\")\n",
    "\n",
    "def fix_seeds(seed=1337):\n",
    "  SEED = seed\n",
    "  random.seed(SEED)\n",
    "  os.environ['PYTHONHASHSEED'] = str(SEED)\n",
    "  np.random.seed(SEED)\n",
    "  plt.rcParams['figure.figsize'] = (7.0, 7.0) \n",
    "  plt.rcParams['figure.dpi'] = 90  \n",
    "  sns.set_style(\"dark\")\n",
    "  sns.set_context(\"paper\")\n",
    "  sns.set_palette(\"colorblind\")\n",
    "  print(\"Global Seed : \", SEED)\n",
    "  print(\"------------------------------------\")"
   ]
  },
  {
   "cell_type": "code",
   "execution_count": 6,
   "metadata": {
    "colab": {
     "base_uri": "https://localhost:8080/",
     "height": 225
    },
    "colab_type": "code",
    "id": "LbGCb-ufgEg7",
    "outputId": "8232aba0-3344-4cc8-e605-b4f9a8a4b7bf"
   },
   "outputs": [
    {
     "name": "stdout",
     "output_type": "stream",
     "text": [
      "Environment Information : \n",
      "------------------------------------\n",
      "OS: Linux-4.19.112+-x86_64-with-Ubuntu-18.04-bionic\n",
      "Python version: 3.6.9 (default, Jul 17 2020, 12:50:27)  [GCC 8.4.0]\n",
      "Numpy version: 1.18.5\n",
      "Pandas version: 1.0.5\n",
      "Matplotlib version: 3.2.2\n",
      "Seaborn version: 0.10.1\n",
      "Scikitlearn version: 0.22.2.post1\n",
      "------------------------------------\n",
      "Global Seed :  5\n",
      "------------------------------------\n"
     ]
    }
   ],
   "source": [
    "print(\"Environment Information : \")\n",
    "get_lib_versions()\n",
    "fix_seeds(5 )"
   ]
  },
  {
   "cell_type": "markdown",
   "metadata": {
    "colab_type": "text",
    "id": "PckZuT783XkI"
   },
   "source": [
    "### Common functionality for classification"
   ]
  },
  {
   "cell_type": "code",
   "execution_count": 7,
   "metadata": {
    "colab": {},
    "colab_type": "code",
    "id": "yJgeZq8d12Yr"
   },
   "outputs": [],
   "source": [
    "def Classification(model, clf_name, print_result):\n",
    "    random_state = np.random.RandomState(5)\n",
    "\n",
    "    # train the model\n",
    "    model.fit(X_train, y_train)   \n",
    "\n",
    "    # calculate accuracy scores\n",
    "    score_train, score_test = model.score(X_train, y_train)*100, model.score(X_test, y_test)*100\n",
    "\n",
    "    # get predictions on Test-set\n",
    "    y_pred = model.predict(X_test)\n",
    "\n",
    "    # confusion matrix \n",
    "    cm = confusion_matrix(y_test, y_pred)\n",
    "\n",
    "    if print_result:\n",
    "        # Calculating the accuracies\n",
    "        print('--- '+clf_name+' ---')\n",
    "\n",
    "        # Print confusion matrix\n",
    "        plt.rcParams['figure.figsize'] = (4, 4)\n",
    "        sns.heatmap(cm, annot = True)\n",
    "        plt.title('Confusion Matrix', fontsize = 14)\n",
    "        plt.show()\n",
    "        print(\"------------------------------------------------\")\n",
    "        print('Training accuracy: %.2f [%%] \\nTest accuracy :     %.2f [%%]\\n'%(score_train, score_test))   \n",
    "        print(\"------------------------------------------------\")  \n",
    "        print(\"Support Vectors :\\n\", model.support_vectors_ )\n",
    "        print(\"------------------------------------------------\")\n",
    "        df = pd.DataFrame(model.support_vectors_)\n",
    "        print(\"\\nLet's observe the first 5 support vectors a bit more closely : \\n\")\n",
    "        print(df.head())\n",
    "        print(\"------------------------------------------------\")\n",
    "    return model, score_train, score_test, model.support_vectors_"
   ]
  },
  {
   "cell_type": "code",
   "execution_count": 8,
   "metadata": {
    "colab": {},
    "colab_type": "code",
    "id": "BfwAtpwE3Hfd"
   },
   "outputs": [],
   "source": [
    "clf_dict = dict()         \n",
    "clf_dict[0] = SVC(kernel='linear', random_state=5)\n",
    "clf_dict[1] = SVC(kernel='poly', degree=2, random_state=5)\n",
    "clf_dict[2] = SVC(kernel='poly', degree=3, random_state=5)\n",
    "clf_dict[3] = SVC(kernel='poly', degree=5, random_state=5)\n",
    "clf_dict[4] = SVC(kernel='rbf', random_state=5)\n",
    "clf_dict[5] = SVC(kernel='sigmoid', random_state=5)\n",
    "\n",
    "clf_names = ['clf1', 'clf2', 'clf3', 'clf4', 'clf5', 'clf6']\n",
    "train_accuracies = []\n",
    "test_accuracies = []\n",
    "support_vectors = []"
   ]
  },
  {
   "cell_type": "markdown",
   "metadata": {
    "colab_type": "text",
    "id": "_zLkS4usXeMi"
   },
   "source": [
    "# Titanic dataset\n",
    "\n",
    "[Link for data](https://www.kaggle.com/heptapod/titanic/version/1#)\n",
    "\n"
   ]
  },
  {
   "cell_type": "markdown",
   "metadata": {
    "colab_type": "text",
    "id": "34OvDQwn4R4E"
   },
   "source": [
    "### Pre-Processing"
   ]
  },
  {
   "cell_type": "markdown",
   "metadata": {
    "colab_type": "text",
    "id": "KlMDQCFOeZqr"
   },
   "source": [
    "#### Original Data (not given in assignment)"
   ]
  },
  {
   "cell_type": "code",
   "execution_count": 9,
   "metadata": {
    "colab": {},
    "colab_type": "code",
    "id": "lyaw9qSDXdLh"
   },
   "outputs": [],
   "source": [
    "file_path = '/content/drive/My Drive/ML_LAB/Assign_3/titanic/' \n",
    "data_path = file_path + 'original.csv'"
   ]
  },
  {
   "cell_type": "code",
   "execution_count": 10,
   "metadata": {
    "colab": {
     "base_uri": "https://localhost:8080/",
     "height": 521
    },
    "colab_type": "code",
    "id": "hHI-gbXIX4R6",
    "outputId": "10e6ad87-1bfc-41da-ce69-08373e5aacca"
   },
   "outputs": [
    {
     "name": "stdout",
     "output_type": "stream",
     "text": [
      "Let's visualise the first 5 rows of the original training data.\n"
     ]
    },
    {
     "data": {
      "text/html": [
       "<div>\n",
       "<style scoped>\n",
       "    .dataframe tbody tr th:only-of-type {\n",
       "        vertical-align: middle;\n",
       "    }\n",
       "\n",
       "    .dataframe tbody tr th {\n",
       "        vertical-align: top;\n",
       "    }\n",
       "\n",
       "    .dataframe thead th {\n",
       "        text-align: right;\n",
       "    }\n",
       "</style>\n",
       "<table border=\"1\" class=\"dataframe\">\n",
       "  <thead>\n",
       "    <tr style=\"text-align: right;\">\n",
       "      <th></th>\n",
       "      <th>PassengerId</th>\n",
       "      <th>Survived</th>\n",
       "      <th>Pclass</th>\n",
       "      <th>Name</th>\n",
       "      <th>Sex</th>\n",
       "      <th>Age</th>\n",
       "      <th>SibSp</th>\n",
       "      <th>Parch</th>\n",
       "      <th>Ticket</th>\n",
       "      <th>Fare</th>\n",
       "      <th>Cabin</th>\n",
       "      <th>Embarked</th>\n",
       "    </tr>\n",
       "  </thead>\n",
       "  <tbody>\n",
       "    <tr>\n",
       "      <th>0</th>\n",
       "      <td>1</td>\n",
       "      <td>0</td>\n",
       "      <td>3</td>\n",
       "      <td>Braund, Mr. Owen Harris</td>\n",
       "      <td>male</td>\n",
       "      <td>22.0</td>\n",
       "      <td>1</td>\n",
       "      <td>0</td>\n",
       "      <td>A/5 21171</td>\n",
       "      <td>7.2500</td>\n",
       "      <td>NaN</td>\n",
       "      <td>S</td>\n",
       "    </tr>\n",
       "    <tr>\n",
       "      <th>1</th>\n",
       "      <td>2</td>\n",
       "      <td>1</td>\n",
       "      <td>1</td>\n",
       "      <td>Cumings, Mrs. John Bradley (Florence Briggs Th...</td>\n",
       "      <td>female</td>\n",
       "      <td>38.0</td>\n",
       "      <td>1</td>\n",
       "      <td>0</td>\n",
       "      <td>PC 17599</td>\n",
       "      <td>71.2833</td>\n",
       "      <td>C85</td>\n",
       "      <td>C</td>\n",
       "    </tr>\n",
       "    <tr>\n",
       "      <th>2</th>\n",
       "      <td>3</td>\n",
       "      <td>1</td>\n",
       "      <td>3</td>\n",
       "      <td>Heikkinen, Miss. Laina</td>\n",
       "      <td>female</td>\n",
       "      <td>26.0</td>\n",
       "      <td>0</td>\n",
       "      <td>0</td>\n",
       "      <td>STON/O2. 3101282</td>\n",
       "      <td>7.9250</td>\n",
       "      <td>NaN</td>\n",
       "      <td>S</td>\n",
       "    </tr>\n",
       "    <tr>\n",
       "      <th>3</th>\n",
       "      <td>4</td>\n",
       "      <td>1</td>\n",
       "      <td>1</td>\n",
       "      <td>Futrelle, Mrs. Jacques Heath (Lily May Peel)</td>\n",
       "      <td>female</td>\n",
       "      <td>35.0</td>\n",
       "      <td>1</td>\n",
       "      <td>0</td>\n",
       "      <td>113803</td>\n",
       "      <td>53.1000</td>\n",
       "      <td>C123</td>\n",
       "      <td>S</td>\n",
       "    </tr>\n",
       "    <tr>\n",
       "      <th>4</th>\n",
       "      <td>5</td>\n",
       "      <td>0</td>\n",
       "      <td>3</td>\n",
       "      <td>Allen, Mr. William Henry</td>\n",
       "      <td>male</td>\n",
       "      <td>35.0</td>\n",
       "      <td>0</td>\n",
       "      <td>0</td>\n",
       "      <td>373450</td>\n",
       "      <td>8.0500</td>\n",
       "      <td>NaN</td>\n",
       "      <td>S</td>\n",
       "    </tr>\n",
       "  </tbody>\n",
       "</table>\n",
       "</div>"
      ],
      "text/plain": [
       "   PassengerId  Survived  Pclass  ...     Fare Cabin  Embarked\n",
       "0            1         0       3  ...   7.2500   NaN         S\n",
       "1            2         1       1  ...  71.2833   C85         C\n",
       "2            3         1       3  ...   7.9250   NaN         S\n",
       "3            4         1       1  ...  53.1000  C123         S\n",
       "4            5         0       3  ...   8.0500   NaN         S\n",
       "\n",
       "[5 rows x 12 columns]"
      ]
     },
     "execution_count": 10,
     "metadata": {
      "tags": []
     },
     "output_type": "execute_result"
    }
   ],
   "source": [
    "dataset = pd.read_csv(data_path)\n",
    "print(\"Let's visualise the first 5 rows of the original training data.\")\n",
    "dataset.head() "
   ]
  },
  {
   "cell_type": "markdown",
   "metadata": {
    "colab_type": "text",
    "id": "u8TCexE_edfk"
   },
   "source": [
    "#### Pre-processed Data (given in assignment)"
   ]
  },
  {
   "cell_type": "markdown",
   "metadata": {
    "colab_type": "text",
    "id": "yjHAYZ1xe-ZS"
   },
   "source": [
    "How is this different from original dataset?\n",
    "\n",
    "- Original train and test data have been merged.\n",
    "- The'ticket' and 'cabin' attributes have been removed.\n",
    "- The 'Survived' attribute has been moved to the last column, now misspelt as ```2urvived```.\n",
    "- Missing values in 'Age' and 'Fare' attributes have been replaced with the median of the data in those columns.\n",
    "- ```Sex``` attribute has been binarised.\n",
    "- ```Embarked``` attribute has been replaced with categorical values (```S-2, C-1, Other-0```)\n",
    "- Added extra zero columns for categorical inputs to be better suited for One-Hot-Encoding (I will be dropping these initially and creating dummy variables for the categorical features later.)\n"
   ]
  },
  {
   "cell_type": "code",
   "execution_count": 11,
   "metadata": {
    "colab": {},
    "colab_type": "code",
    "id": "HaX1Rg7wegL3"
   },
   "outputs": [],
   "source": [
    "file_path = '/content/drive/My Drive/ML_LAB/Assign_3/titanic/' \n",
    "data_path = file_path + 'data.csv'"
   ]
  },
  {
   "cell_type": "code",
   "execution_count": 12,
   "metadata": {
    "colab": {
     "base_uri": "https://localhost:8080/",
     "height": 244
    },
    "colab_type": "code",
    "id": "0TkD2Us6eqDZ",
    "outputId": "a466c163-1337-45da-de4c-b3f14be43e35"
   },
   "outputs": [
    {
     "name": "stdout",
     "output_type": "stream",
     "text": [
      "Let's visualise the first 5 rows of the pre-processed dataset.\n"
     ]
    },
    {
     "data": {
      "text/html": [
       "<div>\n",
       "<style scoped>\n",
       "    .dataframe tbody tr th:only-of-type {\n",
       "        vertical-align: middle;\n",
       "    }\n",
       "\n",
       "    .dataframe tbody tr th {\n",
       "        vertical-align: top;\n",
       "    }\n",
       "\n",
       "    .dataframe thead th {\n",
       "        text-align: right;\n",
       "    }\n",
       "</style>\n",
       "<table border=\"1\" class=\"dataframe\">\n",
       "  <thead>\n",
       "    <tr style=\"text-align: right;\">\n",
       "      <th></th>\n",
       "      <th>Passengerid</th>\n",
       "      <th>Age</th>\n",
       "      <th>Fare</th>\n",
       "      <th>Sex</th>\n",
       "      <th>sibsp</th>\n",
       "      <th>zero</th>\n",
       "      <th>zero.1</th>\n",
       "      <th>zero.2</th>\n",
       "      <th>zero.3</th>\n",
       "      <th>zero.4</th>\n",
       "      <th>zero.5</th>\n",
       "      <th>zero.6</th>\n",
       "      <th>Parch</th>\n",
       "      <th>zero.7</th>\n",
       "      <th>zero.8</th>\n",
       "      <th>zero.9</th>\n",
       "      <th>zero.10</th>\n",
       "      <th>zero.11</th>\n",
       "      <th>zero.12</th>\n",
       "      <th>zero.13</th>\n",
       "      <th>zero.14</th>\n",
       "      <th>Pclass</th>\n",
       "      <th>zero.15</th>\n",
       "      <th>zero.16</th>\n",
       "      <th>Embarked</th>\n",
       "      <th>zero.17</th>\n",
       "      <th>zero.18</th>\n",
       "      <th>2urvived</th>\n",
       "    </tr>\n",
       "  </thead>\n",
       "  <tbody>\n",
       "    <tr>\n",
       "      <th>0</th>\n",
       "      <td>1</td>\n",
       "      <td>22.0</td>\n",
       "      <td>7.2500</td>\n",
       "      <td>0</td>\n",
       "      <td>1</td>\n",
       "      <td>0</td>\n",
       "      <td>0</td>\n",
       "      <td>0</td>\n",
       "      <td>0</td>\n",
       "      <td>0</td>\n",
       "      <td>0</td>\n",
       "      <td>0</td>\n",
       "      <td>0</td>\n",
       "      <td>0</td>\n",
       "      <td>0</td>\n",
       "      <td>0</td>\n",
       "      <td>0</td>\n",
       "      <td>0</td>\n",
       "      <td>0</td>\n",
       "      <td>0</td>\n",
       "      <td>0</td>\n",
       "      <td>3</td>\n",
       "      <td>0</td>\n",
       "      <td>0</td>\n",
       "      <td>2.0</td>\n",
       "      <td>0</td>\n",
       "      <td>0</td>\n",
       "      <td>0</td>\n",
       "    </tr>\n",
       "    <tr>\n",
       "      <th>1</th>\n",
       "      <td>2</td>\n",
       "      <td>38.0</td>\n",
       "      <td>71.2833</td>\n",
       "      <td>1</td>\n",
       "      <td>1</td>\n",
       "      <td>0</td>\n",
       "      <td>0</td>\n",
       "      <td>0</td>\n",
       "      <td>0</td>\n",
       "      <td>0</td>\n",
       "      <td>0</td>\n",
       "      <td>0</td>\n",
       "      <td>0</td>\n",
       "      <td>0</td>\n",
       "      <td>0</td>\n",
       "      <td>0</td>\n",
       "      <td>0</td>\n",
       "      <td>0</td>\n",
       "      <td>0</td>\n",
       "      <td>0</td>\n",
       "      <td>0</td>\n",
       "      <td>1</td>\n",
       "      <td>0</td>\n",
       "      <td>0</td>\n",
       "      <td>0.0</td>\n",
       "      <td>0</td>\n",
       "      <td>0</td>\n",
       "      <td>1</td>\n",
       "    </tr>\n",
       "    <tr>\n",
       "      <th>2</th>\n",
       "      <td>3</td>\n",
       "      <td>26.0</td>\n",
       "      <td>7.9250</td>\n",
       "      <td>1</td>\n",
       "      <td>0</td>\n",
       "      <td>0</td>\n",
       "      <td>0</td>\n",
       "      <td>0</td>\n",
       "      <td>0</td>\n",
       "      <td>0</td>\n",
       "      <td>0</td>\n",
       "      <td>0</td>\n",
       "      <td>0</td>\n",
       "      <td>0</td>\n",
       "      <td>0</td>\n",
       "      <td>0</td>\n",
       "      <td>0</td>\n",
       "      <td>0</td>\n",
       "      <td>0</td>\n",
       "      <td>0</td>\n",
       "      <td>0</td>\n",
       "      <td>3</td>\n",
       "      <td>0</td>\n",
       "      <td>0</td>\n",
       "      <td>2.0</td>\n",
       "      <td>0</td>\n",
       "      <td>0</td>\n",
       "      <td>1</td>\n",
       "    </tr>\n",
       "    <tr>\n",
       "      <th>3</th>\n",
       "      <td>4</td>\n",
       "      <td>35.0</td>\n",
       "      <td>53.1000</td>\n",
       "      <td>1</td>\n",
       "      <td>1</td>\n",
       "      <td>0</td>\n",
       "      <td>0</td>\n",
       "      <td>0</td>\n",
       "      <td>0</td>\n",
       "      <td>0</td>\n",
       "      <td>0</td>\n",
       "      <td>0</td>\n",
       "      <td>0</td>\n",
       "      <td>0</td>\n",
       "      <td>0</td>\n",
       "      <td>0</td>\n",
       "      <td>0</td>\n",
       "      <td>0</td>\n",
       "      <td>0</td>\n",
       "      <td>0</td>\n",
       "      <td>0</td>\n",
       "      <td>1</td>\n",
       "      <td>0</td>\n",
       "      <td>0</td>\n",
       "      <td>2.0</td>\n",
       "      <td>0</td>\n",
       "      <td>0</td>\n",
       "      <td>1</td>\n",
       "    </tr>\n",
       "    <tr>\n",
       "      <th>4</th>\n",
       "      <td>5</td>\n",
       "      <td>35.0</td>\n",
       "      <td>8.0500</td>\n",
       "      <td>0</td>\n",
       "      <td>0</td>\n",
       "      <td>0</td>\n",
       "      <td>0</td>\n",
       "      <td>0</td>\n",
       "      <td>0</td>\n",
       "      <td>0</td>\n",
       "      <td>0</td>\n",
       "      <td>0</td>\n",
       "      <td>0</td>\n",
       "      <td>0</td>\n",
       "      <td>0</td>\n",
       "      <td>0</td>\n",
       "      <td>0</td>\n",
       "      <td>0</td>\n",
       "      <td>0</td>\n",
       "      <td>0</td>\n",
       "      <td>0</td>\n",
       "      <td>3</td>\n",
       "      <td>0</td>\n",
       "      <td>0</td>\n",
       "      <td>2.0</td>\n",
       "      <td>0</td>\n",
       "      <td>0</td>\n",
       "      <td>0</td>\n",
       "    </tr>\n",
       "  </tbody>\n",
       "</table>\n",
       "</div>"
      ],
      "text/plain": [
       "   Passengerid   Age     Fare  Sex  ...  Embarked  zero.17  zero.18  2urvived\n",
       "0            1  22.0   7.2500    0  ...       2.0        0        0         0\n",
       "1            2  38.0  71.2833    1  ...       0.0        0        0         1\n",
       "2            3  26.0   7.9250    1  ...       2.0        0        0         1\n",
       "3            4  35.0  53.1000    1  ...       2.0        0        0         1\n",
       "4            5  35.0   8.0500    0  ...       2.0        0        0         0\n",
       "\n",
       "[5 rows x 28 columns]"
      ]
     },
     "execution_count": 12,
     "metadata": {
      "tags": []
     },
     "output_type": "execute_result"
    }
   ],
   "source": [
    "dataset = pd.read_csv(data_path)\n",
    "print(\"Let's visualise the first 5 rows of the pre-processed dataset.\")\n",
    "dataset.head() "
   ]
  },
  {
   "cell_type": "code",
   "execution_count": 13,
   "metadata": {
    "colab": {
     "base_uri": "https://localhost:8080/",
     "height": 557
    },
    "colab_type": "code",
    "id": "kjREh3Psk_cu",
    "outputId": "8da58a40-cec1-45e0-828f-a49b2354b854"
   },
   "outputs": [
    {
     "name": "stdout",
     "output_type": "stream",
     "text": [
      "The number of NaN values in this dataframe : \n",
      "Passengerid    0\n",
      "Age            0\n",
      "Fare           0\n",
      "Sex            0\n",
      "sibsp          0\n",
      "zero           0\n",
      "zero.1         0\n",
      "zero.2         0\n",
      "zero.3         0\n",
      "zero.4         0\n",
      "zero.5         0\n",
      "zero.6         0\n",
      "Parch          0\n",
      "zero.7         0\n",
      "zero.8         0\n",
      "zero.9         0\n",
      "zero.10        0\n",
      "zero.11        0\n",
      "zero.12        0\n",
      "zero.13        0\n",
      "zero.14        0\n",
      "Pclass         0\n",
      "zero.15        0\n",
      "zero.16        0\n",
      "Embarked       2\n",
      "zero.17        0\n",
      "zero.18        0\n",
      "2urvived       0\n",
      "dtype: int64\n"
     ]
    }
   ],
   "source": [
    "print(\"The number of NaN values in this dataframe : \")\n",
    "print(len(dataset) - dataset.count())"
   ]
  },
  {
   "cell_type": "markdown",
   "metadata": {
    "colab_type": "text",
    "id": "lrDMNwlglHYL"
   },
   "source": [
    "As discussd previously, I will be one-hot encoding the categorical values below. So, all the columns with 0s will be dropped for now. Also, do note that there are no NaN values in this table. So, that requires no extra processing than what has been mentioned in the note above."
   ]
  },
  {
   "cell_type": "markdown",
   "metadata": {
    "colab_type": "text",
    "id": "dCDzrW6Fmvnj"
   },
   "source": [
    "#### Let's choose the relevant columns initially.\n",
    "\n",
    "- ```cols = [\"Age\", \"Fare\", \"Sex\", \"sibsp\", \"Parch\", \"Pclass\", \"Embarked\", \"2urvived\"]```"
   ]
  },
  {
   "cell_type": "code",
   "execution_count": 14,
   "metadata": {
    "colab": {},
    "colab_type": "code",
    "id": "FteUonWNmuQG"
   },
   "outputs": [],
   "source": [
    "cols = [\"Age\", \"Fare\", \"Sex\", \"sibsp\", \"Parch\", \"Pclass\", \"Embarked\", \"2urvived\"]\n",
    "dataset = dataset[cols]"
   ]
  },
  {
   "cell_type": "markdown",
   "metadata": {
    "colab_type": "text",
    "id": "7yNEFkDtnxJk"
   },
   "source": [
    "#### Next, let's fix the typo in the column name for 'Survived', which is the class label"
   ]
  },
  {
   "cell_type": "code",
   "execution_count": 15,
   "metadata": {
    "colab": {
     "base_uri": "https://localhost:8080/",
     "height": 226
    },
    "colab_type": "code",
    "id": "2t6-g19Yn46c",
    "outputId": "d3dd0747-e2c2-4199-d192-a781bf7b92d6"
   },
   "outputs": [
    {
     "data": {
      "text/html": [
       "<div>\n",
       "<style scoped>\n",
       "    .dataframe tbody tr th:only-of-type {\n",
       "        vertical-align: middle;\n",
       "    }\n",
       "\n",
       "    .dataframe tbody tr th {\n",
       "        vertical-align: top;\n",
       "    }\n",
       "\n",
       "    .dataframe thead th {\n",
       "        text-align: right;\n",
       "    }\n",
       "</style>\n",
       "<table border=\"1\" class=\"dataframe\">\n",
       "  <thead>\n",
       "    <tr style=\"text-align: right;\">\n",
       "      <th></th>\n",
       "      <th>Age</th>\n",
       "      <th>Fare</th>\n",
       "      <th>Sex</th>\n",
       "      <th>sibsp</th>\n",
       "      <th>Parch</th>\n",
       "      <th>Pclass</th>\n",
       "      <th>Embarked</th>\n",
       "      <th>Survived</th>\n",
       "    </tr>\n",
       "  </thead>\n",
       "  <tbody>\n",
       "    <tr>\n",
       "      <th>0</th>\n",
       "      <td>22.0</td>\n",
       "      <td>7.2500</td>\n",
       "      <td>0</td>\n",
       "      <td>1</td>\n",
       "      <td>0</td>\n",
       "      <td>3</td>\n",
       "      <td>2.0</td>\n",
       "      <td>0</td>\n",
       "    </tr>\n",
       "    <tr>\n",
       "      <th>1</th>\n",
       "      <td>38.0</td>\n",
       "      <td>71.2833</td>\n",
       "      <td>1</td>\n",
       "      <td>1</td>\n",
       "      <td>0</td>\n",
       "      <td>1</td>\n",
       "      <td>0.0</td>\n",
       "      <td>1</td>\n",
       "    </tr>\n",
       "    <tr>\n",
       "      <th>2</th>\n",
       "      <td>26.0</td>\n",
       "      <td>7.9250</td>\n",
       "      <td>1</td>\n",
       "      <td>0</td>\n",
       "      <td>0</td>\n",
       "      <td>3</td>\n",
       "      <td>2.0</td>\n",
       "      <td>1</td>\n",
       "    </tr>\n",
       "    <tr>\n",
       "      <th>3</th>\n",
       "      <td>35.0</td>\n",
       "      <td>53.1000</td>\n",
       "      <td>1</td>\n",
       "      <td>1</td>\n",
       "      <td>0</td>\n",
       "      <td>1</td>\n",
       "      <td>2.0</td>\n",
       "      <td>1</td>\n",
       "    </tr>\n",
       "    <tr>\n",
       "      <th>4</th>\n",
       "      <td>35.0</td>\n",
       "      <td>8.0500</td>\n",
       "      <td>0</td>\n",
       "      <td>0</td>\n",
       "      <td>0</td>\n",
       "      <td>3</td>\n",
       "      <td>2.0</td>\n",
       "      <td>0</td>\n",
       "    </tr>\n",
       "  </tbody>\n",
       "</table>\n",
       "</div>"
      ],
      "text/plain": [
       "    Age     Fare  Sex  sibsp  Parch  Pclass  Embarked  Survived\n",
       "0  22.0   7.2500    0      1      0       3       2.0         0\n",
       "1  38.0  71.2833    1      1      0       1       0.0         1\n",
       "2  26.0   7.9250    1      0      0       3       2.0         1\n",
       "3  35.0  53.1000    1      1      0       1       2.0         1\n",
       "4  35.0   8.0500    0      0      0       3       2.0         0"
      ]
     },
     "execution_count": 15,
     "metadata": {
      "tags": []
     },
     "output_type": "execute_result"
    }
   ],
   "source": [
    "dataset.columns = ['Survived' if x=='2urvived' else x for x in dataset.columns]\n",
    "dataset.head()"
   ]
  },
  {
   "cell_type": "markdown",
   "metadata": {
    "colab_type": "text",
    "id": "b8gsXPO8seSX"
   },
   "source": [
    "#### Now, let's create dummy variables for the following categorical columns\n",
    "\n",
    "- ```Sex```\n",
    "- ```sibsp```\n",
    "- ```Parch```\n",
    "- ```Pclass```\n",
    "- ```Embarked```"
   ]
  },
  {
   "cell_type": "code",
   "execution_count": 16,
   "metadata": {
    "colab": {
     "base_uri": "https://localhost:8080/",
     "height": 244
    },
    "colab_type": "code",
    "id": "O_0sEbaYopIQ",
    "outputId": "326f20c7-f76f-43b7-cf09-069794ec01f8"
   },
   "outputs": [
    {
     "name": "stdout",
     "output_type": "stream",
     "text": [
      "Dataset after one hot encoding is done for categorical columns:\n"
     ]
    },
    {
     "data": {
      "text/html": [
       "<div>\n",
       "<style scoped>\n",
       "    .dataframe tbody tr th:only-of-type {\n",
       "        vertical-align: middle;\n",
       "    }\n",
       "\n",
       "    .dataframe tbody tr th {\n",
       "        vertical-align: top;\n",
       "    }\n",
       "\n",
       "    .dataframe thead th {\n",
       "        text-align: right;\n",
       "    }\n",
       "</style>\n",
       "<table border=\"1\" class=\"dataframe\">\n",
       "  <thead>\n",
       "    <tr style=\"text-align: right;\">\n",
       "      <th></th>\n",
       "      <th>Age</th>\n",
       "      <th>Fare</th>\n",
       "      <th>Survived</th>\n",
       "      <th>Sex_0</th>\n",
       "      <th>Sex_1</th>\n",
       "      <th>sibsp_0</th>\n",
       "      <th>sibsp_1</th>\n",
       "      <th>sibsp_2</th>\n",
       "      <th>sibsp_3</th>\n",
       "      <th>sibsp_4</th>\n",
       "      <th>sibsp_5</th>\n",
       "      <th>sibsp_8</th>\n",
       "      <th>Parch_0</th>\n",
       "      <th>Parch_1</th>\n",
       "      <th>Parch_2</th>\n",
       "      <th>Parch_3</th>\n",
       "      <th>Parch_4</th>\n",
       "      <th>Parch_5</th>\n",
       "      <th>Parch_6</th>\n",
       "      <th>Parch_9</th>\n",
       "      <th>Pclass_1</th>\n",
       "      <th>Pclass_2</th>\n",
       "      <th>Pclass_3</th>\n",
       "      <th>Embarked_0.0</th>\n",
       "      <th>Embarked_1.0</th>\n",
       "      <th>Embarked_2.0</th>\n",
       "    </tr>\n",
       "  </thead>\n",
       "  <tbody>\n",
       "    <tr>\n",
       "      <th>0</th>\n",
       "      <td>22.0</td>\n",
       "      <td>7.2500</td>\n",
       "      <td>0</td>\n",
       "      <td>1</td>\n",
       "      <td>0</td>\n",
       "      <td>0</td>\n",
       "      <td>1</td>\n",
       "      <td>0</td>\n",
       "      <td>0</td>\n",
       "      <td>0</td>\n",
       "      <td>0</td>\n",
       "      <td>0</td>\n",
       "      <td>1</td>\n",
       "      <td>0</td>\n",
       "      <td>0</td>\n",
       "      <td>0</td>\n",
       "      <td>0</td>\n",
       "      <td>0</td>\n",
       "      <td>0</td>\n",
       "      <td>0</td>\n",
       "      <td>0</td>\n",
       "      <td>0</td>\n",
       "      <td>1</td>\n",
       "      <td>0</td>\n",
       "      <td>0</td>\n",
       "      <td>1</td>\n",
       "    </tr>\n",
       "    <tr>\n",
       "      <th>1</th>\n",
       "      <td>38.0</td>\n",
       "      <td>71.2833</td>\n",
       "      <td>1</td>\n",
       "      <td>0</td>\n",
       "      <td>1</td>\n",
       "      <td>0</td>\n",
       "      <td>1</td>\n",
       "      <td>0</td>\n",
       "      <td>0</td>\n",
       "      <td>0</td>\n",
       "      <td>0</td>\n",
       "      <td>0</td>\n",
       "      <td>1</td>\n",
       "      <td>0</td>\n",
       "      <td>0</td>\n",
       "      <td>0</td>\n",
       "      <td>0</td>\n",
       "      <td>0</td>\n",
       "      <td>0</td>\n",
       "      <td>0</td>\n",
       "      <td>1</td>\n",
       "      <td>0</td>\n",
       "      <td>0</td>\n",
       "      <td>1</td>\n",
       "      <td>0</td>\n",
       "      <td>0</td>\n",
       "    </tr>\n",
       "    <tr>\n",
       "      <th>2</th>\n",
       "      <td>26.0</td>\n",
       "      <td>7.9250</td>\n",
       "      <td>1</td>\n",
       "      <td>0</td>\n",
       "      <td>1</td>\n",
       "      <td>1</td>\n",
       "      <td>0</td>\n",
       "      <td>0</td>\n",
       "      <td>0</td>\n",
       "      <td>0</td>\n",
       "      <td>0</td>\n",
       "      <td>0</td>\n",
       "      <td>1</td>\n",
       "      <td>0</td>\n",
       "      <td>0</td>\n",
       "      <td>0</td>\n",
       "      <td>0</td>\n",
       "      <td>0</td>\n",
       "      <td>0</td>\n",
       "      <td>0</td>\n",
       "      <td>0</td>\n",
       "      <td>0</td>\n",
       "      <td>1</td>\n",
       "      <td>0</td>\n",
       "      <td>0</td>\n",
       "      <td>1</td>\n",
       "    </tr>\n",
       "    <tr>\n",
       "      <th>3</th>\n",
       "      <td>35.0</td>\n",
       "      <td>53.1000</td>\n",
       "      <td>1</td>\n",
       "      <td>0</td>\n",
       "      <td>1</td>\n",
       "      <td>0</td>\n",
       "      <td>1</td>\n",
       "      <td>0</td>\n",
       "      <td>0</td>\n",
       "      <td>0</td>\n",
       "      <td>0</td>\n",
       "      <td>0</td>\n",
       "      <td>1</td>\n",
       "      <td>0</td>\n",
       "      <td>0</td>\n",
       "      <td>0</td>\n",
       "      <td>0</td>\n",
       "      <td>0</td>\n",
       "      <td>0</td>\n",
       "      <td>0</td>\n",
       "      <td>1</td>\n",
       "      <td>0</td>\n",
       "      <td>0</td>\n",
       "      <td>0</td>\n",
       "      <td>0</td>\n",
       "      <td>1</td>\n",
       "    </tr>\n",
       "    <tr>\n",
       "      <th>4</th>\n",
       "      <td>35.0</td>\n",
       "      <td>8.0500</td>\n",
       "      <td>0</td>\n",
       "      <td>1</td>\n",
       "      <td>0</td>\n",
       "      <td>1</td>\n",
       "      <td>0</td>\n",
       "      <td>0</td>\n",
       "      <td>0</td>\n",
       "      <td>0</td>\n",
       "      <td>0</td>\n",
       "      <td>0</td>\n",
       "      <td>1</td>\n",
       "      <td>0</td>\n",
       "      <td>0</td>\n",
       "      <td>0</td>\n",
       "      <td>0</td>\n",
       "      <td>0</td>\n",
       "      <td>0</td>\n",
       "      <td>0</td>\n",
       "      <td>0</td>\n",
       "      <td>0</td>\n",
       "      <td>1</td>\n",
       "      <td>0</td>\n",
       "      <td>0</td>\n",
       "      <td>1</td>\n",
       "    </tr>\n",
       "  </tbody>\n",
       "</table>\n",
       "</div>"
      ],
      "text/plain": [
       "    Age     Fare  Survived  ...  Embarked_0.0  Embarked_1.0  Embarked_2.0\n",
       "0  22.0   7.2500         0  ...             0             0             1\n",
       "1  38.0  71.2833         1  ...             1             0             0\n",
       "2  26.0   7.9250         1  ...             0             0             1\n",
       "3  35.0  53.1000         1  ...             0             0             1\n",
       "4  35.0   8.0500         0  ...             0             0             1\n",
       "\n",
       "[5 rows x 26 columns]"
      ]
     },
     "execution_count": 16,
     "metadata": {
      "tags": []
     },
     "output_type": "execute_result"
    }
   ],
   "source": [
    "categorical_cols = [\"Sex\", \"sibsp\", \"Parch\", \"Pclass\", \"Embarked\"]\n",
    "one_hot_categorical_cols = pd.get_dummies(data=dataset, columns=categorical_cols)\n",
    "print(\"Dataset after one hot encoding is done for categorical columns:\")\n",
    "one_hot_categorical_cols.head()"
   ]
  },
  {
   "cell_type": "markdown",
   "metadata": {
    "colab_type": "text",
    "id": "wxkKkGZTmSQd"
   },
   "source": [
    "#### Also, let's consider the 2 non-categorical columns\n",
    "\n",
    "- ```Age```\n",
    "- ```Fare```"
   ]
  },
  {
   "cell_type": "code",
   "execution_count": 17,
   "metadata": {
    "colab": {
     "base_uri": "https://localhost:8080/",
     "height": 86
    },
    "colab_type": "code",
    "id": "TUJ3X35ZncB0",
    "outputId": "57b50952-48e4-48f6-8477-1b7751df8c3a"
   },
   "outputs": [
    {
     "name": "stdout",
     "output_type": "stream",
     "text": [
      "Min Age : %d 0.17\n",
      "Max Age : %d 80.0\n",
      "Min Fare : %d 0.0\n",
      "Max Fare : %d 512.3292\n"
     ]
    }
   ],
   "source": [
    "column = one_hot_categorical_cols[\"Age\"]\n",
    "max_value = column.max()\n",
    "min_value = column.min()\n",
    "\n",
    "print(\"Min Age : %d\", min_value)\n",
    "print(\"Max Age : %d\", max_value)\n",
    "\n",
    "column = one_hot_categorical_cols[\"Fare\"]\n",
    "max_value = column.max()\n",
    "min_value = column.min()\n",
    "\n",
    "print(\"Min Fare : %d\", min_value)\n",
    "print(\"Max Fare : %d\", max_value)"
   ]
  },
  {
   "cell_type": "code",
   "execution_count": 18,
   "metadata": {
    "colab": {
     "base_uri": "https://localhost:8080/",
     "height": 549
    },
    "colab_type": "code",
    "id": "IYLlErpkpCBw",
    "outputId": "2e7e9958-8d8c-4242-c970-80e7dd5de805"
   },
   "outputs": [
    {
     "data": {
      "image/png": "[encoded data removed]",
      "text/plain": [
       "<Figure size 630x630 with 1 Axes>"
      ]
     },
     "metadata": {
      "tags": []
     },
     "output_type": "display_data"
    }
   ],
   "source": [
    "_ = sns.distplot(one_hot_categorical_cols[\"Age\"])"
   ]
  },
  {
   "cell_type": "markdown",
   "metadata": {
    "colab_type": "text",
    "id": "GpOOLPBn7hhq"
   },
   "source": [
    "Age clearly has a nearly normal distribution centered around approximately 30 years of age."
   ]
  },
  {
   "cell_type": "code",
   "execution_count": 19,
   "metadata": {
    "colab": {
     "base_uri": "https://localhost:8080/",
     "height": 549
    },
    "colab_type": "code",
    "id": "46MfGGtmpNG2",
    "outputId": "717a7761-f46f-4fd0-b092-d57ca4401145"
   },
   "outputs": [
    {
     "data": {
      "image/png": "[encoded data removed]",
      "text/plain": [
       "<Figure size 630x630 with 1 Axes>"
      ]
     },
     "metadata": {
      "tags": []
     },
     "output_type": "display_data"
    }
   ],
   "source": [
    "_ = sns.distplot(one_hot_categorical_cols[\"Fare\"])"
   ]
  },
  {
   "cell_type": "markdown",
   "metadata": {
    "colab_type": "text",
    "id": "x285K_Ys-uCu"
   },
   "source": [
    "Clearly, Fare isn't a normal distribution, as there are more people buying lower priced tickets, and very few people buying high priced tickets."
   ]
  },
  {
   "cell_type": "code",
   "execution_count": 20,
   "metadata": {
    "colab": {
     "base_uri": "https://localhost:8080/",
     "height": 173
    },
    "colab_type": "code",
    "id": "zKX6ABc478bZ",
    "outputId": "b2f3e200-0b76-4f4e-b1be-5b040352341d"
   },
   "outputs": [
    {
     "data": {
      "text/plain": [
       "count    1309.000000\n",
       "mean       33.281086\n",
       "std        51.741500\n",
       "min         0.000000\n",
       "25%         7.895800\n",
       "50%        14.454200\n",
       "75%        31.275000\n",
       "max       512.329200\n",
       "Name: Fare, dtype: float64"
      ]
     },
     "execution_count": 20,
     "metadata": {
      "tags": []
     },
     "output_type": "execute_result"
    }
   ],
   "source": [
    "fare = one_hot_categorical_cols[\"Fare\"]\n",
    "fare.describe()"
   ]
  },
  {
   "cell_type": "markdown",
   "metadata": {
    "colab_type": "text",
    "id": "7F8xikuS_DZ-"
   },
   "source": [
    "The minimum value is zero, so we can't apply a log-normalisation or a mean-std normalisation. Thus, I choose to use a min_max normalisation. <br>\n",
    "This will bring all the Fare values within the range ```[0, 1]```, though obviously it won't affect the nature of the curve above."
   ]
  },
  {
   "cell_type": "code",
   "execution_count": 21,
   "metadata": {
    "colab": {
     "base_uri": "https://localhost:8080/",
     "height": 173
    },
    "colab_type": "code",
    "id": "iVUYzOaS-fp7",
    "outputId": "17755fd3-3cf9-475a-c5b8-dc364e827ec1"
   },
   "outputs": [
    {
     "data": {
      "text/plain": [
       "count    1309.000000\n",
       "mean        0.064960\n",
       "std         0.100993\n",
       "min         0.000000\n",
       "25%         0.015412\n",
       "50%         0.028213\n",
       "75%         0.061045\n",
       "max         1.000000\n",
       "Name: Fare, dtype: float64"
      ]
     },
     "execution_count": 21,
     "metadata": {
      "tags": []
     },
     "output_type": "execute_result"
    }
   ],
   "source": [
    "max_min_normalised_fare = (fare-fare.min())/(fare.max()-fare.min())\n",
    "max_min_normalised_fare.describe()"
   ]
  },
  {
   "cell_type": "code",
   "execution_count": 22,
   "metadata": {
    "colab": {
     "base_uri": "https://localhost:8080/",
     "height": 549
    },
    "colab_type": "code",
    "id": "lDHvDlKH9CoO",
    "outputId": "198ab8f3-6b87-49f3-d2d9-bb8599b73037"
   },
   "outputs": [
    {
     "data": {
      "image/png": "[encoded data removed]",
      "text/plain": [
       "<Figure size 630x630 with 1 Axes>"
      ]
     },
     "metadata": {
      "tags": []
     },
     "output_type": "display_data"
    }
   ],
   "source": [
    "_ = sns.distplot(max_min_normalised_fare)"
   ]
  },
  {
   "cell_type": "markdown",
   "metadata": {
    "colab_type": "text",
    "id": "7pIJgaL-_lN9"
   },
   "source": [
    "As we can see, the nature of the curve remains the same, but the scale changes."
   ]
  },
  {
   "cell_type": "code",
   "execution_count": 23,
   "metadata": {
    "colab": {},
    "colab_type": "code",
    "id": "EpTdJz3M_p2f"
   },
   "outputs": [],
   "source": [
    "one_hot_categorical_cols[\"Fare\"] = max_min_normalised_fare"
   ]
  },
  {
   "cell_type": "code",
   "execution_count": 24,
   "metadata": {
    "colab": {
     "base_uri": "https://localhost:8080/",
     "height": 534
    },
    "colab_type": "code",
    "id": "IHoIW3BkqMNS",
    "outputId": "03ac1a1a-e0e8-48bc-c012-962505500fb4"
   },
   "outputs": [
    {
     "data": {
      "image/png": "[encoded data removed]",
      "text/plain": [
       "<Figure size 630x630 with 2 Axes>"
      ]
     },
     "metadata": {
      "tags": []
     },
     "output_type": "display_data"
    }
   ],
   "source": [
    "non_categorical = one_hot_categorical_cols[[\"Age\", \"Fare\"]]\n",
    "cor = non_categorical.corr()\n",
    "sns.heatmap(cor, annot = True, center= 0, linewidth=0.5)\n",
    "plt.show()"
   ]
  },
  {
   "cell_type": "markdown",
   "metadata": {
    "colab_type": "text",
    "id": "Nv5COTTp7qqZ"
   },
   "source": [
    "There is very less correlation (0.18) between Age and Fare, so there is no meaning of dropping either."
   ]
  },
  {
   "cell_type": "code",
   "execution_count": 25,
   "metadata": {
    "colab": {
     "base_uri": "https://localhost:8080/",
     "height": 480
    },
    "colab_type": "code",
    "id": "8nDgT24Kqicc",
    "outputId": "26267a05-ea67-452f-d738-c7da0dad7282"
   },
   "outputs": [
    {
     "data": {
      "image/png": "[encoded data removed]",
      "text/plain": [
       "<Figure size 450x450 with 6 Axes>"
      ]
     },
     "metadata": {
      "tags": []
     },
     "output_type": "display_data"
    }
   ],
   "source": [
    "sns.pairplot(non_categorical, height=2.5)\n",
    "plt.show();"
   ]
  },
  {
   "cell_type": "markdown",
   "metadata": {
    "colab_type": "text",
    "id": "_QiVKnUV_3BN"
   },
   "source": [
    "The paired distributions of Fare vs Age also doesn't reveal any interesting patterns, which is expected as they are not highly correlated."
   ]
  },
  {
   "cell_type": "markdown",
   "metadata": {
    "colab_type": "text",
    "id": "clYB-xNhroa2"
   },
   "source": [
    "#### Distribution of class labels in the dataset"
   ]
  },
  {
   "cell_type": "code",
   "execution_count": 26,
   "metadata": {
    "colab": {
     "base_uri": "https://localhost:8080/",
     "height": 328
    },
    "colab_type": "code",
    "id": "lpE8WJ0ZoHSv",
    "outputId": "9346ce8e-9ea6-4512-c927-2723abe29d61"
   },
   "outputs": [
    {
     "data": {
      "image/png": "[encoded data removed]",
      "text/plain": [
       "<Figure size 360x360 with 1 Axes>"
      ]
     },
     "metadata": {
      "tags": []
     },
     "output_type": "display_data"
    }
   ],
   "source": [
    "sum_D = len(one_hot_categorical_cols.Survived)\n",
    "sum_M = (one_hot_categorical_cols.Survived.values==1).sum()\n",
    "sum_B = sum_D - sum_M\n",
    "frac_B = sum_B/sum_D\n",
    "frac_M = 1 - frac_B\n",
    "labels = 'Did not Survive ('+str(sum_B)+')', 'Survived ('+str(sum_M)+')'\n",
    "sizes = [frac_B, frac_M]\n",
    "explode = (0, 0.1)  # only \"explode\" the 2nd slice (i.e. 'Hogs')\n",
    "\n",
    "fig1, ax1 = plt.subplots(figsize=(4, 4))\n",
    "ax1.pie(sizes, explode=explode, labels=labels, autopct='%1.2f%%', shadow=True, startangle=90, textprops={'fontsize': 12})\n",
    "\n",
    "ax1.set_title('Prevalence of survival ('+str(sum_D)+')', fontsize=14)\n",
    "ax1.axis('equal')\n",
    "ax1.legend(fontsize=12, loc='best')\n",
    "plt.show()"
   ]
  },
  {
   "cell_type": "markdown",
   "metadata": {
    "colab_type": "text",
    "id": "-xkoDI5u7TAH"
   },
   "source": [
    "The dataset is pretty unbalanced, as the percentage of survivors from Titanic is very low (approx 30%)."
   ]
  },
  {
   "cell_type": "markdown",
   "metadata": {
    "colab_type": "text",
    "id": "2pDYuVLc2WFw"
   },
   "source": [
    "### Train : Test split"
   ]
  },
  {
   "cell_type": "markdown",
   "metadata": {
    "colab_type": "text",
    "id": "j89gpcf1lmd8"
   },
   "source": [
    "I am splitting the dataset in the ratio of ```80%``` training data and ```20%``` testing data, with a fixed random seed of 5, to ensure the same split every time this code is executed. \n",
    "\n",
    "Also, I am using random shuffling to ensure that with this fixed seed, I am able to shuffle the original data in a particular order so that the training set is the same every time and so is the testing set."
   ]
  },
  {
   "cell_type": "code",
   "execution_count": 27,
   "metadata": {
    "colab": {},
    "colab_type": "code",
    "id": "VxlZXJwu2zzU"
   },
   "outputs": [],
   "source": [
    "y = one_hot_categorical_cols[\"Survived\"].values\n",
    "x = one_hot_categorical_cols.drop(\"Survived\", axis=1)"
   ]
  },
  {
   "cell_type": "code",
   "execution_count": 28,
   "metadata": {
    "colab": {
     "base_uri": "https://localhost:8080/",
     "height": 138
    },
    "colab_type": "code",
    "id": "sNXBE4qV2x3T",
    "outputId": "9d8798ff-0a7b-42b5-fd25-35c14adf1000"
   },
   "outputs": [
    {
     "name": "stdout",
     "output_type": "stream",
     "text": [
      "------------------------------------\n",
      "The shapes of the different data : (n_samples,n_features)\n",
      "x train:  (1047, 25)\n",
      "x test:  (262, 25)\n",
      "y train:  (1047,)\n",
      "y test:  (262,)\n",
      "------------------------------------\n"
     ]
    }
   ],
   "source": [
    "train_ratio = 0.80\n",
    "test_ratio = 0.20\n",
    "\n",
    "X_train, X_test, y_train, y_test = train_test_split(x, y, test_size = 1 - train_ratio, random_state = 5, shuffle = True)\n",
    "print(\"------------------------------------\")\n",
    "print(\"The shapes of the different data : (n_samples,n_features)\")\n",
    "print(\"x train: \",X_train.shape)\n",
    "print(\"x test: \",X_test.shape)\n",
    "print(\"y train: \",y_train.shape)\n",
    "print(\"y test: \",y_test.shape)\n",
    "print(\"------------------------------------\")"
   ]
  },
  {
   "cell_type": "markdown",
   "metadata": {
    "colab_type": "text",
    "id": "nm-E3CYsrzN8"
   },
   "source": [
    "Let's also observe the distribution of class labels in training and testing data."
   ]
  },
  {
   "cell_type": "code",
   "execution_count": 29,
   "metadata": {
    "colab": {
     "base_uri": "https://localhost:8080/",
     "height": 549
    },
    "colab_type": "code",
    "id": "y1ZRsHpHpbFB",
    "outputId": "0f843cfa-19e1-4e4a-873a-6cfdc5ac1e4e"
   },
   "outputs": [
    {
     "data": {
      "image/png": "[encoded data removed]",
      "text/plain": [
       "<Figure size 1800x540 with 2 Axes>"
      ]
     },
     "metadata": {
      "tags": []
     },
     "output_type": "display_data"
    }
   ],
   "source": [
    "sum_tr  = len(y_train)\n",
    "sum_tr_M = (y_train==1).sum()\n",
    "sum_tr_B = sum_tr - sum_tr_M\n",
    "frac_tr_B = sum_tr_B/sum_tr\n",
    "frac_tr_M = 1 - frac_tr_B\n",
    "sizes_tr = [frac_tr_B, frac_tr_M]\n",
    "explode_tr = (0, 0.1)  # only \"explode\" the 2nd slice \n",
    "labels_tr = 'Did not Survive ('+str(sum_tr_B)+')', 'Survived ('+str(sum_tr_M)+')'\n",
    "\n",
    "sum_ts   = len(y_test)\n",
    "sum_ts_M = (y_test==1).sum()\n",
    "sum_ts_B = sum_ts - sum_ts_M\n",
    "frac_ts_B = sum_ts_B/sum_ts\n",
    "frac_ts_M = 1 - frac_ts_B\n",
    "sizes_ts = [frac_ts_B, frac_ts_M]\n",
    "explode_ts = (0, 0.1)  # only \"explode\" the 2nd slice \n",
    "labels_ts = 'Did not Survive ('+str(sum_ts_B)+')', 'Survived ('+str(sum_ts_M)+')'\n",
    "\n",
    "fig, axes = plt.subplots(nrows=1, ncols=2, figsize=(20, 6))\n",
    "axes[0].pie(sizes_tr, explode=explode_tr, labels=labels_tr, autopct='%1.2f%%', shadow=True, startangle=90, textprops={'fontsize': 11})\n",
    "axes[0].set_title('Training set ('+str(sum_tr)+')', fontsize=12)\n",
    "axes[0].legend(fontsize=12, loc='best')\n",
    "\n",
    "axes[1].pie(sizes_ts, explode=explode_ts, labels=labels_ts, autopct='%1.2f%%', shadow=True, startangle=90, textprops={'fontsize': 11})\n",
    "axes[1].set_title('Test set ('+str(sum_ts)+')', fontsize=12)\n",
    "axes[1].legend(fontsize=12, loc='best')\n",
    "\n",
    "plt.tight_layout()\n",
    "plt.show()"
   ]
  },
  {
   "cell_type": "markdown",
   "metadata": {
    "colab_type": "text",
    "id": "MWakZKpa6tJV"
   },
   "source": [
    "The distribution of the class labels in the taining and testing data are similar and mirror the distribution of the original dataset."
   ]
  },
  {
   "cell_type": "markdown",
   "metadata": {
    "colab_type": "text",
    "id": "ZE2k8rmZD7d5"
   },
   "source": [
    "### SVM classifiers - Exploring different Kernels\n",
    "\n",
    "[SVM in sklearn](https://scikit-learn.org/stable/modules/generated/sklearn.svm.SVC.html)\n",
    "\n",
    "Train the SVM using the below kernels with parameters, present the support vectors in the table of the comparison of the model along with accuracy.\n",
    "\n",
    "- Linear\n",
    "- Polynomial:  where degree d is set to 2, 3 and  5\n",
    "- RBF\n",
    "- Sigmoid "
   ]
  },
  {
   "cell_type": "code",
   "execution_count": 30,
   "metadata": {
    "colab": {
     "base_uri": "https://localhost:8080/",
     "height": 972
    },
    "colab_type": "code",
    "id": "03kKQW7CjPW-",
    "outputId": "6995a627-4879-4d26-8033-2d819cd01fda"
   },
   "outputs": [
    {
     "name": "stdout",
     "output_type": "stream",
     "text": [
      "--- clf1 - SVM, Linear Kernel ---\n"
     ]
    },
    {
     "data": {
      "image/png": "[encoded data removed]",
      "text/plain": [
       "<Figure size 360x360 with 2 Axes>"
      ]
     },
     "metadata": {
      "tags": []
     },
     "output_type": "display_data"
    },
    {
     "name": "stdout",
     "output_type": "stream",
     "text": [
      "------------------------------------------------\n",
      "Training accuracy: 79.37 [%] \n",
      "Test accuracy :     79.77 [%]\n",
      "\n",
      "------------------------------------------------\n",
      "Support Vectors :\n",
      " [[3.60000000e+01 5.12121894e-01 0.00000000e+00 ... 1.00000000e+00\n",
      "  0.00000000e+00 0.00000000e+00]\n",
      " [2.80000000e+01 2.82207221e-02 0.00000000e+00 ... 1.00000000e+00\n",
      "  0.00000000e+00 0.00000000e+00]\n",
      " [2.80000000e+01 2.82127195e-02 0.00000000e+00 ... 1.00000000e+00\n",
      "  0.00000000e+00 0.00000000e+00]\n",
      " ...\n",
      " [1.80000000e+01 1.57125536e-02 1.00000000e+00 ... 0.00000000e+00\n",
      "  0.00000000e+00 1.00000000e+00]\n",
      " [4.00000000e+01 7.61229303e-02 0.00000000e+00 ... 0.00000000e+00\n",
      "  0.00000000e+00 1.00000000e+00]\n",
      " [2.80000000e+01 5.85561003e-02 1.00000000e+00 ... 0.00000000e+00\n",
      "  0.00000000e+00 1.00000000e+00]]\n",
      "------------------------------------------------\n",
      "\n",
      "Let's observe the first 5 support vectors a bit more closely : \n",
      "\n",
      "     0         1    2    3    4    5    6   ...   18   19   20   21   22   23   24\n",
      "0  36.0  0.512122  0.0  1.0  1.0  0.0  0.0  ...  0.0  1.0  0.0  0.0  1.0  0.0  0.0\n",
      "1  28.0  0.028221  0.0  1.0  0.0  1.0  0.0  ...  0.0  0.0  0.0  1.0  1.0  0.0  0.0\n",
      "2  28.0  0.028213  0.0  1.0  0.0  1.0  0.0  ...  0.0  0.0  0.0  1.0  1.0  0.0  0.0\n",
      "3  18.0  0.013175  0.0  1.0  1.0  0.0  0.0  ...  0.0  0.0  0.0  1.0  0.0  1.0  0.0\n",
      "4  24.0  0.015127  0.0  1.0  1.0  0.0  0.0  ...  0.0  0.0  0.0  1.0  0.0  1.0  0.0\n",
      "\n",
      "[5 rows x 25 columns]\n",
      "------------------------------------------------\n",
      "\n",
      "Support Vectors:\n",
      " number of Support Vectors: 521 number of features: 25\n"
     ]
    }
   ],
   "source": [
    "name = 'clf1 - SVM, Linear Kernel'\n",
    "_, train_score, test_score, supports = Classification(clf_dict[0], name, True)\n",
    "print('\\nSupport Vectors:\\n','number of Support Vectors:', supports.shape[0],'number of features:', supports.shape[1])\n",
    "train_accuracies.append(train_score)\n",
    "test_accuracies.append(test_score)\n",
    "support_vectors.append(supports)"
   ]
  },
  {
   "cell_type": "code",
   "execution_count": 31,
   "metadata": {
    "colab": {
     "base_uri": "https://localhost:8080/",
     "height": 954
    },
    "colab_type": "code",
    "id": "KR9FYdeojciz",
    "outputId": "8645cc2b-95d9-431d-f090-605471aba693"
   },
   "outputs": [
    {
     "name": "stdout",
     "output_type": "stream",
     "text": [
      "--- clf2 - SVM, Polynomial Kernel, degree = 2 ---\n"
     ]
    },
    {
     "data": {
      "image/png": "[encoded data removed]",
      "text/plain": [
       "<Figure size 360x360 with 2 Axes>"
      ]
     },
     "metadata": {
      "tags": []
     },
     "output_type": "display_data"
    },
    {
     "name": "stdout",
     "output_type": "stream",
     "text": [
      "------------------------------------------------\n",
      "Training accuracy: 74.50 [%] \n",
      "Test accuracy :     71.37 [%]\n",
      "\n",
      "------------------------------------------------\n",
      "Support Vectors :\n",
      " [[3.60000000e+01 5.12121894e-01 0.00000000e+00 ... 1.00000000e+00\n",
      "  0.00000000e+00 0.00000000e+00]\n",
      " [2.80000000e+01 2.82207221e-02 0.00000000e+00 ... 1.00000000e+00\n",
      "  0.00000000e+00 0.00000000e+00]\n",
      " [2.80000000e+01 2.82127195e-02 0.00000000e+00 ... 1.00000000e+00\n",
      "  0.00000000e+00 0.00000000e+00]\n",
      " ...\n",
      " [1.80000000e+01 1.57125536e-02 1.00000000e+00 ... 0.00000000e+00\n",
      "  0.00000000e+00 1.00000000e+00]\n",
      " [4.00000000e+01 7.61229303e-02 0.00000000e+00 ... 0.00000000e+00\n",
      "  0.00000000e+00 1.00000000e+00]\n",
      " [2.80000000e+01 5.85561003e-02 1.00000000e+00 ... 0.00000000e+00\n",
      "  0.00000000e+00 1.00000000e+00]]\n",
      "------------------------------------------------\n",
      "\n",
      "Let's observe the first 5 support vectors a bit more closely : \n",
      "\n",
      "     0         1    2    3    4    5    6   ...   18   19   20   21   22   23   24\n",
      "0  36.0  0.512122  0.0  1.0  1.0  0.0  0.0  ...  0.0  1.0  0.0  0.0  1.0  0.0  0.0\n",
      "1  28.0  0.028221  0.0  1.0  0.0  1.0  0.0  ...  0.0  0.0  0.0  1.0  1.0  0.0  0.0\n",
      "2  28.0  0.028213  0.0  1.0  0.0  1.0  0.0  ...  0.0  0.0  0.0  1.0  1.0  0.0  0.0\n",
      "3  18.0  0.013175  0.0  1.0  1.0  0.0  0.0  ...  0.0  0.0  0.0  1.0  0.0  1.0  0.0\n",
      "4  24.0  0.015127  0.0  1.0  1.0  0.0  0.0  ...  0.0  0.0  0.0  1.0  0.0  1.0  0.0\n",
      "\n",
      "[5 rows x 25 columns]\n",
      "------------------------------------------------\n",
      "Support Vectors:\n",
      " number of Support Vectors: 556 number of features: 25\n"
     ]
    }
   ],
   "source": [
    "name = 'clf2 - SVM, Polynomial Kernel, degree = 2'\n",
    "_, train_score, test_score, supports = Classification(clf_dict[1], name, True)\n",
    "print('Support Vectors:\\n','number of Support Vectors:', supports.shape[0],'number of features:', supports.shape[1])\n",
    "train_accuracies.append(train_score)\n",
    "test_accuracies.append(test_score)\n",
    "support_vectors.append(supports)"
   ]
  },
  {
   "cell_type": "code",
   "execution_count": 32,
   "metadata": {
    "colab": {
     "base_uri": "https://localhost:8080/",
     "height": 972
    },
    "colab_type": "code",
    "id": "BBMM0L5PjdkA",
    "outputId": "f93ca073-f90e-4f12-da56-d09809675587"
   },
   "outputs": [
    {
     "name": "stdout",
     "output_type": "stream",
     "text": [
      "--- clf3 - SVM, Polynomial Kernel, degree = 3 ---\n"
     ]
    },
    {
     "data": {
      "image/png": "[encoded data removed]",
      "text/plain": [
       "<Figure size 360x360 with 2 Axes>"
      ]
     },
     "metadata": {
      "tags": []
     },
     "output_type": "display_data"
    },
    {
     "name": "stdout",
     "output_type": "stream",
     "text": [
      "------------------------------------------------\n",
      "Training accuracy: 74.50 [%] \n",
      "Test accuracy :     71.37 [%]\n",
      "\n",
      "------------------------------------------------\n",
      "Support Vectors :\n",
      " [[4.10000000e+01 5.95320353e-02 1.00000000e+00 ... 0.00000000e+00\n",
      "  0.00000000e+00 1.00000000e+00]\n",
      " [3.60000000e+01 5.12121894e-01 0.00000000e+00 ... 1.00000000e+00\n",
      "  0.00000000e+00 0.00000000e+00]\n",
      " [2.80000000e+01 2.82207221e-02 0.00000000e+00 ... 1.00000000e+00\n",
      "  0.00000000e+00 0.00000000e+00]\n",
      " ...\n",
      " [1.80000000e+01 1.57125536e-02 1.00000000e+00 ... 0.00000000e+00\n",
      "  0.00000000e+00 1.00000000e+00]\n",
      " [4.00000000e+01 7.61229303e-02 0.00000000e+00 ... 0.00000000e+00\n",
      "  0.00000000e+00 1.00000000e+00]\n",
      " [2.80000000e+01 5.85561003e-02 1.00000000e+00 ... 0.00000000e+00\n",
      "  0.00000000e+00 1.00000000e+00]]\n",
      "------------------------------------------------\n",
      "\n",
      "Let's observe the first 5 support vectors a bit more closely : \n",
      "\n",
      "     0         1    2    3    4    5    6   ...   18   19   20   21   22   23   24\n",
      "0  41.0  0.059532  1.0  0.0  1.0  0.0  0.0  ...  0.0  1.0  0.0  0.0  0.0  0.0  1.0\n",
      "1  36.0  0.512122  0.0  1.0  1.0  0.0  0.0  ...  0.0  1.0  0.0  0.0  1.0  0.0  0.0\n",
      "2  28.0  0.028221  0.0  1.0  0.0  1.0  0.0  ...  0.0  0.0  0.0  1.0  1.0  0.0  0.0\n",
      "3  33.0  0.009759  1.0  0.0  1.0  0.0  0.0  ...  0.0  1.0  0.0  0.0  0.0  0.0  1.0\n",
      "4  28.0  0.028213  0.0  1.0  0.0  1.0  0.0  ...  0.0  0.0  0.0  1.0  1.0  0.0  0.0\n",
      "\n",
      "[5 rows x 25 columns]\n",
      "------------------------------------------------\n",
      "\n",
      "Support Vectors:\n",
      " number of Support Vectors: 567 number of features: 25\n"
     ]
    }
   ],
   "source": [
    "name = 'clf3 - SVM, Polynomial Kernel, degree = 3'\n",
    "_, train_score, test_score, supports = Classification(clf_dict[2], name, True)\n",
    "print('\\nSupport Vectors:\\n','number of Support Vectors:', supports.shape[0],'number of features:', supports.shape[1])\n",
    "train_accuracies.append(train_score)\n",
    "test_accuracies.append(test_score)\n",
    "support_vectors.append(supports)"
   ]
  },
  {
   "cell_type": "code",
   "execution_count": 33,
   "metadata": {
    "colab": {
     "base_uri": "https://localhost:8080/",
     "height": 972
    },
    "colab_type": "code",
    "id": "UzxWFnysjehL",
    "outputId": "e6760e3f-c6e6-4222-f893-40e564910fb1"
   },
   "outputs": [
    {
     "name": "stdout",
     "output_type": "stream",
     "text": [
      "--- clf4 - SVM, Polynomial Kernel, degree = 5 ---\n"
     ]
    },
    {
     "data": {
      "image/png": "[encoded data removed]",
      "text/plain": [
       "<Figure size 360x360 with 2 Axes>"
      ]
     },
     "metadata": {
      "tags": []
     },
     "output_type": "display_data"
    },
    {
     "name": "stdout",
     "output_type": "stream",
     "text": [
      "------------------------------------------------\n",
      "Training accuracy: 74.50 [%] \n",
      "Test accuracy :     71.37 [%]\n",
      "\n",
      "------------------------------------------------\n",
      "Support Vectors :\n",
      " [[4.10000000e+01 5.95320353e-02 1.00000000e+00 ... 0.00000000e+00\n",
      "  0.00000000e+00 1.00000000e+00]\n",
      " [3.60000000e+01 5.12121894e-01 0.00000000e+00 ... 1.00000000e+00\n",
      "  0.00000000e+00 0.00000000e+00]\n",
      " [2.80000000e+01 2.82207221e-02 0.00000000e+00 ... 1.00000000e+00\n",
      "  0.00000000e+00 0.00000000e+00]\n",
      " ...\n",
      " [1.80000000e+01 1.57125536e-02 1.00000000e+00 ... 0.00000000e+00\n",
      "  0.00000000e+00 1.00000000e+00]\n",
      " [4.00000000e+01 7.61229303e-02 0.00000000e+00 ... 0.00000000e+00\n",
      "  0.00000000e+00 1.00000000e+00]\n",
      " [2.80000000e+01 5.85561003e-02 1.00000000e+00 ... 0.00000000e+00\n",
      "  0.00000000e+00 1.00000000e+00]]\n",
      "------------------------------------------------\n",
      "\n",
      "Let's observe the first 5 support vectors a bit more closely : \n",
      "\n",
      "     0         1    2    3    4    5    6   ...   18   19   20   21   22   23   24\n",
      "0  41.0  0.059532  1.0  0.0  1.0  0.0  0.0  ...  0.0  1.0  0.0  0.0  0.0  0.0  1.0\n",
      "1  36.0  0.512122  0.0  1.0  1.0  0.0  0.0  ...  0.0  1.0  0.0  0.0  1.0  0.0  0.0\n",
      "2  28.0  0.028221  0.0  1.0  0.0  1.0  0.0  ...  0.0  0.0  0.0  1.0  1.0  0.0  0.0\n",
      "3  33.0  0.009759  1.0  0.0  1.0  0.0  0.0  ...  0.0  1.0  0.0  0.0  0.0  0.0  1.0\n",
      "4  28.0  0.028213  0.0  1.0  0.0  1.0  0.0  ...  0.0  0.0  0.0  1.0  1.0  0.0  0.0\n",
      "\n",
      "[5 rows x 25 columns]\n",
      "------------------------------------------------\n",
      "\n",
      "Support Vectors:\n",
      " number of Support Vectors: 558 number of features: 25\n"
     ]
    }
   ],
   "source": [
    "name = 'clf4 - SVM, Polynomial Kernel, degree = 5'\n",
    "_, train_score, test_score, supports = Classification(clf_dict[3], name, True)\n",
    "print('\\nSupport Vectors:\\n','number of Support Vectors:', supports.shape[0],'number of features:', supports.shape[1])\n",
    "train_accuracies.append(train_score)\n",
    "test_accuracies.append(test_score)\n",
    "support_vectors.append(supports)"
   ]
  },
  {
   "cell_type": "code",
   "execution_count": 34,
   "metadata": {
    "colab": {
     "base_uri": "https://localhost:8080/",
     "height": 972
    },
    "colab_type": "code",
    "id": "ittTe7zKjfBn",
    "outputId": "2d5fd109-ab49-4e20-c106-971f8cf445df"
   },
   "outputs": [
    {
     "name": "stdout",
     "output_type": "stream",
     "text": [
      "--- clf5 - SVM, RBF Kernel ---\n"
     ]
    },
    {
     "data": {
      "image/png": "[encoded data removed]",
      "text/plain": [
       "<Figure size 360x360 with 2 Axes>"
      ]
     },
     "metadata": {
      "tags": []
     },
     "output_type": "display_data"
    },
    {
     "name": "stdout",
     "output_type": "stream",
     "text": [
      "------------------------------------------------\n",
      "Training accuracy: 74.50 [%] \n",
      "Test accuracy :     71.37 [%]\n",
      "\n",
      "------------------------------------------------\n",
      "Support Vectors :\n",
      " [[4.10000000e+01 5.95320353e-02 1.00000000e+00 ... 0.00000000e+00\n",
      "  0.00000000e+00 1.00000000e+00]\n",
      " [3.60000000e+01 5.12121894e-01 0.00000000e+00 ... 1.00000000e+00\n",
      "  0.00000000e+00 0.00000000e+00]\n",
      " [2.80000000e+01 2.82207221e-02 0.00000000e+00 ... 1.00000000e+00\n",
      "  0.00000000e+00 0.00000000e+00]\n",
      " ...\n",
      " [1.80000000e+01 1.57125536e-02 1.00000000e+00 ... 0.00000000e+00\n",
      "  0.00000000e+00 1.00000000e+00]\n",
      " [4.00000000e+01 7.61229303e-02 0.00000000e+00 ... 0.00000000e+00\n",
      "  0.00000000e+00 1.00000000e+00]\n",
      " [2.80000000e+01 5.85561003e-02 1.00000000e+00 ... 0.00000000e+00\n",
      "  0.00000000e+00 1.00000000e+00]]\n",
      "------------------------------------------------\n",
      "\n",
      "Let's observe the first 5 support vectors a bit more closely : \n",
      "\n",
      "     0         1    2    3    4    5    6   ...   18   19   20   21   22   23   24\n",
      "0  41.0  0.059532  1.0  0.0  1.0  0.0  0.0  ...  0.0  1.0  0.0  0.0  0.0  0.0  1.0\n",
      "1  36.0  0.512122  0.0  1.0  1.0  0.0  0.0  ...  0.0  1.0  0.0  0.0  1.0  0.0  0.0\n",
      "2  28.0  0.028221  0.0  1.0  0.0  1.0  0.0  ...  0.0  0.0  0.0  1.0  1.0  0.0  0.0\n",
      "3  33.0  0.009759  1.0  0.0  1.0  0.0  0.0  ...  0.0  1.0  0.0  0.0  0.0  0.0  1.0\n",
      "4  28.0  0.028213  0.0  1.0  0.0  1.0  0.0  ...  0.0  0.0  0.0  1.0  1.0  0.0  0.0\n",
      "\n",
      "[5 rows x 25 columns]\n",
      "------------------------------------------------\n",
      "\n",
      "Support Vectors:\n",
      " number of Support Vectors: 550 number of features: 25\n"
     ]
    }
   ],
   "source": [
    "name = 'clf5 - SVM, RBF Kernel'\n",
    "_, train_score, test_score, supports = Classification(clf_dict[4], name, True)\n",
    "print('\\nSupport Vectors:\\n','number of Support Vectors:', supports.shape[0],'number of features:', supports.shape[1])\n",
    "train_accuracies.append(train_score)\n",
    "test_accuracies.append(test_score)\n",
    "support_vectors.append(supports)"
   ]
  },
  {
   "cell_type": "code",
   "execution_count": 35,
   "metadata": {
    "colab": {
     "base_uri": "https://localhost:8080/",
     "height": 972
    },
    "colab_type": "code",
    "id": "n6nC_dbJjfeA",
    "outputId": "2dfa203b-980d-4bd4-d54b-be6369b2a3ce"
   },
   "outputs": [
    {
     "name": "stdout",
     "output_type": "stream",
     "text": [
      "--- clf6 - SVM, Sigmoid Kernel ---\n"
     ]
    },
    {
     "data": {
      "image/png": "[encoded data removed]",
      "text/plain": [
       "<Figure size 360x360 with 2 Axes>"
      ]
     },
     "metadata": {
      "tags": []
     },
     "output_type": "display_data"
    },
    {
     "name": "stdout",
     "output_type": "stream",
     "text": [
      "------------------------------------------------\n",
      "Training accuracy: 64.28 [%] \n",
      "Test accuracy :     61.07 [%]\n",
      "\n",
      "------------------------------------------------\n",
      "Support Vectors :\n",
      " [[4.10000000e+01 5.95320353e-02 1.00000000e+00 ... 0.00000000e+00\n",
      "  0.00000000e+00 1.00000000e+00]\n",
      " [1.00000000e+00 3.25962291e-02 0.00000000e+00 ... 0.00000000e+00\n",
      "  0.00000000e+00 1.00000000e+00]\n",
      " [5.00000000e+01 2.53743101e-02 1.00000000e+00 ... 0.00000000e+00\n",
      "  0.00000000e+00 1.00000000e+00]\n",
      " ...\n",
      " [2.70000000e+01 1.52163882e-02 1.00000000e+00 ... 0.00000000e+00\n",
      "  0.00000000e+00 1.00000000e+00]\n",
      " [1.80000000e+01 1.57125536e-02 1.00000000e+00 ... 0.00000000e+00\n",
      "  0.00000000e+00 1.00000000e+00]\n",
      " [2.80000000e+01 5.85561003e-02 1.00000000e+00 ... 0.00000000e+00\n",
      "  0.00000000e+00 1.00000000e+00]]\n",
      "------------------------------------------------\n",
      "\n",
      "Let's observe the first 5 support vectors a bit more closely : \n",
      "\n",
      "     0         1    2    3    4    5    6   ...   18   19   20   21   22   23   24\n",
      "0  41.0  0.059532  1.0  0.0  1.0  0.0  0.0  ...  0.0  1.0  0.0  0.0  0.0  0.0  1.0\n",
      "1   1.0  0.032596  0.0  1.0  0.0  1.0  0.0  ...  0.0  0.0  0.0  1.0  0.0  0.0  1.0\n",
      "2  50.0  0.025374  1.0  0.0  1.0  0.0  0.0  ...  0.0  0.0  1.0  0.0  0.0  0.0  1.0\n",
      "3  48.0  0.154588  0.0  1.0  0.0  1.0  0.0  ...  0.0  1.0  0.0  0.0  1.0  0.0  0.0\n",
      "4  40.5  0.015127  1.0  0.0  1.0  0.0  0.0  ...  0.0  0.0  0.0  1.0  0.0  1.0  0.0\n",
      "\n",
      "[5 rows x 25 columns]\n",
      "------------------------------------------------\n",
      "\n",
      "Support Vectors:\n",
      " number of Support Vectors: 388 number of features: 25\n"
     ]
    }
   ],
   "source": [
    "name = 'clf6 - SVM, Sigmoid Kernel'\n",
    "_, train_score, test_score, supports = Classification(clf_dict[5], name, True)\n",
    "print('\\nSupport Vectors:\\n','number of Support Vectors:', supports.shape[0],'number of features:', supports.shape[1])\n",
    "train_accuracies.append(train_score)\n",
    "test_accuracies.append(test_score)\n",
    "support_vectors.append(supports)"
   ]
  },
  {
   "cell_type": "markdown",
   "metadata": {
    "colab_type": "text",
    "id": "OrHnr-ZX0R5a"
   },
   "source": [
    "#### Compare the different models"
   ]
  },
  {
   "cell_type": "code",
   "execution_count": 36,
   "metadata": {
    "colab": {},
    "colab_type": "code",
    "id": "XFiP15F6vzhx"
   },
   "outputs": [],
   "source": [
    "train_results = pd.DataFrame(train_accuracies)\n",
    "test_results = pd.DataFrame(test_accuracies)\n",
    "support_results = pd.DataFrame(support_vectors)\n",
    "results = pd.concat([train_results, test_results, support_results], axis=1, ignore_index=True)\n",
    "results.columns = [\"Accuracy (Training)\", \"Accuracy (Testing)\", \"Support_Vectors\"]\n",
    "file_path = '/content/drive/My Drive/ML_LAB/Assign_3/titanic/' \n",
    "results_path = file_path + 'results.csv'\n",
    "results.to_csv (results_path, index = False, header=True)"
   ]
  },
  {
   "cell_type": "markdown",
   "metadata": {
    "colab_type": "text",
    "id": "IS1jbR734gnf"
   },
   "source": [
    "- ```Model 0``` - Linear kernel\n",
    "- ```Model 1``` - Polynomial kernel (degree = 2)\n",
    "- ```Model 2``` - Polynomial kernel (degree = 3)\n",
    "- ```Model 3``` - Polynomial kernel (degree = 5)\n",
    "- ```Model 4``` - RBF kernel\n",
    "- ```Model 5``` - Sigmoid kernel"
   ]
  },
  {
   "cell_type": "code",
   "execution_count": 37,
   "metadata": {
    "colab": {
     "base_uri": "https://localhost:8080/",
     "height": 237
    },
    "colab_type": "code",
    "id": "PpUy3ShA5P-X",
    "outputId": "8a32c4b5-e6c4-44b6-99c9-09478f2a67ef"
   },
   "outputs": [
    {
     "data": {
      "text/html": [
       "<div>\n",
       "<style scoped>\n",
       "    .dataframe tbody tr th:only-of-type {\n",
       "        vertical-align: middle;\n",
       "    }\n",
       "\n",
       "    .dataframe tbody tr th {\n",
       "        vertical-align: top;\n",
       "    }\n",
       "\n",
       "    .dataframe thead th {\n",
       "        text-align: right;\n",
       "    }\n",
       "</style>\n",
       "<table border=\"1\" class=\"dataframe\">\n",
       "  <thead>\n",
       "    <tr style=\"text-align: right;\">\n",
       "      <th></th>\n",
       "      <th>Accuracy (Training)</th>\n",
       "      <th>Accuracy (Testing)</th>\n",
       "      <th>Support_Vectors</th>\n",
       "    </tr>\n",
       "  </thead>\n",
       "  <tbody>\n",
       "    <tr>\n",
       "      <th>0</th>\n",
       "      <td>79.369628</td>\n",
       "      <td>79.770992</td>\n",
       "      <td>[[36.0, 0.5121218935012878, 0.0, 1.0, 1.0, 0.0...</td>\n",
       "    </tr>\n",
       "    <tr>\n",
       "      <th>1</th>\n",
       "      <td>74.498567</td>\n",
       "      <td>71.374046</td>\n",
       "      <td>[[36.0, 0.5121218935012878, 0.0, 1.0, 1.0, 0.0...</td>\n",
       "    </tr>\n",
       "    <tr>\n",
       "      <th>2</th>\n",
       "      <td>74.498567</td>\n",
       "      <td>71.374046</td>\n",
       "      <td>[[41.0, 0.05953203526170282, 1.0, 0.0, 1.0, 0....</td>\n",
       "    </tr>\n",
       "    <tr>\n",
       "      <th>3</th>\n",
       "      <td>74.498567</td>\n",
       "      <td>71.374046</td>\n",
       "      <td>[[41.0, 0.05953203526170282, 1.0, 0.0, 1.0, 0....</td>\n",
       "    </tr>\n",
       "    <tr>\n",
       "      <th>4</th>\n",
       "      <td>74.498567</td>\n",
       "      <td>71.374046</td>\n",
       "      <td>[[41.0, 0.05953203526170282, 1.0, 0.0, 1.0, 0....</td>\n",
       "    </tr>\n",
       "    <tr>\n",
       "      <th>5</th>\n",
       "      <td>64.278892</td>\n",
       "      <td>61.068702</td>\n",
       "      <td>[[41.0, 0.05953203526170282, 1.0, 0.0, 1.0, 0....</td>\n",
       "    </tr>\n",
       "  </tbody>\n",
       "</table>\n",
       "</div>"
      ],
      "text/plain": [
       "   Accuracy (Training)  ...                                    Support_Vectors\n",
       "0            79.369628  ...  [[36.0, 0.5121218935012878, 0.0, 1.0, 1.0, 0.0...\n",
       "1            74.498567  ...  [[36.0, 0.5121218935012878, 0.0, 1.0, 1.0, 0.0...\n",
       "2            74.498567  ...  [[41.0, 0.05953203526170282, 1.0, 0.0, 1.0, 0....\n",
       "3            74.498567  ...  [[41.0, 0.05953203526170282, 1.0, 0.0, 1.0, 0....\n",
       "4            74.498567  ...  [[41.0, 0.05953203526170282, 1.0, 0.0, 1.0, 0....\n",
       "5            64.278892  ...  [[41.0, 0.05953203526170282, 1.0, 0.0, 1.0, 0....\n",
       "\n",
       "[6 rows x 3 columns]"
      ]
     },
     "execution_count": 37,
     "metadata": {
      "tags": []
     },
     "output_type": "execute_result"
    }
   ],
   "source": [
    "results"
   ]
  },
  {
   "cell_type": "code",
   "execution_count": 38,
   "metadata": {
    "colab": {
     "base_uri": "https://localhost:8080/",
     "height": 345
    },
    "colab_type": "code",
    "id": "FYFiyIiMtCrA",
    "outputId": "19650083-1b50-4ea9-8f59-9ca557a8dad9"
   },
   "outputs": [
    {
     "data": {
      "image/png": "[encoded data removed]",
      "text/plain": [
       "<Figure size 360x360 with 1 Axes>"
      ]
     },
     "metadata": {
      "tags": []
     },
     "output_type": "display_data"
    }
   ],
   "source": [
    "_ = plt.plot(train_accuracies, 'b', test_accuracies, 'r')\n",
    "plt.ylabel('Accuracy - Test(red), Train(blue)')\n",
    "_ = plt.xlabel('i-th model')\n",
    "plt.show()"
   ]
  },
  {
   "cell_type": "markdown",
   "metadata": {
    "colab_type": "text",
    "id": "gj4aGt0b5sKM"
   },
   "source": [
    "Clearly, for all the models, training accuracy is greater than testing acuracy, as expected. The Linear Kernel had the best performance in terms of accuracy and the Sigmoid Kernel had the worst performance. All the other kernels give approximatel the same performance on test set.\n",
    "\n",
    "In order of decreasing test accuracy :<br>\n",
    "```Linear``` > ```Polynomial (degree=3) = Polynomial (degree=5) = Polynomial (degree=2) = RBF``` > ```Sigmoid```"
   ]
  }
 ],
 "metadata": {
  "colab": {
   "collapsed_sections": [
    "5xBX4nvSuIfD",
    "OeWXCeDlrX6R",
    "La15qihuoPE6",
    "rUzHuSa9oW6G",
    "PckZuT783XkI",
    "_zLkS4usXeMi",
    "34OvDQwn4R4E",
    "KlMDQCFOeZqr",
    "u8TCexE_edfk",
    "dCDzrW6Fmvnj",
    "7yNEFkDtnxJk",
    "b8gsXPO8seSX",
    "wxkKkGZTmSQd",
    "clYB-xNhroa2",
    "2pDYuVLc2WFw",
    "ZE2k8rmZD7d5",
    "OrHnr-ZX0R5a"
   ],
   "name": "4.1 - Titanic",
   "provenance": [],
   "toc_visible": true
  },
  "kernelspec": {
   "display_name": "Python 3",
   "language": "python",
   "name": "python3"
  },
  "language_info": {
   "codemirror_mode": {
    "name": "ipython",
    "version": 3
   },
   "file_extension": ".py",
   "mimetype": "text/x-python",
   "name": "python",
   "nbconvert_exporter": "python",
   "pygments_lexer": "ipython3",
   "version": "3.8.5"
  }
 },
 "nbformat": 4,
 "nbformat_minor": 1
}
